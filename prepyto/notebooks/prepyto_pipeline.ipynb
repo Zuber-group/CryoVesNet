{
 "cells": [
  {
   "cell_type": "code",
   "execution_count": 1,
   "id": "abandoned-brass",
   "metadata": {},
   "outputs": [
    {
     "name": "stdout",
     "output_type": "stream",
     "text": [
      "unetmic: tensorflow is missing, some function will fail\n",
      "blocks: tensorflow not found, some function will fail\n"
     ]
    },
    {
     "name": "stderr",
     "output_type": "stream",
     "text": [
      "/Users/bzuber/anaconda3/envs/DeepVesicles/lib/python3.9/site-packages/napari/_qt/__init__.py:37: UserWarning: \n",
      "    napari was tested with QT library `>=5.12.3`.\n",
      "    The version installed is 5.9.7. Please report any issues with this\n",
      "    specific QT version at https://github.com/Napari/napari/issues.\n",
      "    \n",
      "  warn(message=warn_message)\n"
     ]
    },
    {
     "name": "stdout",
     "output_type": "stream",
     "text": [
      "pipeline: tensorflow is not installed, some function will not work.\n"
     ]
    }
   ],
   "source": [
    "import prepyto"
   ]
  },
  {
   "cell_type": "code",
   "execution_count": 2,
   "id": "bacterial-apollo",
   "metadata": {},
   "outputs": [
    {
     "name": "stdout",
     "output_type": "stream",
     "text": [
      "Prepyto Pipeline: the pipeline is created for /Users/bzuber/Microscopic Anatomy Dropbox/Benoit Zuber/projects/deepvesicle/data/102_4e_trimmed\n",
      "Prepyto Pipeline: setting up prepyto directory\n",
      "Prepyto pipeline: Running unet segmentation if there are less than 7 file in ./deep directory\n",
      "Prepyto Pipeline: zooming the unet mask\n",
      "Skipping because a full sized deep mask is already saved on the disk.\n",
      "If you want to force the program to make a new full sized deep mask, set force_run to True.\n",
      "Prepyto Pipeline: running label_vesicles\n",
      "Prepyto Pipeline: restricting labels to segmentation region\n"
     ]
    },
    {
     "name": "stderr",
     "output_type": "stream",
     "text": [
      "finding global threshold on unet mask:   0%|          | 0/20 [00:00<?, ?it/s]"
     ]
    },
    {
     "name": "stdout",
     "output_type": "stream",
     "text": [
      "last output array name: deep_mask\n",
      "last mrc file saved : prepyto/Dummy_102.rec_zoomed_mask.mrc\n"
     ]
    },
    {
     "name": "stderr",
     "output_type": "stream",
     "text": [
      "finding global threshold on unet mask: 100%|██████████| 20/20 [01:26<00:00,  4.34s/it]\n",
      "reorganizing labels after label clean up: 100%|██████████| 2/2 [00:02<00:00,  1.40s/it]\n"
     ]
    },
    {
     "name": "stdout",
     "output_type": "stream",
     "text": [
      "last output array name: deep_labels\n",
      "last mrc file saved : prepyto/Dummy_102.rec_deep_labels.mrc\n",
      "Prepyto Pipeline: Making vesicles spherical.\n"
     ]
    },
    {
     "name": "stderr",
     "output_type": "stream",
     "text": [
      "fitting sphere to vesicles: 100%|██████████| 91/91 [00:06<00:00, 14.63it/s]\n"
     ]
    },
    {
     "name": "stdout",
     "output_type": "stream",
     "text": [
      "last output array name: sphere_labels\n",
      "last mrc file saved : prepyto/Dummy_102.rec_sphere.mrc\n"
     ]
    }
   ],
   "source": [
    "pl = prepyto.Pipeline(\"/Users/bzuber/Microscopic Anatomy Dropbox/Benoit Zuber/projects/deepvesicle/data/102_4e_trimmed\")\n",
    "pl.setup_prepyto_dir()\n",
    "pl.run_deep()\n",
    "pl.zoom()\n",
    "pl.label_vesicles()\n",
    "pl.make_spheres()"
   ]
  },
  {
   "cell_type": "markdown",
   "id": "mysterious-spectrum",
   "metadata": {},
   "source": [
    "### Outlier detection\n",
    "Detect outliers using multivariate statistics on 3 parameters of the detected spheres. We get a list of the most deviating labels (those that have a mahalanobis distance larger than min_mahalanobis_distance). So far the default min_mahalanobis_distance of 2.0 is good. If the red line on the plot does not include enough outliers to your liking, then use a lower value (optional parameter of pl.identify_sphere_outliers)."
   ]
  },
  {
   "cell_type": "code",
   "execution_count": 3,
   "id": "oriental-crown",
   "metadata": {},
   "outputs": [
    {
     "name": "stdout",
     "output_type": "stream",
     "text": [
      "       thickness     density  radius           center  mahalanobis\n",
      "label                                                             \n",
      "70             6   -4.842350      16  [168, 446, 291]     2.033909\n",
      "84             6   -3.680481      22  [201, 842, 401]     2.248192\n",
      "82             6   -3.642132      15  [188, 340, 359]     2.256307\n",
      "83            12   -1.159574      12  [185, 334, 353]     4.238253\n",
      "74             6  -10.151515       5  [168, 879, 339]     4.924652\n",
      "1              4 -154.854430       5   [26, 553, 268]     9.410710\n",
      "You should inspect the labels that have a high mahalanobis distance as they are the likeliest to be wrongly segmented\n"
     ]
    },
    {
     "data": {
      "image/png": "[encoded data removed]",
      "text/plain": [
       "<Figure size 432x288 with 1 Axes>"
      ]
     },
     "metadata": {
      "needs_background": "light"
     },
     "output_type": "display_data"
    }
   ],
   "source": [
    "pl.identify_spheres_outliers(min_mahalanobis_distance=)"
   ]
  },
  {
   "cell_type": "code",
   "execution_count": 5,
   "id": "tutorial-field",
   "metadata": {},
   "outputs": [
    {
     "name": "stdout",
     "output_type": "stream",
     "text": [
      "last output array name: mancorr_labels\n",
      "last mrc file saved : prepyto/Dummy_102.rec_mancorr.mrc\n"
     ]
    }
   ],
   "source": [
    "pl.fix_spheres_interactively()"
   ]
  },
  {
   "cell_type": "code",
   "execution_count": null,
   "id": "earned-latter",
   "metadata": {},
   "outputs": [],
   "source": []
  }
 ],
 "metadata": {
  "kernelspec": {
   "display_name": "Python 3",
   "language": "python",
   "name": "python3"
  },
  "language_info": {
   "codemirror_mode": {
    "name": "ipython",
    "version": 3
   },
   "file_extension": ".py",
   "mimetype": "text/x-python",
   "name": "python",
   "nbconvert_exporter": "python",
   "pygments_lexer": "ipython3",
   "version": "3.9.1"
  }
 },
 "nbformat": 4,
 "nbformat_minor": 5
}
