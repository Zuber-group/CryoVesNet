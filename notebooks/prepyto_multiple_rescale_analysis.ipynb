{
 "cells": [
  {
   "cell_type": "markdown",
   "id": "swiss-stomach",
   "metadata": {
    "pycharm": {
     "name": "#%% md\n"
    }
   },
   "source": [
    "# CryoVesNet semi automatic pipeline\n",
    "disable tensorflow thousands of messages and select a GPU that is hopefully not used\n"
   ]
  },
  {
   "cell_type": "code",
   "execution_count": null,
   "id": "obvious-penalty",
   "metadata": {
    "pycharm": {
     "name": "#%%\n"
    }
   },
   "outputs": [],
   "source": [
    "import warnings\n",
    "import os\n",
    "warnings.filterwarnings(\"ignore\")\n",
    "os.environ[\"TF_CPP_MIN_LOG_LEVEL\"]=\"2\"\n",
    "os.environ[\"CUDA_VISIBLE_DEVICES\"]=\"3\""
   ]
  },
  {
   "cell_type": "code",
   "execution_count": null,
   "id": "effective-buddy",
   "metadata": {
    "pycharm": {
     "name": "#%%\n"
    }
   },
   "outputs": [],
   "source": [
    "import cryovesnet\n",
    "import numpy as np\n",
    "import napari\n",
    "import tqdm\n",
    "import skimage\n",
    "import matplotlib.pyplot as plt"
   ]
  },
  {
   "cell_type": "code",
   "execution_count": null,
   "id": "proved-thermal",
   "metadata": {
    "pycharm": {
     "name": "#%%\n"
    }
   },
   "outputs": [],
   "source": [
    "dataset_directory = dataset_directory = \"/home/bzuber/projects/cryovesnet/102_4e_trimmed/\""
   ]
  },
  {
   "cell_type": "code",
   "execution_count": null,
   "id": "ranking-grenada",
   "metadata": {
    "pycharm": {
     "name": "#%%\n"
    }
   },
   "outputs": [],
   "source": [
    "pl = cryovesnet.Pipeline(dataset_directory)\n",
    "pl.setup_cryovesnet_dir()\n"
   ]
  },
  {
   "cell_type": "markdown",
   "id": "adjustable-belgium",
   "metadata": {
    "pycharm": {
     "name": "#%% md\n"
    }
   },
   "source": [
    "## Run the deep vesicle? \n",
    "if you haven't ran the next cell for this dataset, then do it (you'll need a GPU);\n",
    "\n",
    "otherwise skip it and run the next one."
   ]
  },
  {
   "cell_type": "code",
   "execution_count": null,
   "id": "imposed-scope",
   "metadata": {
    "collapsed": true,
    "jupyter": {
     "outputs_hidden": true
    },
    "pycharm": {
     "name": "#%%\n"
    }
   },
   "outputs": [],
   "source": [
    "pl.run_deep_at_multiple_rescale()"
   ]
  },
  {
   "cell_type": "code",
   "execution_count": null,
   "id": "overhead-timber",
   "metadata": {
    "pycharm": {
     "name": "#%%\n"
    }
   },
   "outputs": [],
   "source": [
    "pl.set_array('deep_mask')"
   ]
  },
  {
   "cell_type": "markdown",
   "id": "diagnostic-variation",
   "metadata": {
    "jupyter": {
     "source_hidden": true
    },
    "pycharm": {
     "name": "#%% md\n"
    }
   },
   "source": [
    "## label statistics\n",
    "We can select the best initial threshold for making spheres based on statistics"
   ]
  },
  {
   "cell_type": "code",
   "execution_count": null,
   "id": "taken-science",
   "metadata": {
    "pycharm": {
     "name": "#%%\n"
    }
   },
   "outputs": [],
   "source": [
    "diameter_dict = {}\n",
    "for threshold in tqdm.tqdm(np.arange(0.9,1,0.01)):\n",
    "    image_label = skimage.morphology.label(pl.deep_mask>threshold)\n",
    "    area = skimage.measure.regionprops_table(image_label, properties=('bbox_area',))['bbox_area']\n",
    "    diameter_dict[threshold] = area**(1/3)/pl.voxel_size"
   ]
  },
  {
   "cell_type": "code",
   "execution_count": null,
   "id": "beginning-indiana",
   "metadata": {
    "pycharm": {
     "name": "#%%\n"
    }
   },
   "outputs": [],
   "source": [
    "fig = plt.figure(figsize=(10,6))\n",
    "fig.suptitle(\"diameter distribution\")\n",
    "_ = plt.hist(list(diameter_dict.values())[::1], label=list(diameter_dict.keys())[::1],bins=5)\n",
    "_ = plt.legend()"
   ]
  },
  {
   "cell_type": "code",
   "execution_count": null,
   "id": "israeli-point",
   "metadata": {
    "pycharm": {
     "name": "#%%\n"
    }
   },
   "outputs": [],
   "source": [
    "fig = plt.figure(figsize=(10,6))\n",
    "fig.suptitle(\"number of labels\")\n",
    "plt.xlabel(\"threshold\")\n",
    "plt.ylabel(\"number of labels\")\n",
    "plt.grid()\n",
    "plt.scatter(x=list(diameter_dict.keys()), y=[len(v) for v in list(diameter_dict.values())])"
   ]
  },
  {
   "cell_type": "markdown",
   "id": "internal-documentation",
   "metadata": {
    "pycharm": {
     "name": "#%% md\n"
    }
   },
   "source": [
    "## How to chose the optimal starting threshold\n",
    "The higher the threshold, the lower the false positive but the higher the false negative. \n",
    "There is no single best threshold. \n",
    "\n",
    "On our test dataset, a threshold of 0.96 found most of the vesicles and gave only few false positives."
   ]
  },
  {
   "cell_type": "code",
   "execution_count": null,
   "id": "direct-agenda",
   "metadata": {
    "pycharm": {
     "name": "#%%\n"
    }
   },
   "outputs": [],
   "source": [
    "pl.label_vesicles_simply(threshold=0.96)"
   ]
  },
  {
   "cell_type": "code",
   "execution_count": null,
   "id": "announced-cargo",
   "metadata": {
    "pycharm": {
     "name": "#%%\n"
    }
   },
   "outputs": [],
   "source": [
    "pl.make_spheres()"
   ]
  },
  {
   "cell_type": "markdown",
   "id": "minus-respondent",
   "metadata": {
    "pycharm": {
     "name": "#%% md\n"
    }
   },
   "source": [
    "### optional visualization of deep_labels and sphere_labels"
   ]
  },
  {
   "cell_type": "code",
   "execution_count": null,
   "id": "regional-function",
   "metadata": {
    "pycharm": {
     "name": "#%%\n"
    }
   },
   "outputs": [],
   "source": [
    "pl.visualization_old_new('deep_labels','sphere_labels')"
   ]
  },
  {
   "cell_type": "markdown",
   "id": "afraid-shade",
   "metadata": {
    "pycharm": {
     "name": "#%% md\n"
    }
   },
   "source": [
    "### Outlier detection\n",
    "Detect outliers using multivariate statistics on 3 parameters of the detected spheres. We get a list of the most deviating labels (those that have a mahalanobis distance larger than min_mahalanobis_distance). So far the default min_mahalanobis_distance of 2.0 is good. If the red line on the plot does not include enough outliers to your liking, then use a lower value (optional parameter of pl.identify_sphere_outliers)."
   ]
  },
  {
   "cell_type": "code",
   "execution_count": null,
   "id": "collectible-cemetery",
   "metadata": {
    "pycharm": {
     "name": "#%%\n"
    }
   },
   "outputs": [],
   "source": [
    "pl.sphere_df.hist()"
   ]
  },
  {
   "cell_type": "code",
   "execution_count": null,
   "id": "static-frederick",
   "metadata": {
    "pycharm": {
     "name": "#%%\n"
    }
   },
   "outputs": [],
   "source": [
    "pl.identify_spheres_outliers(min_mahalanobis_distance=2)"
   ]
  },
  {
   "cell_type": "code",
   "execution_count": null,
   "id": "piano-product",
   "metadata": {
    "pycharm": {
     "name": "#%%\n"
    }
   },
   "outputs": [],
   "source": [
    "pl.fix_spheres_interactively()"
   ]
  },
  {
   "cell_type": "code",
   "execution_count": null,
   "id": "convinced-guyana",
   "metadata": {
    "pycharm": {
     "name": "#%%\n"
    }
   },
   "outputs": [],
   "source": [
    "pl.visualization_old_new('sphere_labels','mancorr_labels')"
   ]
  },
  {
   "cell_type": "markdown",
   "id": "olympic-maldives",
   "metadata": {
    "pycharm": {
     "name": "#%% md\n"
    }
   },
   "source": [
    "It is recommended to compute a new sphere dataframe (which is one of the steps of make_spheres()) in order to identify remaining outliers."
   ]
  },
  {
   "cell_type": "code",
   "execution_count": null,
   "id": "rubber-powder",
   "metadata": {
    "pycharm": {
     "name": "#%%\n"
    }
   },
   "outputs": [],
   "source": [
    "pl.compute_sphere_dataframe('mancorr_labels')"
   ]
  },
  {
   "cell_type": "code",
   "execution_count": null,
   "id": "official-tucson",
   "metadata": {
    "pycharm": {
     "name": "#%%\n"
    }
   },
   "outputs": [],
   "source": [
    "pl.sphere_df.hist()"
   ]
  },
  {
   "cell_type": "code",
   "execution_count": null,
   "id": "chubby-probe",
   "metadata": {
    "pycharm": {
     "name": "#%%\n"
    }
   },
   "outputs": [],
   "source": [
    "pl.identify_spheres_outliers()"
   ]
  },
  {
   "cell_type": "code",
   "execution_count": null,
   "id": "ultimate-camcorder",
   "metadata": {
    "pycharm": {
     "name": "#%%\n"
    }
   },
   "outputs": [],
   "source": [
    "pl.fix_spheres_interactively('mancorr_labels')"
   ]
  },
  {
   "cell_type": "code",
   "execution_count": null,
   "id": "shared-nirvana",
   "metadata": {
    "pycharm": {
     "name": "#%%\n"
    }
   },
   "outputs": [],
   "source": [
    "pl.compute_sphere_dataframe('mancorr_labels')"
   ]
  },
  {
   "cell_type": "code",
   "execution_count": null,
   "id": "healthy-anchor",
   "metadata": {
    "pycharm": {
     "name": "#%%\n"
    }
   },
   "outputs": [],
   "source": [
    "pl.identify_spheres_outliers()"
   ]
  },
  {
   "cell_type": "code",
   "execution_count": null,
   "id": "defined-google",
   "metadata": {
    "pycharm": {
     "name": "#%%\n"
    }
   },
   "outputs": [],
   "source": [
    "pl.visualization_old_new('sphere_labels','mancorr_labels')"
   ]
  },
  {
   "cell_type": "code",
   "execution_count": null,
   "id": "solid-local",
   "metadata": {
    "pycharm": {
     "name": "#%%\n"
    }
   },
   "outputs": [],
   "source": [
    "pl.make_full_modfile()\n",
    "pl.make_full_label_file()\n",
    "pl.initialize_pyto()"
   ]
  }
 ],
 "metadata": {
  "kernelspec": {
   "display_name": "Python 3 (ipykernel)",
   "language": "python",
   "name": "python3"
  },
  "language_info": {
   "codemirror_mode": {
    "name": "ipython",
    "version": 3
   },
   "file_extension": ".py",
   "mimetype": "text/x-python",
   "name": "python",
   "nbconvert_exporter": "python",
   "pygments_lexer": "ipython3",
   "version": "3.9.7"
  }
 },
 "nbformat": 4,
 "nbformat_minor": 5
}
