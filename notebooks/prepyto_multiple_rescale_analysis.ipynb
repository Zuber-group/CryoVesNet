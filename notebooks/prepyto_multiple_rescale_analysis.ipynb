{
 "cells": [
  {
   "cell_type": "markdown",
   "id": "swiss-stomach",
   "metadata": {},
   "source": [
    "# Prepyto semi automatic pipeline\n",
    "disable tensorflow thousands of messages and select a GPU that is hopefully not used\n"
   ]
  },
  {
   "cell_type": "code",
   "execution_count": 1,
   "id": "obvious-penalty",
   "metadata": {},
   "outputs": [],
   "source": [
    "import warnings\n",
    "import os\n",
    "warnings.filterwarnings(\"ignore\")\n",
    "os.environ[\"TF_CPP_MIN_LOG_LEVEL\"]=\"2\"\n",
    "os.environ[\"CUDA_VISIBLE_DEVICES\"]=\"3\""
   ]
  },
  {
   "cell_type": "code",
   "execution_count": 2,
   "id": "effective-buddy",
   "metadata": {},
   "outputs": [
    {
     "name": "stdout",
     "output_type": "stream",
     "text": [
      "WARNING:tensorflow:From /home/amin/anaconda3/envs/DeepVesicles/lib/python3.8/site-packages/tensorflow/python/compat/v2_compat.py:96: disable_resource_variables (from tensorflow.python.ops.variable_scope) is deprecated and will be removed in a future version.\n",
      "Instructions for updating:\n",
      "non-resource variables are not supported in the long term\n"
     ]
    }
   ],
   "source": [
    "import prepyto\n",
    "import numpy as np\n",
    "import napari\n",
    "import tqdm\n",
    "import skimage\n",
    "import matplotlib.pyplot as plt"
   ]
  },
  {
   "cell_type": "code",
   "execution_count": 3,
   "id": "proved-thermal",
   "metadata": {},
   "outputs": [],
   "source": [
    "dataset_directory = dataset_directory = \"/mnt/data/amin/Handpicked/102_4e_trimmed/\""
   ]
  },
  {
   "cell_type": "code",
   "execution_count": 4,
   "id": "ranking-grenada",
   "metadata": {},
   "outputs": [
    {
     "name": "stdout",
     "output_type": "stream",
     "text": [
      "Prepyto Pipeline: the pipeline is created for /mnt/data/amin/Handpicked/102_4e_trimmed\n",
      "Prepyto Pipeline: setting up prepyto directory\n"
     ]
    }
   ],
   "source": [
    "pl = prepyto.Pipeline(dataset_directory)\n",
    "pl.setup_prepyto_dir()\n"
   ]
  },
  {
   "cell_type": "markdown",
   "id": "adjustable-belgium",
   "metadata": {},
   "source": [
    "## Run the deep vesicle? \n",
    "if you haven't ran the next cell for this dataset, then do it (you'll need a GPU);\n",
    "\n",
    "otherwise skip it and run the next one."
   ]
  },
  {
   "cell_type": "code",
   "execution_count": 6,
   "id": "imposed-scope",
   "metadata": {
    "jupyter": {
     "outputs_hidden": true
    }
   },
   "outputs": [
    {
     "name": "stderr",
     "output_type": "stream",
     "text": [
      "\r",
      "  0%|          | 0/8 [00:00<?, ?it/s]"
     ]
    },
    {
     "name": "stdout",
     "output_type": "stream",
     "text": [
      "Prepyto pipeline: run_deep_at_multiple_rescale - rescale = 0.35078625770131494\n",
      "Prepyto pipeline: Running unet segmentation if there are less than 7 file in ./deep directory\n"
     ]
    },
    {
     "name": "stderr",
     "output_type": "stream",
     "text": [
      "\n",
      "  0%|          | 0/5 [00:00<?, ?it/s]\u001b[A\n",
      " 20%|██        | 1/5 [00:02<00:11,  2.81s/it]\u001b[A\n",
      " 40%|████      | 2/5 [00:04<00:06,  2.14s/it]\u001b[A\n",
      " 60%|██████    | 3/5 [00:06<00:03,  1.93s/it]\u001b[A\n",
      " 80%|████████  | 4/5 [00:07<00:01,  1.83s/it]\u001b[A\n",
      "100%|██████████| 5/5 [00:09<00:00,  1.90s/it]\u001b[A\n",
      "\n",
      "finding global threshold on unet mask:   0%|          | 0/20 [00:00<?, ?it/s]\u001b[A\n",
      "finding global threshold on unet mask:  10%|█         | 2/20 [00:00<00:01, 11.93it/s]\u001b[A\n",
      "finding global threshold on unet mask:  20%|██        | 4/20 [00:00<00:01, 11.88it/s]\u001b[A\n",
      "finding global threshold on unet mask:  30%|███       | 6/20 [00:00<00:01, 11.92it/s]\u001b[A\n",
      "finding global threshold on unet mask:  40%|████      | 8/20 [00:00<00:01, 11.95it/s]\u001b[A\n",
      "finding global threshold on unet mask:  50%|█████     | 10/20 [00:00<00:00, 11.98it/s]\u001b[A\n",
      "finding global threshold on unet mask:  60%|██████    | 12/20 [00:01<00:00, 12.03it/s]\u001b[A\n",
      "finding global threshold on unet mask:  70%|███████   | 14/20 [00:01<00:00, 12.07it/s]\u001b[A\n",
      "finding global threshold on unet mask:  80%|████████  | 16/20 [00:01<00:00, 12.12it/s]\u001b[A\n",
      "finding global threshold on unet mask:  90%|█████████ | 18/20 [00:01<00:00, 12.17it/s]\u001b[A\n",
      "finding global threshold on unet mask: 100%|██████████| 20/20 [00:01<00:00, 12.09it/s]\u001b[A\n",
      "\n",
      "reorganizing labels after label clean up: 100%|██████████| 2/2 [00:00<00:00, 53.75it/s]\n"
     ]
    },
    {
     "name": "stdout",
     "output_type": "stream",
     "text": [
      "Prepyto Pipeline: zooming the unet mask\n",
      "last output array name: deep_mask\n",
      "last mrc file saved : prepyto/Dummy_102.rec_zoomed_mask.mrc\n"
     ]
    },
    {
     "name": "stderr",
     "output_type": "stream",
     "text": [
      "\r",
      " 12%|█▎        | 1/8 [00:40<04:46, 40.93s/it]"
     ]
    },
    {
     "name": "stdout",
     "output_type": "stream",
     "text": [
      "Prepyto pipeline: run_deep_at_multiple_rescale - rescale = 0.40089858023007424\n",
      "Prepyto pipeline: Running unet segmentation if there are less than 7 file in ./deep directory\n"
     ]
    },
    {
     "name": "stderr",
     "output_type": "stream",
     "text": [
      "\n",
      "  0%|          | 0/6 [00:00<?, ?it/s]\u001b[A\n",
      " 17%|█▋        | 1/6 [00:02<00:10,  2.10s/it]\u001b[A\n",
      " 33%|███▎      | 2/6 [00:04<00:08,  2.08s/it]\u001b[A\n",
      " 50%|█████     | 3/6 [00:06<00:06,  2.06s/it]\u001b[A\n",
      " 67%|██████▋   | 4/6 [00:08<00:04,  2.04s/it]\u001b[A\n",
      " 83%|████████▎ | 5/6 [00:10<00:02,  2.04s/it]\u001b[A\n",
      "100%|██████████| 6/6 [00:12<00:00,  2.05s/it]\u001b[A\n",
      "\n",
      "finding global threshold on unet mask:   0%|          | 0/20 [00:00<?, ?it/s]\u001b[A\n",
      "finding global threshold on unet mask:   5%|▌         | 1/20 [00:00<00:02,  8.05it/s]\u001b[A\n",
      "finding global threshold on unet mask:  10%|█         | 2/20 [00:00<00:02,  7.96it/s]\u001b[A\n",
      "finding global threshold on unet mask:  15%|█▌        | 3/20 [00:00<00:02,  7.93it/s]\u001b[A\n",
      "finding global threshold on unet mask:  20%|██        | 4/20 [00:00<00:02,  7.93it/s]\u001b[A\n",
      "finding global threshold on unet mask:  25%|██▌       | 5/20 [00:00<00:01,  7.94it/s]\u001b[A\n",
      "finding global threshold on unet mask:  30%|███       | 6/20 [00:00<00:01,  7.95it/s]\u001b[A\n",
      "finding global threshold on unet mask:  35%|███▌      | 7/20 [00:00<00:01,  7.96it/s]\u001b[A\n",
      "finding global threshold on unet mask:  40%|████      | 8/20 [00:01<00:01,  7.97it/s]\u001b[A\n",
      "finding global threshold on unet mask:  45%|████▌     | 9/20 [00:01<00:01,  8.00it/s]\u001b[A\n",
      "finding global threshold on unet mask:  50%|█████     | 10/20 [00:01<00:01,  8.03it/s]\u001b[A\n",
      "finding global threshold on unet mask:  55%|█████▌    | 11/20 [00:01<00:01,  8.05it/s]\u001b[A\n",
      "finding global threshold on unet mask:  60%|██████    | 12/20 [00:01<00:00,  8.07it/s]\u001b[A\n",
      "finding global threshold on unet mask:  65%|██████▌   | 13/20 [00:01<00:00,  8.07it/s]\u001b[A\n",
      "finding global threshold on unet mask:  70%|███████   | 14/20 [00:01<00:00,  8.08it/s]\u001b[A\n",
      "finding global threshold on unet mask:  75%|███████▌  | 15/20 [00:01<00:00,  8.10it/s]\u001b[A\n",
      "finding global threshold on unet mask:  80%|████████  | 16/20 [00:01<00:00,  8.14it/s]\u001b[A\n",
      "finding global threshold on unet mask:  85%|████████▌ | 17/20 [00:02<00:00,  8.16it/s]\u001b[A\n",
      "finding global threshold on unet mask:  90%|█████████ | 18/20 [00:02<00:00,  8.17it/s]\u001b[A\n",
      "finding global threshold on unet mask:  95%|█████████▌| 19/20 [00:02<00:00,  8.20it/s]\u001b[A\n",
      "finding global threshold on unet mask: 100%|██████████| 20/20 [00:02<00:00,  8.08it/s]\u001b[A\n",
      "\n",
      "reorganizing labels after label clean up: 100%|██████████| 3/3 [00:00<00:00, 38.25it/s]\n"
     ]
    },
    {
     "name": "stdout",
     "output_type": "stream",
     "text": [
      "Prepyto Pipeline: zooming the unet mask\n",
      "last output array name: deep_mask\n",
      "last mrc file saved : prepyto/Dummy_102.rec_zoomed_mask.mrc\n"
     ]
    },
    {
     "name": "stderr",
     "output_type": "stream",
     "text": [
      "\r",
      " 25%|██▌       | 2/8 [01:22<04:08, 41.38s/it]"
     ]
    },
    {
     "name": "stdout",
     "output_type": "stream",
     "text": [
      "Prepyto pipeline: run_deep_at_multiple_rescale - rescale = 0.4510109027588335\n",
      "Prepyto pipeline: Running unet segmentation if there are less than 7 file in ./deep directory\n"
     ]
    },
    {
     "name": "stderr",
     "output_type": "stream",
     "text": [
      "\n",
      "  0%|          | 0/7 [00:00<?, ?it/s]\u001b[A\n",
      " 14%|█▍        | 1/7 [00:02<00:16,  2.83s/it]\u001b[A\n",
      " 29%|██▊       | 2/7 [00:05<00:13,  2.75s/it]\u001b[A\n",
      " 43%|████▎     | 3/7 [00:08<00:10,  2.71s/it]\u001b[A\n",
      " 57%|█████▋    | 4/7 [00:10<00:08,  2.69s/it]\u001b[A\n",
      " 71%|███████▏  | 5/7 [00:13<00:05,  2.69s/it]\u001b[A\n",
      " 86%|████████▌ | 6/7 [00:16<00:02,  2.68s/it]\u001b[A\n",
      "100%|██████████| 7/7 [00:18<00:00,  2.70s/it]\u001b[A\n",
      "\n",
      "finding global threshold on unet mask:   0%|          | 0/20 [00:00<?, ?it/s]\u001b[A\n",
      "finding global threshold on unet mask:   5%|▌         | 1/20 [00:00<00:03,  5.71it/s]\u001b[A\n",
      "finding global threshold on unet mask:  10%|█         | 2/20 [00:00<00:03,  5.65it/s]\u001b[A\n",
      "finding global threshold on unet mask:  15%|█▌        | 3/20 [00:00<00:03,  5.65it/s]\u001b[A\n",
      "finding global threshold on unet mask:  20%|██        | 4/20 [00:00<00:02,  5.64it/s]\u001b[A\n",
      "finding global threshold on unet mask:  25%|██▌       | 5/20 [00:00<00:02,  5.64it/s]\u001b[A\n",
      "finding global threshold on unet mask:  30%|███       | 6/20 [00:01<00:02,  5.65it/s]\u001b[A\n",
      "finding global threshold on unet mask:  35%|███▌      | 7/20 [00:01<00:02,  5.66it/s]\u001b[A\n",
      "finding global threshold on unet mask:  40%|████      | 8/20 [00:01<00:02,  5.67it/s]\u001b[A\n",
      "finding global threshold on unet mask:  45%|████▌     | 9/20 [00:01<00:01,  5.68it/s]\u001b[A\n",
      "finding global threshold on unet mask:  50%|█████     | 10/20 [00:01<00:01,  5.70it/s]\u001b[A\n",
      "finding global threshold on unet mask:  55%|█████▌    | 11/20 [00:01<00:01,  5.71it/s]\u001b[A\n",
      "finding global threshold on unet mask:  60%|██████    | 12/20 [00:02<00:01,  5.73it/s]\u001b[A\n",
      "finding global threshold on unet mask:  65%|██████▌   | 13/20 [00:02<00:01,  5.74it/s]\u001b[A\n",
      "finding global threshold on unet mask:  70%|███████   | 14/20 [00:02<00:01,  5.75it/s]\u001b[A\n",
      "finding global threshold on unet mask:  75%|███████▌  | 15/20 [00:02<00:00,  5.77it/s]\u001b[A\n",
      "finding global threshold on unet mask:  80%|████████  | 16/20 [00:02<00:00,  5.77it/s]\u001b[A\n",
      "finding global threshold on unet mask:  85%|████████▌ | 17/20 [00:02<00:00,  5.78it/s]\u001b[A\n",
      "finding global threshold on unet mask:  90%|█████████ | 18/20 [00:03<00:00,  5.80it/s]\u001b[A\n",
      "finding global threshold on unet mask:  95%|█████████▌| 19/20 [00:03<00:00,  5.81it/s]\u001b[A\n",
      "finding global threshold on unet mask: 100%|██████████| 20/20 [00:03<00:00,  5.73it/s]\u001b[A\n",
      "\n",
      "reorganizing labels after label clean up:   0%|          | 0/3 [00:00<?, ?it/s]\u001b[A\n",
      "reorganizing labels after label clean up: 100%|██████████| 3/3 [00:00<00:00, 27.37it/s]\u001b[A\n"
     ]
    },
    {
     "name": "stdout",
     "output_type": "stream",
     "text": [
      "Prepyto Pipeline: zooming the unet mask\n",
      "last output array name: deep_mask\n",
      "last mrc file saved : prepyto/Dummy_102.rec_zoomed_mask.mrc\n"
     ]
    },
    {
     "name": "stderr",
     "output_type": "stream",
     "text": [
      "\r",
      " 38%|███▊      | 3/8 [02:12<03:45, 45.17s/it]"
     ]
    },
    {
     "name": "stdout",
     "output_type": "stream",
     "text": [
      "Prepyto pipeline: run_deep_at_multiple_rescale - rescale = 0.5011232252875928\n",
      "Prepyto pipeline: Running unet segmentation if there are less than 7 file in ./deep directory\n"
     ]
    },
    {
     "name": "stderr",
     "output_type": "stream",
     "text": [
      "\n",
      "  0%|          | 0/7 [00:00<?, ?it/s]\u001b[A\n",
      " 14%|█▍        | 1/7 [00:03<00:19,  3.25s/it]\u001b[A\n",
      " 29%|██▊       | 2/7 [00:06<00:15,  3.18s/it]\u001b[A\n",
      " 43%|████▎     | 3/7 [00:09<00:12,  3.17s/it]\u001b[A\n",
      " 57%|█████▋    | 4/7 [00:12<00:09,  3.17s/it]\u001b[A\n",
      " 71%|███████▏  | 5/7 [00:15<00:06,  3.15s/it]\u001b[A\n",
      " 86%|████████▌ | 6/7 [00:18<00:03,  3.15s/it]\u001b[A\n",
      "100%|██████████| 7/7 [00:22<00:00,  3.16s/it]\u001b[A\n",
      "\n",
      "finding global threshold on unet mask:   0%|          | 0/20 [00:00<?, ?it/s]\u001b[A\n",
      "finding global threshold on unet mask:   5%|▌         | 1/20 [00:00<00:04,  4.22it/s]\u001b[A\n",
      "finding global threshold on unet mask:  10%|█         | 2/20 [00:00<00:04,  4.15it/s]\u001b[A\n",
      "finding global threshold on unet mask:  15%|█▌        | 3/20 [00:00<00:04,  4.15it/s]\u001b[A\n",
      "finding global threshold on unet mask:  20%|██        | 4/20 [00:00<00:03,  4.16it/s]\u001b[A\n",
      "finding global threshold on unet mask:  25%|██▌       | 5/20 [00:01<00:03,  4.16it/s]\u001b[A\n",
      "finding global threshold on unet mask:  30%|███       | 6/20 [00:01<00:03,  4.17it/s]\u001b[A\n",
      "finding global threshold on unet mask:  35%|███▌      | 7/20 [00:01<00:03,  4.18it/s]\u001b[A\n",
      "finding global threshold on unet mask:  40%|████      | 8/20 [00:01<00:02,  4.19it/s]\u001b[A\n",
      "finding global threshold on unet mask:  45%|████▌     | 9/20 [00:02<00:02,  4.19it/s]\u001b[A\n",
      "finding global threshold on unet mask:  50%|█████     | 10/20 [00:02<00:02,  4.20it/s]\u001b[A\n",
      "finding global threshold on unet mask:  55%|█████▌    | 11/20 [00:02<00:02,  4.21it/s]\u001b[A\n",
      "finding global threshold on unet mask:  60%|██████    | 12/20 [00:02<00:01,  4.20it/s]\u001b[A\n",
      "finding global threshold on unet mask:  65%|██████▌   | 13/20 [00:03<00:01,  4.21it/s]\u001b[A\n",
      "finding global threshold on unet mask:  70%|███████   | 14/20 [00:03<00:01,  4.22it/s]\u001b[A\n",
      "finding global threshold on unet mask:  75%|███████▌  | 15/20 [00:03<00:01,  4.24it/s]\u001b[A\n",
      "finding global threshold on unet mask:  80%|████████  | 16/20 [00:03<00:00,  4.24it/s]\u001b[A\n",
      "finding global threshold on unet mask:  85%|████████▌ | 17/20 [00:04<00:00,  4.26it/s]\u001b[A\n",
      "finding global threshold on unet mask:  90%|█████████ | 18/20 [00:04<00:00,  4.27it/s]\u001b[A\n",
      "finding global threshold on unet mask:  95%|█████████▌| 19/20 [00:04<00:00,  4.19it/s]\u001b[A\n",
      "finding global threshold on unet mask: 100%|██████████| 20/20 [00:04<00:00,  4.21it/s]\u001b[A\n",
      "\n",
      "reorganizing labels after label clean up:   0%|          | 0/5 [00:00<?, ?it/s]\u001b[A\n",
      "reorganizing labels after label clean up: 100%|██████████| 5/5 [00:00<00:00, 20.80it/s]\u001b[A\n"
     ]
    },
    {
     "name": "stdout",
     "output_type": "stream",
     "text": [
      "Prepyto Pipeline: zooming the unet mask\n",
      "last output array name: deep_mask\n",
      "last mrc file saved : prepyto/Dummy_102.rec_zoomed_mask.mrc\n"
     ]
    },
    {
     "name": "stderr",
     "output_type": "stream",
     "text": [
      "\r",
      " 50%|█████     | 4/8 [03:07<03:17, 49.31s/it]"
     ]
    },
    {
     "name": "stdout",
     "output_type": "stream",
     "text": [
      "Prepyto pipeline: run_deep_at_multiple_rescale - rescale = 0.5512355478163521\n",
      "Prepyto pipeline: Running unet segmentation if there are less than 7 file in ./deep directory\n"
     ]
    },
    {
     "name": "stderr",
     "output_type": "stream",
     "text": [
      "\n",
      "  0%|          | 0/8 [00:00<?, ?it/s]\u001b[A\n",
      " 12%|█▎        | 1/8 [00:03<00:26,  3.79s/it]\u001b[A\n",
      " 25%|██▌       | 2/8 [00:07<00:22,  3.73s/it]\u001b[A\n",
      " 38%|███▊      | 3/8 [00:11<00:18,  3.71s/it]\u001b[A\n",
      " 50%|█████     | 4/8 [00:14<00:14,  3.71s/it]\u001b[A\n",
      " 62%|██████▎   | 5/8 [00:18<00:11,  3.71s/it]\u001b[A\n",
      " 75%|███████▌  | 6/8 [00:22<00:07,  3.72s/it]\u001b[A\n",
      " 88%|████████▊ | 7/8 [00:26<00:03,  3.72s/it]\u001b[A\n",
      "100%|██████████| 8/8 [00:29<00:00,  3.72s/it]\u001b[A\n",
      "\n",
      "finding global threshold on unet mask:   0%|          | 0/20 [00:00<?, ?it/s]\u001b[A\n",
      "finding global threshold on unet mask:   5%|▌         | 1/20 [00:00<00:05,  3.22it/s]\u001b[A\n",
      "finding global threshold on unet mask:  10%|█         | 2/20 [00:00<00:05,  3.18it/s]\u001b[A\n",
      "finding global threshold on unet mask:  15%|█▌        | 3/20 [00:00<00:05,  3.17it/s]\u001b[A\n",
      "finding global threshold on unet mask:  20%|██        | 4/20 [00:01<00:05,  3.13it/s]\u001b[A\n",
      "finding global threshold on unet mask:  25%|██▌       | 5/20 [00:01<00:04,  3.15it/s]\u001b[A\n",
      "finding global threshold on unet mask:  30%|███       | 6/20 [00:01<00:04,  3.16it/s]\u001b[A\n",
      "finding global threshold on unet mask:  35%|███▌      | 7/20 [00:02<00:04,  3.18it/s]\u001b[A\n",
      "finding global threshold on unet mask:  40%|████      | 8/20 [00:02<00:03,  3.18it/s]\u001b[A\n",
      "finding global threshold on unet mask:  45%|████▌     | 9/20 [00:02<00:03,  3.19it/s]\u001b[A\n",
      "finding global threshold on unet mask:  50%|█████     | 10/20 [00:03<00:03,  3.19it/s]\u001b[A\n",
      "finding global threshold on unet mask:  55%|█████▌    | 11/20 [00:03<00:02,  3.20it/s]\u001b[A\n",
      "finding global threshold on unet mask:  60%|██████    | 12/20 [00:03<00:02,  3.20it/s]\u001b[A\n",
      "finding global threshold on unet mask:  65%|██████▌   | 13/20 [00:04<00:02,  3.21it/s]\u001b[A\n",
      "finding global threshold on unet mask:  70%|███████   | 14/20 [00:04<00:01,  3.21it/s]\u001b[A\n",
      "finding global threshold on unet mask:  75%|███████▌  | 15/20 [00:04<00:01,  3.20it/s]\u001b[A\n",
      "finding global threshold on unet mask:  80%|████████  | 16/20 [00:05<00:01,  3.21it/s]\u001b[A\n",
      "finding global threshold on unet mask:  85%|████████▌ | 17/20 [00:05<00:00,  3.22it/s]\u001b[A\n",
      "finding global threshold on unet mask:  90%|█████████ | 18/20 [00:05<00:00,  3.23it/s]\u001b[A\n",
      "finding global threshold on unet mask:  95%|█████████▌| 19/20 [00:05<00:00,  3.23it/s]\u001b[A\n",
      "finding global threshold on unet mask: 100%|██████████| 20/20 [00:06<00:00,  3.20it/s]\u001b[A\n",
      "\n",
      "reorganizing labels after label clean up:   0%|          | 0/6 [00:00<?, ?it/s]\u001b[A\n",
      "reorganizing labels after label clean up:  33%|███▎      | 2/6 [00:00<00:00, 16.27it/s]\u001b[A\n",
      "reorganizing labels after label clean up:  67%|██████▋   | 4/6 [00:00<00:00, 15.83it/s]\u001b[A\n",
      "reorganizing labels after label clean up: 100%|██████████| 6/6 [00:00<00:00, 15.53it/s]\u001b[A\n"
     ]
    },
    {
     "name": "stdout",
     "output_type": "stream",
     "text": [
      "Prepyto Pipeline: zooming the unet mask\n",
      "last output array name: deep_mask\n",
      "last mrc file saved : prepyto/Dummy_102.rec_zoomed_mask.mrc\n"
     ]
    },
    {
     "name": "stderr",
     "output_type": "stream",
     "text": [
      "\r",
      " 62%|██████▎   | 5/8 [04:14<02:46, 55.38s/it]"
     ]
    },
    {
     "name": "stdout",
     "output_type": "stream",
     "text": [
      "Prepyto pipeline: run_deep_at_multiple_rescale - rescale = 0.6013478703451114\n",
      "Prepyto pipeline: Running unet segmentation if there are less than 7 file in ./deep directory\n"
     ]
    },
    {
     "name": "stderr",
     "output_type": "stream",
     "text": [
      "\n",
      "  0%|          | 0/9 [00:00<?, ?it/s]\u001b[A\n",
      " 11%|█         | 1/9 [00:04<00:37,  4.65s/it]\u001b[A\n",
      " 22%|██▏       | 2/9 [00:09<00:31,  4.57s/it]\u001b[A\n",
      " 33%|███▎      | 3/9 [00:13<00:27,  4.55s/it]\u001b[A\n",
      " 44%|████▍     | 4/9 [00:18<00:22,  4.54s/it]\u001b[A\n",
      " 56%|█████▌    | 5/9 [00:22<00:18,  4.56s/it]\u001b[A\n",
      " 67%|██████▋   | 6/9 [00:27<00:13,  4.57s/it]\u001b[A\n",
      " 78%|███████▊  | 7/9 [00:31<00:09,  4.57s/it]\u001b[A\n",
      " 89%|████████▉ | 8/9 [00:36<00:04,  4.58s/it]\u001b[A\n",
      "100%|██████████| 9/9 [00:41<00:00,  4.57s/it]\u001b[A\n",
      "\n",
      "finding global threshold on unet mask:   0%|          | 0/20 [00:00<?, ?it/s]\u001b[A\n",
      "finding global threshold on unet mask:   5%|▌         | 1/20 [00:00<00:07,  2.49it/s]\u001b[A\n",
      "finding global threshold on unet mask:  10%|█         | 2/20 [00:00<00:07,  2.47it/s]\u001b[A\n",
      "finding global threshold on unet mask:  15%|█▌        | 3/20 [00:01<00:06,  2.47it/s]\u001b[A\n",
      "finding global threshold on unet mask:  20%|██        | 4/20 [00:01<00:06,  2.47it/s]\u001b[A\n",
      "finding global threshold on unet mask:  25%|██▌       | 5/20 [00:02<00:06,  2.47it/s]\u001b[A\n",
      "finding global threshold on unet mask:  30%|███       | 6/20 [00:02<00:05,  2.46it/s]\u001b[A\n",
      "finding global threshold on unet mask:  35%|███▌      | 7/20 [00:02<00:05,  2.46it/s]\u001b[A\n",
      "finding global threshold on unet mask:  40%|████      | 8/20 [00:03<00:04,  2.47it/s]\u001b[A\n",
      "finding global threshold on unet mask:  45%|████▌     | 9/20 [00:03<00:04,  2.47it/s]\u001b[A\n",
      "finding global threshold on unet mask:  50%|█████     | 10/20 [00:04<00:04,  2.47it/s]\u001b[A\n",
      "finding global threshold on unet mask:  55%|█████▌    | 11/20 [00:04<00:03,  2.47it/s]\u001b[A\n",
      "finding global threshold on unet mask:  60%|██████    | 12/20 [00:04<00:03,  2.48it/s]\u001b[A\n",
      "finding global threshold on unet mask:  65%|██████▌   | 13/20 [00:05<00:02,  2.48it/s]\u001b[A\n",
      "finding global threshold on unet mask:  70%|███████   | 14/20 [00:05<00:02,  2.49it/s]\u001b[A\n",
      "finding global threshold on unet mask:  75%|███████▌  | 15/20 [00:06<00:02,  2.50it/s]\u001b[A\n",
      "finding global threshold on unet mask:  80%|████████  | 16/20 [00:06<00:01,  2.50it/s]\u001b[A\n",
      "finding global threshold on unet mask:  85%|████████▌ | 17/20 [00:06<00:01,  2.50it/s]\u001b[A\n",
      "finding global threshold on unet mask:  90%|█████████ | 18/20 [00:07<00:00,  2.51it/s]\u001b[A\n",
      "finding global threshold on unet mask:  95%|█████████▌| 19/20 [00:07<00:00,  2.52it/s]\u001b[A\n",
      "finding global threshold on unet mask: 100%|██████████| 20/20 [00:08<00:00,  2.49it/s]\u001b[A\n",
      "\n",
      "reorganizing labels after label clean up:   0%|          | 0/19 [00:00<?, ?it/s]\u001b[A\n",
      "reorganizing labels after label clean up:  11%|█         | 2/19 [00:00<00:01, 12.50it/s]\u001b[A\n",
      "reorganizing labels after label clean up:  21%|██        | 4/19 [00:00<00:01, 12.35it/s]\u001b[A\n",
      "reorganizing labels after label clean up:  32%|███▏      | 6/19 [00:00<00:01, 11.97it/s]\u001b[A\n",
      "reorganizing labels after label clean up:  42%|████▏     | 8/19 [00:00<00:00, 11.78it/s]\u001b[A\n",
      "reorganizing labels after label clean up:  53%|█████▎    | 10/19 [00:00<00:00, 11.75it/s]\u001b[A\n",
      "reorganizing labels after label clean up:  63%|██████▎   | 12/19 [00:01<00:00, 11.52it/s]\u001b[A\n",
      "reorganizing labels after label clean up:  74%|███████▎  | 14/19 [00:01<00:00, 11.40it/s]\u001b[A\n",
      "reorganizing labels after label clean up:  84%|████████▍ | 16/19 [00:01<00:00, 11.24it/s]\u001b[A\n",
      "reorganizing labels after label clean up: 100%|██████████| 19/19 [00:01<00:00, 11.43it/s]\u001b[A\n"
     ]
    },
    {
     "name": "stdout",
     "output_type": "stream",
     "text": [
      "Prepyto Pipeline: zooming the unet mask\n",
      "last output array name: deep_mask\n",
      "last mrc file saved : prepyto/Dummy_102.rec_zoomed_mask.mrc\n"
     ]
    },
    {
     "name": "stderr",
     "output_type": "stream",
     "text": [
      "\r",
      " 75%|███████▌  | 6/8 [05:36<02:09, 64.58s/it]"
     ]
    },
    {
     "name": "stdout",
     "output_type": "stream",
     "text": [
      "Prepyto pipeline: run_deep_at_multiple_rescale - rescale = 0.6514601928738706\n",
      "Prepyto pipeline: Running unet segmentation if there are less than 7 file in ./deep directory\n"
     ]
    },
    {
     "name": "stderr",
     "output_type": "stream",
     "text": [
      "\n",
      "  0%|          | 0/9 [00:00<?, ?it/s]\u001b[A\n",
      " 11%|█         | 1/9 [00:05<00:42,  5.32s/it]\u001b[A\n",
      " 22%|██▏       | 2/9 [00:10<00:36,  5.24s/it]\u001b[A\n",
      " 33%|███▎      | 3/9 [00:15<00:31,  5.21s/it]\u001b[A\n",
      " 44%|████▍     | 4/9 [00:20<00:25,  5.19s/it]\u001b[A\n",
      " 56%|█████▌    | 5/9 [00:25<00:20,  5.16s/it]\u001b[A\n",
      " 67%|██████▋   | 6/9 [00:31<00:15,  5.13s/it]\u001b[A\n",
      " 78%|███████▊  | 7/9 [00:36<00:10,  5.12s/it]\u001b[A\n",
      " 89%|████████▉ | 8/9 [00:41<00:05,  5.12s/it]\u001b[A\n",
      "100%|██████████| 9/9 [00:46<00:00,  5.15s/it]\u001b[A\n",
      "\n",
      "finding global threshold on unet mask:   0%|          | 0/20 [00:00<?, ?it/s]\u001b[A\n",
      "finding global threshold on unet mask:   5%|▌         | 1/20 [00:00<00:09,  1.97it/s]\u001b[A\n",
      "finding global threshold on unet mask:  10%|█         | 2/20 [00:01<00:09,  1.96it/s]\u001b[A\n",
      "finding global threshold on unet mask:  15%|█▌        | 3/20 [00:01<00:08,  1.95it/s]\u001b[A\n",
      "finding global threshold on unet mask:  20%|██        | 4/20 [00:02<00:08,  1.95it/s]\u001b[A\n",
      "finding global threshold on unet mask:  25%|██▌       | 5/20 [00:02<00:07,  1.95it/s]\u001b[A\n",
      "finding global threshold on unet mask:  30%|███       | 6/20 [00:03<00:07,  1.95it/s]\u001b[A\n",
      "finding global threshold on unet mask:  35%|███▌      | 7/20 [00:03<00:06,  1.96it/s]\u001b[A\n",
      "finding global threshold on unet mask:  40%|████      | 8/20 [00:04<00:06,  1.96it/s]\u001b[A\n",
      "finding global threshold on unet mask:  45%|████▌     | 9/20 [00:04<00:05,  1.96it/s]\u001b[A\n",
      "finding global threshold on unet mask:  50%|█████     | 10/20 [00:05<00:05,  1.96it/s]\u001b[A\n",
      "finding global threshold on unet mask:  55%|█████▌    | 11/20 [00:05<00:04,  1.97it/s]\u001b[A\n",
      "finding global threshold on unet mask:  60%|██████    | 12/20 [00:06<00:04,  1.97it/s]\u001b[A\n",
      "finding global threshold on unet mask:  65%|██████▌   | 13/20 [00:06<00:03,  1.97it/s]\u001b[A\n",
      "finding global threshold on unet mask:  70%|███████   | 14/20 [00:07<00:03,  1.97it/s]\u001b[A\n",
      "finding global threshold on unet mask:  75%|███████▌  | 15/20 [00:07<00:02,  1.98it/s]\u001b[A\n",
      "finding global threshold on unet mask:  80%|████████  | 16/20 [00:08<00:02,  1.98it/s]\u001b[A\n",
      "finding global threshold on unet mask:  85%|████████▌ | 17/20 [00:08<00:01,  1.98it/s]\u001b[A\n",
      "finding global threshold on unet mask:  90%|█████████ | 18/20 [00:09<00:01,  1.99it/s]\u001b[A\n",
      "finding global threshold on unet mask:  95%|█████████▌| 19/20 [00:09<00:00,  2.00it/s]\u001b[A\n",
      "finding global threshold on unet mask: 100%|██████████| 20/20 [00:10<00:00,  1.97it/s]\u001b[A\n",
      "\n",
      "reorganizing labels after label clean up:   0%|          | 0/35 [00:00<?, ?it/s]\u001b[A\n",
      "reorganizing labels after label clean up:   3%|▎         | 1/35 [00:00<00:03,  9.97it/s]\u001b[A\n",
      "reorganizing labels after label clean up:   6%|▌         | 2/35 [00:00<00:03,  9.82it/s]\u001b[A\n",
      "reorganizing labels after label clean up:   9%|▊         | 3/35 [00:00<00:03,  9.74it/s]\u001b[A\n",
      "reorganizing labels after label clean up:  11%|█▏        | 4/35 [00:00<00:03,  9.70it/s]\u001b[A\n",
      "reorganizing labels after label clean up:  14%|█▍        | 5/35 [00:00<00:03,  9.64it/s]\u001b[A\n",
      "reorganizing labels after label clean up:  17%|█▋        | 6/35 [00:00<00:03,  9.59it/s]\u001b[A\n",
      "reorganizing labels after label clean up:  20%|██        | 7/35 [00:00<00:02,  9.56it/s]\u001b[A\n",
      "reorganizing labels after label clean up:  23%|██▎       | 8/35 [00:00<00:02,  9.53it/s]\u001b[A\n",
      "reorganizing labels after label clean up:  26%|██▌       | 9/35 [00:00<00:02,  9.50it/s]\u001b[A\n",
      "reorganizing labels after label clean up:  29%|██▊       | 10/35 [00:01<00:02,  9.47it/s]\u001b[A\n",
      "reorganizing labels after label clean up:  31%|███▏      | 11/35 [00:01<00:02,  9.44it/s]\u001b[A\n",
      "reorganizing labels after label clean up:  34%|███▍      | 12/35 [00:01<00:02,  9.42it/s]\u001b[A\n",
      "reorganizing labels after label clean up:  37%|███▋      | 13/35 [00:01<00:02,  9.41it/s]\u001b[A\n",
      "reorganizing labels after label clean up:  40%|████      | 14/35 [00:01<00:02,  9.38it/s]\u001b[A\n",
      "reorganizing labels after label clean up:  43%|████▎     | 15/35 [00:01<00:02,  9.33it/s]\u001b[A\n",
      "reorganizing labels after label clean up:  46%|████▌     | 16/35 [00:01<00:02,  9.27it/s]\u001b[A\n",
      "reorganizing labels after label clean up:  49%|████▊     | 17/35 [00:01<00:01,  9.23it/s]\u001b[A\n",
      "reorganizing labels after label clean up:  51%|█████▏    | 18/35 [00:01<00:01,  9.20it/s]\u001b[A\n",
      "reorganizing labels after label clean up:  54%|█████▍    | 19/35 [00:02<00:01,  9.17it/s]\u001b[A\n",
      "reorganizing labels after label clean up:  57%|█████▋    | 20/35 [00:02<00:01,  9.16it/s]\u001b[A\n",
      "reorganizing labels after label clean up:  60%|██████    | 21/35 [00:02<00:01,  9.11it/s]\u001b[A\n",
      "reorganizing labels after label clean up:  63%|██████▎   | 22/35 [00:02<00:01,  9.08it/s]\u001b[A\n",
      "reorganizing labels after label clean up:  66%|██████▌   | 23/35 [00:02<00:01,  9.04it/s]\u001b[A\n",
      "reorganizing labels after label clean up:  69%|██████▊   | 24/35 [00:02<00:01,  9.02it/s]\u001b[A\n",
      "reorganizing labels after label clean up:  71%|███████▏  | 25/35 [00:02<00:01,  8.94it/s]\u001b[A\n",
      "reorganizing labels after label clean up:  74%|███████▍  | 26/35 [00:02<00:01,  8.89it/s]\u001b[A\n",
      "reorganizing labels after label clean up:  77%|███████▋  | 27/35 [00:02<00:00,  8.84it/s]\u001b[A\n",
      "reorganizing labels after label clean up:  80%|████████  | 28/35 [00:03<00:00,  8.80it/s]\u001b[A\n",
      "reorganizing labels after label clean up:  83%|████████▎ | 29/35 [00:03<00:00,  8.76it/s]\u001b[A\n",
      "reorganizing labels after label clean up:  86%|████████▌ | 30/35 [00:03<00:00,  8.71it/s]\u001b[A\n",
      "reorganizing labels after label clean up:  89%|████████▊ | 31/35 [00:03<00:00,  8.66it/s]\u001b[A\n",
      "reorganizing labels after label clean up:  91%|█████████▏| 32/35 [00:03<00:00,  8.63it/s]\u001b[A\n",
      "reorganizing labels after label clean up:  94%|█████████▍| 33/35 [00:03<00:00,  8.60it/s]\u001b[A\n",
      "reorganizing labels after label clean up:  97%|█████████▋| 34/35 [00:03<00:00,  8.56it/s]\u001b[A\n",
      "reorganizing labels after label clean up: 100%|██████████| 35/35 [00:03<00:00,  9.08it/s]\u001b[A\n"
     ]
    },
    {
     "name": "stdout",
     "output_type": "stream",
     "text": [
      "Prepyto Pipeline: zooming the unet mask\n",
      "last output array name: deep_mask\n",
      "last mrc file saved : prepyto/Dummy_102.rec_zoomed_mask.mrc\n"
     ]
    },
    {
     "name": "stderr",
     "output_type": "stream",
     "text": [
      "\r",
      " 88%|████████▊ | 7/8 [07:10<01:14, 74.30s/it]"
     ]
    },
    {
     "name": "stdout",
     "output_type": "stream",
     "text": [
      "Prepyto pipeline: run_deep_at_multiple_rescale - rescale = 0.7015725154026299\n",
      "Prepyto pipeline: Running unet segmentation if there are less than 7 file in ./deep directory\n"
     ]
    },
    {
     "name": "stderr",
     "output_type": "stream",
     "text": [
      "\n",
      "  0%|          | 0/10 [00:00<?, ?it/s]\u001b[A\n",
      " 10%|█         | 1/10 [00:06<00:55,  6.22s/it]\u001b[A\n",
      " 20%|██        | 2/10 [00:12<00:49,  6.18s/it]\u001b[A\n",
      " 30%|███       | 3/10 [00:18<00:43,  6.16s/it]\u001b[A\n",
      " 40%|████      | 4/10 [00:24<00:36,  6.13s/it]\u001b[A\n",
      " 50%|█████     | 5/10 [00:30<00:30,  6.12s/it]\u001b[A\n",
      " 60%|██████    | 6/10 [00:36<00:24,  6.08s/it]\u001b[A\n",
      " 70%|███████   | 7/10 [00:42<00:18,  6.06s/it]\u001b[A\n",
      " 80%|████████  | 8/10 [00:48<00:12,  6.03s/it]\u001b[A\n",
      " 90%|█████████ | 9/10 [00:54<00:06,  6.02s/it]\u001b[A\n",
      "100%|██████████| 10/10 [01:00<00:00,  6.08s/it]\u001b[A\n",
      "\n",
      "finding global threshold on unet mask:   0%|          | 0/20 [00:00<?, ?it/s]\u001b[A\n",
      "finding global threshold on unet mask:   5%|▌         | 1/20 [00:00<00:11,  1.61it/s]\u001b[A\n",
      "finding global threshold on unet mask:  10%|█         | 2/20 [00:01<00:11,  1.60it/s]\u001b[A\n",
      "finding global threshold on unet mask:  15%|█▌        | 3/20 [00:01<00:10,  1.61it/s]\u001b[A\n",
      "finding global threshold on unet mask:  20%|██        | 4/20 [00:02<00:09,  1.61it/s]\u001b[A\n",
      "finding global threshold on unet mask:  25%|██▌       | 5/20 [00:03<00:09,  1.61it/s]\u001b[A\n",
      "finding global threshold on unet mask:  30%|███       | 6/20 [00:03<00:08,  1.60it/s]\u001b[A\n",
      "finding global threshold on unet mask:  35%|███▌      | 7/20 [00:04<00:08,  1.60it/s]\u001b[A\n",
      "finding global threshold on unet mask:  40%|████      | 8/20 [00:04<00:07,  1.60it/s]\u001b[A\n",
      "finding global threshold on unet mask:  45%|████▌     | 9/20 [00:05<00:06,  1.61it/s]\u001b[A\n",
      "finding global threshold on unet mask:  50%|█████     | 10/20 [00:06<00:06,  1.61it/s]\u001b[A\n",
      "finding global threshold on unet mask:  55%|█████▌    | 11/20 [00:06<00:05,  1.61it/s]\u001b[A\n",
      "finding global threshold on unet mask:  60%|██████    | 12/20 [00:07<00:04,  1.62it/s]\u001b[A\n",
      "finding global threshold on unet mask:  65%|██████▌   | 13/20 [00:08<00:04,  1.62it/s]\u001b[A\n",
      "finding global threshold on unet mask:  70%|███████   | 14/20 [00:08<00:03,  1.62it/s]\u001b[A\n",
      "finding global threshold on unet mask:  75%|███████▌  | 15/20 [00:09<00:03,  1.63it/s]\u001b[A\n",
      "finding global threshold on unet mask:  80%|████████  | 16/20 [00:09<00:02,  1.63it/s]\u001b[A\n",
      "finding global threshold on unet mask:  85%|████████▌ | 17/20 [00:10<00:01,  1.63it/s]\u001b[A\n",
      "finding global threshold on unet mask:  90%|█████████ | 18/20 [00:11<00:01,  1.64it/s]\u001b[A\n",
      "finding global threshold on unet mask:  95%|█████████▌| 19/20 [00:11<00:00,  1.64it/s]\u001b[A\n",
      "finding global threshold on unet mask: 100%|██████████| 20/20 [00:12<00:00,  1.62it/s]\u001b[A\n",
      "\n",
      "reorganizing labels after label clean up:   0%|          | 0/7 [00:00<?, ?it/s]\u001b[A\n",
      "reorganizing labels after label clean up:  14%|█▍        | 1/7 [00:00<00:00,  7.40it/s]\u001b[A\n",
      "reorganizing labels after label clean up:  29%|██▊       | 2/7 [00:00<00:00,  7.31it/s]\u001b[A\n",
      "reorganizing labels after label clean up:  43%|████▎     | 3/7 [00:00<00:00,  7.27it/s]\u001b[A\n",
      "reorganizing labels after label clean up:  57%|█████▋    | 4/7 [00:00<00:00,  7.24it/s]\u001b[A\n",
      "reorganizing labels after label clean up:  71%|███████▏  | 5/7 [00:00<00:00,  7.23it/s]\u001b[A\n",
      "reorganizing labels after label clean up:  86%|████████▌ | 6/7 [00:00<00:00,  7.19it/s]\u001b[A\n",
      "reorganizing labels after label clean up: 100%|██████████| 7/7 [00:00<00:00,  7.20it/s]\u001b[A\n"
     ]
    },
    {
     "name": "stdout",
     "output_type": "stream",
     "text": [
      "Prepyto Pipeline: zooming the unet mask\n",
      "last output array name: deep_mask\n",
      "last mrc file saved : prepyto/Dummy_102.rec_zoomed_mask.mrc\n"
     ]
    },
    {
     "name": "stderr",
     "output_type": "stream",
     "text": [
      "100%|██████████| 8/8 [09:01<00:00, 67.64s/it]\n"
     ]
    }
   ],
   "source": [
    "pl.run_deep_at_multiple_rescale()"
   ]
  },
  {
   "cell_type": "code",
   "execution_count": 9,
   "id": "overhead-timber",
   "metadata": {},
   "outputs": [
    {
     "data": {
      "text/plain": [
       "'deep_mask'"
      ]
     },
     "execution_count": 9,
     "metadata": {},
     "output_type": "execute_result"
    }
   ],
   "source": [
    "pl.set_array('deep_mask')"
   ]
  },
  {
   "cell_type": "markdown",
   "id": "diagnostic-variation",
   "metadata": {
    "jupyter": {
     "source_hidden": true
    }
   },
   "source": [
    "## label statistics\n",
    "We can select the best initial threshold for making spheres based on statistics"
   ]
  },
  {
   "cell_type": "code",
   "execution_count": 7,
   "id": "taken-science",
   "metadata": {},
   "outputs": [
    {
     "name": "stderr",
     "output_type": "stream",
     "text": [
      "100%|██████████| 10/10 [00:30<00:00,  3.08s/it]\n"
     ]
    }
   ],
   "source": [
    "diameter_dict = {}\n",
    "for threshold in tqdm.tqdm(np.arange(0.9,1,0.01)):\n",
    "    image_label = skimage.morphology.label(pl.deep_mask>threshold)\n",
    "    area = skimage.measure.regionprops_table(image_label, properties=('bbox_area',))['bbox_area']\n",
    "    diameter_dict[threshold] = area**(1/3)/pl.voxel_size"
   ]
  },
  {
   "cell_type": "code",
   "execution_count": 8,
   "id": "beginning-indiana",
   "metadata": {},
   "outputs": [
    {
     "data": {
      "image/png": "[encoded data removed]",
      "text/plain": [
       "<Figure size 720x432 with 1 Axes>"
      ]
     },
     "metadata": {
      "needs_background": "light"
     },
     "output_type": "display_data"
    }
   ],
   "source": [
    "fig = plt.figure(figsize=(10,6))\n",
    "fig.suptitle(\"diameter distribution\")\n",
    "_ = plt.hist(list(diameter_dict.values())[::1], label=list(diameter_dict.keys())[::1],bins=5)\n",
    "_ = plt.legend()"
   ]
  },
  {
   "cell_type": "code",
   "execution_count": 9,
   "id": "israeli-point",
   "metadata": {},
   "outputs": [
    {
     "data": {
      "text/plain": [
       "<matplotlib.collections.PathCollection at 0x7f2ef4682e80>"
      ]
     },
     "execution_count": 9,
     "metadata": {},
     "output_type": "execute_result"
    },
    {
     "data": {
      "image/png": "[encoded data removed]",
      "text/plain": [
       "<Figure size 720x432 with 1 Axes>"
      ]
     },
     "metadata": {
      "needs_background": "light"
     },
     "output_type": "display_data"
    }
   ],
   "source": [
    "fig = plt.figure(figsize=(10,6))\n",
    "fig.suptitle(\"number of labels\")\n",
    "plt.xlabel(\"threshold\")\n",
    "plt.ylabel(\"number of labels\")\n",
    "plt.grid()\n",
    "plt.scatter(x=list(diameter_dict.keys()), y=[len(v) for v in list(diameter_dict.values())])"
   ]
  },
  {
   "cell_type": "markdown",
   "id": "internal-documentation",
   "metadata": {},
   "source": [
    "## How to chose the optimal starting threshold\n",
    "The higher the threshold, the lower the false positive but the higher the false negative. \n",
    "There is no single best threshold. \n",
    "\n",
    "On our test dataset, a threshold of 0.96 found most of the vesicles and gave only few false positives."
   ]
  },
  {
   "cell_type": "code",
   "execution_count": 5,
   "id": "direct-agenda",
   "metadata": {},
   "outputs": [
    {
     "name": "stdout",
     "output_type": "stream",
     "text": [
      "Prepyto Pipeline: running label_vesicles_simply\n",
      "Prepyto Pipeline: restricting labels to segmentation region\n",
      "last output array name: deep_mask\n",
      "last mrc file saved : prepyto/Dummy_102.rec_zoomed_mask.mrc\n"
     ]
    },
    {
     "name": "stderr",
     "output_type": "stream",
     "text": [
      "Expanding labels until none is too small:  83%|████████▎ | 5/6 [00:23<00:04,  4.62s/it]\n"
     ]
    },
    {
     "name": "stdout",
     "output_type": "stream",
     "text": [
      "last output array name: deep_labels\n",
      "last mrc file saved : prepyto/Dummy_102.rec_deep_labels.mrc\n"
     ]
    }
   ],
   "source": [
    "pl.label_vesicles_simply(threshold=0.96)"
   ]
  },
  {
   "cell_type": "code",
   "execution_count": 6,
   "id": "announced-cargo",
   "metadata": {},
   "outputs": [
    {
     "name": "stdout",
     "output_type": "stream",
     "text": [
      "Prepyto Pipeline: Making vesicles spherical.\n"
     ]
    },
    {
     "name": "stderr",
     "output_type": "stream",
     "text": [
      "fitting sphere to vesicles: 100%|██████████| 102/102 [00:03<00:00, 27.15it/s]\n"
     ]
    },
    {
     "name": "stdout",
     "output_type": "stream",
     "text": [
      "last output array name: sphere_labels\n",
      "last mrc file saved : prepyto/Dummy_102.rec_sphere.mrc\n"
     ]
    }
   ],
   "source": [
    "pl.make_spheres()"
   ]
  },
  {
   "cell_type": "markdown",
   "id": "minus-respondent",
   "metadata": {},
   "source": [
    "### optional visualization of deep_labels and sphere_labels"
   ]
  },
  {
   "cell_type": "code",
   "execution_count": 5,
   "id": "regional-function",
   "metadata": {},
   "outputs": [
    {
     "name": "stdout",
     "output_type": "stream",
     "text": [
      "Prepyto Pipeline: visualizing two sets of labels. To continue, close napari window\n"
     ]
    }
   ],
   "source": [
    "pl.visualization_old_new('deep_labels','sphere_labels')"
   ]
  },
  {
   "cell_type": "markdown",
   "id": "afraid-shade",
   "metadata": {},
   "source": [
    "### Outlier detection\n",
    "Detect outliers using multivariate statistics on 3 parameters of the detected spheres. We get a list of the most deviating labels (those that have a mahalanobis distance larger than min_mahalanobis_distance). So far the default min_mahalanobis_distance of 2.0 is good. If the red line on the plot does not include enough outliers to your liking, then use a lower value (optional parameter of pl.identify_sphere_outliers)."
   ]
  },
  {
   "cell_type": "code",
   "execution_count": 7,
   "id": "collectible-cemetery",
   "metadata": {
    "scrolled": true
   },
   "outputs": [
    {
     "data": {
      "text/plain": [
       "array([[<AxesSubplot:title={'center':'thickness'}>,\n",
       "        <AxesSubplot:title={'center':'density'}>],\n",
       "       [<AxesSubplot:title={'center':'radius'}>,\n",
       "        <AxesSubplot:title={'center':'mahalanobis'}>]], dtype=object)"
      ]
     },
     "execution_count": 7,
     "metadata": {},
     "output_type": "execute_result"
    },
    {
     "data": {
      "image/png": "[encoded data removed]",
      "text/plain": [
       "<Figure size 432x288 with 4 Axes>"
      ]
     },
     "metadata": {
      "needs_background": "light"
     },
     "output_type": "display_data"
    }
   ],
   "source": [
    "pl.sphere_df.hist()"
   ]
  },
  {
   "cell_type": "code",
   "execution_count": 8,
   "id": "static-frederick",
   "metadata": {},
   "outputs": [
    {
     "name": "stdout",
     "output_type": "stream",
     "text": [
      "       thickness     density  radius           center  mahalanobis\n",
      "label                                                             \n",
      "104           10   -3.773171      10  [179, 241, 474]     2.328206\n",
      "113            8   -0.621951       9  [183, 338, 429]     2.361188\n",
      "79            12   -6.183761      10  [171, 507, 172]     2.649688\n",
      "116           16    2.542553      14  [180, 275, 278]     2.718346\n",
      "145            0   -0.940171       4  [207, 530, 299]     3.200854\n",
      "149            0   -4.689873       3  [175, 578, 304]     3.342334\n",
      "112           36    2.988465      45  [174, 305, 440]     6.622159\n",
      "148           42   -0.027660      27  [203, 548, 392]     7.673616\n",
      "1              6 -199.000000       5   [26, 553, 268]    10.253739\n",
      "You should inspect the labels that have a high mahalanobis distance as they are the likeliest to be wrongly segmented\n"
     ]
    },
    {
     "data": {
      "image/png": "[encoded data removed]",
      "text/plain": [
       "<Figure size 432x288 with 1 Axes>"
      ]
     },
     "metadata": {
      "needs_background": "light"
     },
     "output_type": "display_data"
    }
   ],
   "source": [
    "pl.identify_spheres_outliers(min_mahalanobis_distance=2)"
   ]
  },
  {
   "cell_type": "code",
   "execution_count": 9,
   "id": "piano-product",
   "metadata": {},
   "outputs": [
    {
     "name": "stdout",
     "output_type": "stream",
     "text": [
      "last output array name: mancorr_labels\n",
      "last mrc file saved : prepyto/Dummy_102.rec_mancorr.mrc\n"
     ]
    }
   ],
   "source": [
    "pl.fix_spheres_interactively()"
   ]
  },
  {
   "cell_type": "code",
   "execution_count": 10,
   "id": "convinced-guyana",
   "metadata": {},
   "outputs": [
    {
     "name": "stdout",
     "output_type": "stream",
     "text": [
      "Prepyto Pipeline: visualizing two sets of labels. To continue, close napari window\n"
     ]
    }
   ],
   "source": [
    "pl.visualization_old_new('sphere_labels','mancorr_labels')"
   ]
  },
  {
   "cell_type": "markdown",
   "id": "olympic-maldives",
   "metadata": {},
   "source": [
    "It is recommended to compute a new sphere dataframe (which is one of the steps of make_spheres()) in order to identify remaining outliers."
   ]
  },
  {
   "cell_type": "code",
   "execution_count": 17,
   "id": "rubber-powder",
   "metadata": {},
   "outputs": [
    {
     "name": "stderr",
     "output_type": "stream",
     "text": [
      "fitting sphere to vesicles:  89%|████████▉ | 105/118 [00:14<00:07,  1.74it/s]"
     ]
    },
    {
     "name": "stdout",
     "output_type": "stream",
     "text": [
      "failed, label 122\n"
     ]
    },
    {
     "name": "stderr",
     "output_type": "stream",
     "text": [
      "fitting sphere to vesicles: 100%|██████████| 118/118 [00:19<00:00,  6.15it/s]\n"
     ]
    }
   ],
   "source": [
    "pl.compute_sphere_dataframe('mancorr_labels')"
   ]
  },
  {
   "cell_type": "code",
   "execution_count": 18,
   "id": "official-tucson",
   "metadata": {},
   "outputs": [
    {
     "data": {
      "text/plain": [
       "array([[<AxesSubplot:title={'center':'thickness'}>,\n",
       "        <AxesSubplot:title={'center':'density'}>],\n",
       "       [<AxesSubplot:title={'center':'radius'}>,\n",
       "        <AxesSubplot:title={'center':'mahalanobis'}>]], dtype=object)"
      ]
     },
     "execution_count": 18,
     "metadata": {},
     "output_type": "execute_result"
    },
    {
     "data": {
      "image/png": "[encoded data removed]",
      "text/plain": [
       "<Figure size 432x288 with 4 Axes>"
      ]
     },
     "metadata": {
      "needs_background": "light"
     },
     "output_type": "display_data"
    }
   ],
   "source": [
    "pl.sphere_df.hist()"
   ]
  },
  {
   "cell_type": "code",
   "execution_count": 19,
   "id": "chubby-probe",
   "metadata": {},
   "outputs": [
    {
     "name": "stdout",
     "output_type": "stream",
     "text": [
      "       thickness     density  radius           center  mahalanobis\n",
      "label                                                             \n",
      "141           22    2.793973      22  [199, 526, 226]     2.018086\n",
      "144           10    2.847780      37  [208, 487, 326]     2.232145\n",
      "112           36    2.988465      45  [174, 305, 440]     3.745238\n",
      "119           28    3.157514      62   [176, 314, 97]     4.610236\n",
      "135            6    3.127908      52  [174, 400, 308]     4.678382\n",
      "148           42   -0.027660      27  [203, 548, 392]     5.054249\n",
      "120            8    4.576360      64  [186, 150, 116]     6.076726\n",
      "117           66    4.785350      63   [171, 187, 79]     7.860140\n",
      "1              6 -199.000000       5   [26, 553, 268]    10.638197\n",
      "You should inspect the labels that have a high mahalanobis distance as they are the likeliest to be wrongly segmented\n"
     ]
    },
    {
     "data": {
      "image/png": "[encoded data removed]",
      "text/plain": [
       "<Figure size 432x288 with 1 Axes>"
      ]
     },
     "metadata": {
      "needs_background": "light"
     },
     "output_type": "display_data"
    }
   ],
   "source": [
    "pl.identify_spheres_outliers()"
   ]
  },
  {
   "cell_type": "code",
   "execution_count": 20,
   "id": "ultimate-camcorder",
   "metadata": {},
   "outputs": [
    {
     "name": "stdout",
     "output_type": "stream",
     "text": [
      "last output array name: mancorr_labels\n",
      "last mrc file saved : prepyto/Dummy_102.rec_mancorr.mrc\n"
     ]
    }
   ],
   "source": [
    "pl.fix_spheres_interactively('mancorr_labels')"
   ]
  },
  {
   "cell_type": "code",
   "execution_count": 21,
   "id": "shared-nirvana",
   "metadata": {},
   "outputs": [
    {
     "name": "stderr",
     "output_type": "stream",
     "text": [
      "fitting sphere to vesicles:  92%|█████████▏| 100/109 [00:02<00:00, 22.56it/s]"
     ]
    },
    {
     "name": "stdout",
     "output_type": "stream",
     "text": [
      "failed, label 122\n"
     ]
    },
    {
     "name": "stderr",
     "output_type": "stream",
     "text": [
      "fitting sphere to vesicles: 100%|██████████| 109/109 [00:03<00:00, 32.72it/s]\n"
     ]
    }
   ],
   "source": [
    "pl.compute_sphere_dataframe('mancorr_labels')"
   ]
  },
  {
   "cell_type": "code",
   "execution_count": 24,
   "id": "healthy-anchor",
   "metadata": {},
   "outputs": [
    {
     "name": "stdout",
     "output_type": "stream",
     "text": [
      "       thickness   density  radius           center  mahalanobis\n",
      "label                                                           \n",
      "104            8 -4.117820      14  [203, 367, 289]     2.014522\n",
      "20            10 -3.760571      22   [89, 676, 373]     2.038021\n",
      "102           10 -3.196447      17  [208, 864, 360]     2.041389\n",
      "34             8 -6.061285      17  [107, 367, 137]     2.140232\n",
      "99            10 -5.037697      22  [211, 354, 398]     2.150193\n",
      "16            10 -2.860914      17   [83, 668, 452]     2.176700\n",
      "42             8 -2.586101      15  [112, 679, 337]     2.220614\n",
      "28            10 -2.647040      20  [104, 156, 431]     2.265529\n",
      "93            10 -5.292155      22  [200, 387, 188]     2.268161\n",
      "65             8 -5.957868      16  [145, 286, 320]     2.298796\n",
      "30             8 -3.031496      23  [108, 723, 337]     2.368238\n",
      "5              8 -4.035897      13   [50, 787, 388]     2.397205\n",
      "105           10 -2.431980      17  [186, 302, 403]     2.414010\n",
      "63             6 -4.629148      18  [140, 314, 458]     2.470515\n",
      "19            10 -5.667855      22   [92, 247, 318]     2.484734\n",
      "27             6 -4.356322      19  [103, 578, 325]     2.494589\n",
      "10            10 -5.805753      19   [64, 207, 315]     2.566933\n",
      "69             8 -6.701202      23  [155, 176, 277]     2.613291\n",
      "97             6 -4.310938      21  [200, 802, 329]     2.692800\n",
      "59            10 -2.379234      15  [128, 896, 333]     2.748057\n",
      "31            10 -1.901599      16   [99, 674, 414]     2.874830\n",
      "77             6 -3.491970      16  [155, 616, 352]     2.878586\n",
      "23            10 -1.949058      22   [97, 889, 407]     3.102635\n",
      "45             8 -0.507260      20  [112, 355, 455]     4.171865\n",
      "You should inspect the labels that have a high mahalanobis distance as they are the likeliest to be wrongly segmented\n"
     ]
    },
    {
     "data": {
      "image/png": "[encoded data removed]",
      "text/plain": [
       "<Figure size 432x288 with 1 Axes>"
      ]
     },
     "metadata": {
      "needs_background": "light"
     },
     "output_type": "display_data"
    }
   ],
   "source": [
    "pl.identify_spheres_outliers()"
   ]
  },
  {
   "cell_type": "code",
   "execution_count": 22,
   "id": "defined-google",
   "metadata": {},
   "outputs": [
    {
     "name": "stdout",
     "output_type": "stream",
     "text": [
      "Prepyto Pipeline: visualizing two sets of labels. To continue, close napari window\n"
     ]
    }
   ],
   "source": [
    "pl.visualization_old_new('sphere_labels','mancorr_labels')"
   ]
  },
  {
   "cell_type": "code",
   "execution_count": 25,
   "id": "solid-local",
   "metadata": {},
   "outputs": [
    {
     "name": "stdout",
     "output_type": "stream",
     "text": [
      "Prepyto Pipeline: making full mod file\n",
      "rearranged labels\n",
      "last output array name: final_vesicle_labels\n",
      "last mrc file saved : prepyto/Dummy_102.rec_final_vesicle_labels.mrc\n",
      "full model file saved to prepyto/full_prepyto.mod\n",
      "Prepyto Pipeline: making full label file\n",
      "saved labels to prepyto/labels.mrc\n",
      "Prepyto Pipeline: setting up pyto folder\n",
      "/home/bzuber/projects/prepyto/102_4e_trimmed/pyto exists. Skipping pyto file creation. To force reinitialization of pyto folder, set overwrite to True\n"
     ]
    }
   ],
   "source": [
    "pl.make_full_modfile()\n",
    "pl.make_full_label_file()\n",
    "pl.initialize_pyto()"
   ]
  },
  {
   "cell_type": "code",
   "execution_count": null,
   "id": "detailed-tamil",
   "metadata": {},
   "outputs": [],
   "source": []
  }
 ],
 "metadata": {
  "kernelspec": {
   "display_name": "Python 3",
   "language": "python",
   "name": "python3"
  },
  "language_info": {
   "codemirror_mode": {
    "name": "ipython",
    "version": 3
   },
   "file_extension": ".py",
   "mimetype": "text/x-python",
   "name": "python",
   "nbconvert_exporter": "python",
   "pygments_lexer": "ipython3",
   "version": "3.8.8"
  }
 },
 "nbformat": 4,
 "nbformat_minor": 5
}
