{
 "cells": [
  {
   "cell_type": "markdown",
   "id": "swiss-stomach",
   "metadata": {
    "pycharm": {
     "name": "#%% md\n"
    }
   },
   "source": [
    "# CryoVesNet semi automatic pipeline\n",
    "disable tensorflow thousands of messages and select a GPU that is hopefully not used\n"
   ]
  },
  {
   "cell_type": "code",
   "execution_count": 1,
   "id": "obvious-penalty",
   "metadata": {
    "pycharm": {
     "name": "#%%\n"
    }
   },
   "outputs": [],
   "source": [
    "import warnings\n",
    "import os\n",
    "warnings.filterwarnings(\"ignore\")\n",
    "os.environ[\"TF_CPP_MIN_LOG_LEVEL\"]=\"2\"\n",
    "os.environ[\"CUDA_VISIBLE_DEVICES\"]=\"3\""
   ]
  },
  {
   "cell_type": "code",
   "execution_count": 2,
   "id": "effective-buddy",
   "metadata": {
    "pycharm": {
     "name": "#%%\n"
    }
   },
   "outputs": [
    {
     "name": "stdout",
     "output_type": "stream",
     "text": [
      "WARNING:tensorflow:From /home/tomo/anaconda3/envs/DeepVesicles/lib/python3.8/site-packages/tensorflow/python/compat/v2_compat.py:96: disable_resource_variables (from tensorflow.python.ops.variable_scope) is deprecated and will be removed in a future version.\n",
      "Instructions for updating:\n",
      "non-resource variables are not supported in the long term\n"
     ]
    }
   ],
   "source": [
    "import cryovesnet\n",
    "import numpy as np\n",
    "import napari\n",
    "import tqdm\n",
    "import skimage\n",
    "import matplotlib.pyplot as plt"
   ]
  },
  {
   "cell_type": "code",
   "execution_count": 3,
   "id": "proved-thermal",
   "metadata": {
    "pycharm": {
     "name": "#%%\n"
    }
   },
   "outputs": [],
   "source": [
    "dataset_directory = dataset_directory = \"/home/bzuber/projects/cryovesnet/102_4e_trimmed/\""
   ]
  },
  {
   "cell_type": "code",
   "execution_count": 4,
   "id": "ranking-grenada",
   "metadata": {
    "pycharm": {
     "name": "#%%\n"
    }
   },
   "outputs": [
    {
     "name": "stdout",
     "output_type": "stream",
     "text": [
      "CryoVesNet Pipeline: the pipeline is created for /home/bzuber/projects/cryovesnet/102_4e_trimmed\n",
      "CryoVesNet Pipeline: setting up cryovesnet directory\n"
     ]
    }
   ],
   "source": [
    "pl = cryovesnet.Pipeline(dataset_directory)\n",
    "pl.setup_cryovesnet_dir()\n"
   ]
  },
  {
   "cell_type": "markdown",
   "id": "adjustable-belgium",
   "metadata": {
    "pycharm": {
     "name": "#%% md\n"
    }
   },
   "source": [
    "## Run the deep vesicle? \n",
    "if you haven't ran the next cell for this dataset, then do it (you'll need a GPU);\n",
    "\n",
    "otherwise skip it and run the next one."
   ]
  },
  {
   "cell_type": "code",
   "execution_count": 5,
   "id": "imposed-scope",
   "metadata": {
    "collapsed": true,
    "jupyter": {
     "outputs_hidden": true
    },
    "pycharm": {
     "name": "#%%\n"
    }
   },
   "outputs": [
    {
     "name": "stderr",
     "output_type": "stream",
     "text": [
      "  0%|          | 0/8 [00:00<?, ?it/s]"
     ]
    },
    {
     "name": "stdout",
     "output_type": "stream",
     "text": [
      "CryoVesNet pipeline: run_deep_at_multiple_rescale - rescale = 0.35078625770131494\n",
      "CryoVesNet pipeline: Running unet segmentation if there are less than 7 file in ./deep directory\n"
     ]
    },
    {
     "name": "stderr",
     "output_type": "stream",
     "text": [
      "\n",
      "  0%|          | 0/5 [00:00<?, ?it/s]\u001B[A\n",
      " 20%|██        | 1/5 [00:02<00:10,  2.68s/it]\u001B[A\n",
      " 40%|████      | 2/5 [00:04<00:06,  2.06s/it]\u001B[A\n",
      " 60%|██████    | 3/5 [00:05<00:03,  1.87s/it]\u001B[A\n",
      " 80%|████████  | 4/5 [00:07<00:01,  1.77s/it]\u001B[A\n",
      "100%|██████████| 5/5 [00:09<00:00,  1.84s/it]\u001B[A\n",
      "\n",
      "finding global threshold on unet mask:   0%|          | 0/20 [00:00<?, ?it/s]\u001B[A\n",
      "finding global threshold on unet mask:  10%|█         | 2/20 [00:00<00:01, 11.99it/s]\u001B[A\n",
      "finding global threshold on unet mask:  20%|██        | 4/20 [00:00<00:01, 12.12it/s]\u001B[A\n",
      "finding global threshold on unet mask:  30%|███       | 6/20 [00:00<00:01, 12.20it/s]\u001B[A\n",
      "finding global threshold on unet mask:  40%|████      | 8/20 [00:00<00:00, 12.21it/s]\u001B[A\n",
      "finding global threshold on unet mask:  50%|█████     | 10/20 [00:00<00:00, 12.23it/s]\u001B[A\n",
      "finding global threshold on unet mask:  60%|██████    | 12/20 [00:00<00:00, 12.30it/s]\u001B[A\n",
      "finding global threshold on unet mask:  70%|███████   | 14/20 [00:01<00:00, 12.37it/s]\u001B[A\n",
      "finding global threshold on unet mask:  80%|████████  | 16/20 [00:01<00:00, 12.43it/s]\u001B[A\n",
      "finding global threshold on unet mask:  90%|█████████ | 18/20 [00:01<00:00, 12.51it/s]\u001B[A\n",
      "finding global threshold on unet mask: 100%|██████████| 20/20 [00:01<00:00, 12.39it/s]\u001B[A\n",
      "\n",
      "reorganizing labels after label clean up: 100%|██████████| 2/2 [00:00<00:00, 56.50it/s]\n"
     ]
    },
    {
     "name": "stdout",
     "output_type": "stream",
     "text": [
      "CryoVesNet Pipeline: zooming the unet mask\n",
      "last output array name: deep_mask\n",
      "last mrc file saved : cryovesnet/Dummy_102.rec_zoomed_mask.mrc\n"
     ]
    },
    {
     "name": "stderr",
     "output_type": "stream",
     "text": [
      " 12%|█▎        | 1/8 [00:33<03:55, 33.69s/it]"
     ]
    },
    {
     "name": "stdout",
     "output_type": "stream",
     "text": [
      "CryoVesNet pipeline: run_deep_at_multiple_rescale - rescale = 0.40089858023007424\n",
      "CryoVesNet pipeline: Running unet segmentation if there are less than 7 file in ./deep directory\n"
     ]
    },
    {
     "name": "stderr",
     "output_type": "stream",
     "text": [
      "\n",
      "  0%|          | 0/6 [00:00<?, ?it/s]\u001B[A\n",
      " 17%|█▋        | 1/6 [00:02<00:10,  2.06s/it]\u001B[A\n",
      " 33%|███▎      | 2/6 [00:04<00:08,  2.04s/it]\u001B[A\n",
      " 50%|█████     | 3/6 [00:06<00:06,  2.02s/it]\u001B[A\n",
      " 67%|██████▋   | 4/6 [00:08<00:04,  2.03s/it]\u001B[A\n",
      " 83%|████████▎ | 5/6 [00:10<00:02,  2.01s/it]\u001B[A\n",
      "100%|██████████| 6/6 [00:12<00:00,  2.02s/it]\u001B[A\n",
      "\n",
      "finding global threshold on unet mask:   0%|          | 0/20 [00:00<?, ?it/s]\u001B[A\n",
      "finding global threshold on unet mask:   5%|▌         | 1/20 [00:00<00:02,  8.32it/s]\u001B[A\n",
      "finding global threshold on unet mask:  25%|██▌       | 5/20 [00:00<00:02,  5.79it/s]\u001B[A\u001B[A\n",
      "finding global threshold on unet mask:  30%|███       | 6/20 [00:01<00:02,  5.81it/s]\u001B[A\n",
      "finding global threshold on unet mask:  35%|███▌      | 7/20 [00:01<00:02,  5.83it/s]\u001B[A\n",
      "finding global threshold on unet mask:  40%|████      | 8/20 [00:01<00:02,  5.83it/s]\u001B[A\n",
      "finding global threshold on unet mask:  45%|████▌     | 9/20 [00:01<00:01,  5.80it/s]\u001B[A\n",
      "finding global threshold on unet mask:  50%|█████     | 10/20 [00:01<00:01,  5.77it/s]\u001B[A\n",
      "finding global threshold on unet mask:  55%|█████▌    | 11/20 [00:01<00:01,  5.78it/s]\u001B[A\n",
      "finding global threshold on unet mask:  60%|██████    | 12/20 [00:02<00:01,  5.81it/s]\u001B[A\n",
      "finding global threshold on unet mask:  65%|██████▌   | 13/20 [00:02<00:01,  5.83it/s]\u001B[A\n",
      "finding global threshold on unet mask:  70%|███████   | 14/20 [00:02<00:01,  5.85it/s]\u001B[A\n",
      "finding global threshold on unet mask:  75%|███████▌  | 15/20 [00:02<00:00,  5.87it/s]\u001B[A\n",
      "finding global threshold on unet mask:  80%|████████  | 16/20 [00:02<00:00,  5.88it/s]\u001B[A\n",
      "finding global threshold on unet mask:  85%|████████▌ | 17/20 [00:02<00:00,  5.90it/s]\u001B[A\n",
      "finding global threshold on unet mask:  90%|█████████ | 18/20 [00:03<00:00,  5.92it/s]\u001B[A\n",
      "finding global threshold on unet mask:  95%|█████████▌| 19/20 [00:03<00:00,  5.94it/s]\u001B[A\n",
      "finding global threshold on unet mask: 100%|██████████| 20/20 [00:03<00:00,  5.85it/s]\u001B[A\n",
      "\n",
      "reorganizing labels after label clean up:   0%|          | 0/3 [00:00<?, ?it/s]\u001B[A\n",
      "reorganizing labels after label clean up: 100%|██████████| 3/3 [00:00<00:00, 26.45it/s]\u001B[A\n"
     ]
    },
    {
     "name": "stdout",
     "output_type": "stream",
     "text": [
      "CryoVesNet Pipeline: zooming the unet mask\n",
      "last output array name: deep_mask\n",
      "last mrc file saved : cryovesnet/Dummy_102.rec_zoomed_mask.mrc\n"
     ]
    },
    {
     "name": "stderr",
     "output_type": "stream",
     "text": [
      " 38%|███▊      | 3/8 [01:56<03:21, 40.30s/it]"
     ]
    },
    {
     "name": "stdout",
     "output_type": "stream",
     "text": [
      "CryoVesNet pipeline: run_deep_at_multiple_rescale - rescale = 0.5011232252875928\n",
      "CryoVesNet pipeline: Running unet segmentation if there are less than 7 file in ./deep directory\n"
     ]
    },
    {
     "name": "stderr",
     "output_type": "stream",
     "text": [
      "\n",
      "  0%|          | 0/7 [00:00<?, ?it/s]\u001B[A\n",
      " 14%|█▍        | 1/7 [00:03<00:19,  3.18s/it]\u001B[A\n",
      " 29%|██▊       | 2/7 [00:06<00:15,  3.12s/it]\u001B[A\n",
      " 43%|████▎     | 3/7 [00:09<00:12,  3.10s/it]\u001B[A\n",
      " 57%|█████▋    | 4/7 [00:12<00:09,  3.09s/it]\u001B[A\n",
      " 71%|███████▏  | 5/7 [00:15<00:06,  3.10s/it]\u001B[A\n",
      " 86%|████████▌ | 6/7 [00:18<00:03,  3.09s/it]\u001B[A\n",
      "100%|██████████| 7/7 [00:21<00:00,  3.10s/it]\u001B[A\n",
      "\n",
      "finding global threshold on unet mask:   0%|          | 0/20 [00:00<?, ?it/s]\u001B[A\n",
      "finding global threshold on unet mask:   5%|▌         | 1/20 [00:00<00:04,  4.31it/s]\u001B[A\n",
      "finding global threshold on unet mask:  10%|█         | 2/20 [00:00<00:04,  4.27it/s]\u001B[A\n",
      "finding global threshold on unet mask:  15%|█▌        | 3/20 [00:00<00:03,  4.28it/s]\u001B[A\n",
      "finding global threshold on unet mask:  20%|██        | 4/20 [00:00<00:03,  4.29it/s]\u001B[A\n",
      "finding global threshold on unet mask:  25%|██▌       | 5/20 [00:01<00:03,  4.29it/s]\u001B[A\n",
      "finding global threshold on unet mask:  30%|███       | 6/20 [00:01<00:03,  4.31it/s]\u001B[A\n",
      "finding global threshold on unet mask:  35%|███▌      | 7/20 [00:01<00:03,  4.32it/s]\u001B[A\n",
      "finding global threshold on unet mask:  40%|████      | 8/20 [00:01<00:02,  4.32it/s]\u001B[A\n",
      "finding global threshold on unet mask:  45%|████▌     | 9/20 [00:02<00:02,  4.33it/s]\u001B[A\n",
      "finding global threshold on unet mask:  50%|█████     | 10/20 [00:02<00:02,  4.33it/s]\u001B[A\n",
      "finding global threshold on unet mask:  55%|█████▌    | 11/20 [00:02<00:02,  4.31it/s]\u001B[A\n",
      "finding global threshold on unet mask:  60%|██████    | 12/20 [00:02<00:01,  4.31it/s]\u001B[A\n",
      "finding global threshold on unet mask:  65%|██████▌   | 13/20 [00:03<00:01,  4.32it/s]\u001B[A\n",
      "finding global threshold on unet mask:  70%|███████   | 14/20 [00:03<00:01,  4.33it/s]\u001B[A\n",
      "finding global threshold on unet mask:  75%|███████▌  | 15/20 [00:03<00:01,  4.34it/s]\u001B[A\n",
      "finding global threshold on unet mask:  80%|████████  | 16/20 [00:03<00:00,  4.36it/s]\u001B[A\n",
      "finding global threshold on unet mask:  85%|████████▌ | 17/20 [00:03<00:00,  4.38it/s]\u001B[A\n",
      "finding global threshold on unet mask:  90%|█████████ | 18/20 [00:04<00:00,  4.39it/s]\u001B[A\n",
      "finding global threshold on unet mask:  95%|█████████▌| 19/20 [00:04<00:00,  4.40it/s]\u001B[A\n",
      "finding global threshold on unet mask: 100%|██████████| 20/20 [00:04<00:00,  4.34it/s]\u001B[A\n",
      "\n",
      "reorganizing labels after label clean up:   0%|          | 0/5 [00:00<?, ?it/s]\u001B[A\n",
      "reorganizing labels after label clean up: 100%|██████████| 5/5 [00:00<00:00, 21.23it/s]\u001B[A\n"
     ]
    },
    {
     "name": "stdout",
     "output_type": "stream",
     "text": [
      "CryoVesNet Pipeline: zooming the unet mask\n",
      "last output array name: deep_mask\n",
      "last mrc file saved : cryovesnet/Dummy_102.rec_zoomed_mask.mrc\n"
     ]
    },
    {
     "name": "stderr",
     "output_type": "stream",
     "text": [
      " 50%|█████     | 4/8 [02:48<02:58, 44.74s/it]"
     ]
    },
    {
     "name": "stdout",
     "output_type": "stream",
     "text": [
      "CryoVesNet pipeline: run_deep_at_multiple_rescale - rescale = 0.5512355478163521\n",
      "CryoVesNet pipeline: Running unet segmentation if there are less than 7 file in ./deep directory\n"
     ]
    },
    {
     "name": "stderr",
     "output_type": "stream",
     "text": [
      "\n",
      "  0%|          | 0/8 [00:00<?, ?it/s]\u001B[A\n",
      " 12%|█▎        | 1/8 [00:03<00:26,  3.82s/it]\u001B[A\n",
      " 25%|██▌       | 2/8 [00:07<00:22,  3.70s/it]\u001B[A\n",
      " 38%|███▊      | 3/8 [00:11<00:18,  3.65s/it]\u001B[A\n",
      " 50%|█████     | 4/8 [00:14<00:14,  3.64s/it]\u001B[A\n",
      " 62%|██████▎   | 5/8 [00:18<00:10,  3.63s/it]\u001B[A\n",
      " 75%|███████▌  | 6/8 [00:21<00:07,  3.61s/it]\u001B[A\n",
      " 88%|████████▊ | 7/8 [00:25<00:03,  3.60s/it]\u001B[A\n",
      "100%|██████████| 8/8 [00:29<00:00,  3.63s/it]\u001B[A\n",
      "\n",
      "finding global threshold on unet mask:   0%|          | 0/20 [00:00<?, ?it/s]\u001B[A\n",
      "finding global threshold on unet mask:   5%|▌         | 1/20 [00:00<00:05,  3.27it/s]\u001B[A\n",
      "finding global threshold on unet mask:  10%|█         | 2/20 [00:00<00:05,  3.24it/s]\u001B[A\n",
      "finding global threshold on unet mask:  15%|█▌        | 3/20 [00:00<00:05,  3.25it/s]\u001B[A\n",
      "finding global threshold on unet mask:  20%|██        | 4/20 [00:01<00:04,  3.24it/s]\u001B[A\n",
      "finding global threshold on unet mask:  25%|██▌       | 5/20 [00:01<00:04,  3.25it/s]\u001B[A\n",
      "finding global threshold on unet mask:  30%|███       | 6/20 [00:01<00:04,  3.25it/s]\u001B[A\n",
      "finding global threshold on unet mask:  35%|███▌      | 7/20 [00:02<00:03,  3.25it/s]\u001B[A\n",
      "finding global threshold on unet mask:  40%|████      | 8/20 [00:02<00:03,  3.24it/s]\u001B[A\n",
      "finding global threshold on unet mask:  45%|████▌     | 9/20 [00:02<00:03,  3.24it/s]\u001B[A\n",
      "finding global threshold on unet mask:  50%|█████     | 10/20 [00:03<00:03,  3.25it/s]\u001B[A\n",
      "finding global threshold on unet mask:  55%|█████▌    | 11/20 [00:03<00:02,  3.26it/s]\u001B[A\n",
      "finding global threshold on unet mask:  60%|██████    | 12/20 [00:03<00:02,  3.27it/s]\u001B[A\n",
      "finding global threshold on unet mask:  65%|██████▌   | 13/20 [00:03<00:02,  3.28it/s]\u001B[A\n",
      "finding global threshold on unet mask:  70%|███████   | 14/20 [00:04<00:01,  3.28it/s]\u001B[A\n",
      "finding global threshold on unet mask:  75%|███████▌  | 15/20 [00:04<00:01,  3.29it/s]\u001B[A\n",
      "finding global threshold on unet mask:  80%|████████  | 16/20 [00:04<00:01,  3.29it/s]\u001B[A\n",
      "finding global threshold on unet mask:  85%|████████▌ | 17/20 [00:05<00:00,  3.30it/s]\u001B[A\n",
      "finding global threshold on unet mask:  90%|█████████ | 18/20 [00:05<00:00,  3.31it/s]\u001B[A\n",
      "finding global threshold on unet mask:  95%|█████████▌| 19/20 [00:05<00:00,  3.32it/s]\u001B[A\n",
      "finding global threshold on unet mask: 100%|██████████| 20/20 [00:06<00:00,  3.28it/s]\u001B[A\n",
      "\n",
      "reorganizing labels after label clean up:   0%|          | 0/6 [00:00<?, ?it/s]\u001B[A\n",
      "reorganizing labels after label clean up:  33%|███▎      | 2/6 [00:00<00:00, 16.57it/s]\u001B[A\n",
      "reorganizing labels after label clean up:  67%|██████▋   | 4/6 [00:00<00:00, 15.68it/s]\u001B[A\n",
      "reorganizing labels after label clean up: 100%|██████████| 6/6 [00:00<00:00, 15.47it/s]\u001B[A\n"
     ]
    },
    {
     "name": "stdout",
     "output_type": "stream",
     "text": [
      "CryoVesNet Pipeline: zooming the unet mask\n",
      "last output array name: deep_mask\n",
      "last mrc file saved : cryovesnet/Dummy_102.rec_zoomed_mask.mrc\n"
     ]
    },
    {
     "name": "stderr",
     "output_type": "stream",
     "text": [
      " 62%|██████▎   | 5/8 [03:49<02:32, 50.85s/it]"
     ]
    },
    {
     "name": "stdout",
     "output_type": "stream",
     "text": [
      "CryoVesNet pipeline: run_deep_at_multiple_rescale - rescale = 0.6013478703451114\n",
      "CryoVesNet pipeline: Running unet segmentation if there are less than 7 file in ./deep directory\n"
     ]
    },
    {
     "name": "stderr",
     "output_type": "stream",
     "text": [
      "\n",
      "  0%|          | 0/9 [00:00<?, ?it/s]\u001B[A\n",
      " 11%|█         | 1/9 [00:04<00:36,  4.55s/it]\u001B[A\n",
      " 22%|██▏       | 2/9 [00:09<00:31,  4.55s/it]\u001B[A\n",
      " 33%|███▎      | 3/9 [00:13<00:27,  4.50s/it]\u001B[A\n",
      " 44%|████▍     | 4/9 [00:18<00:22,  4.50s/it]\u001B[A\n",
      " 56%|█████▌    | 5/9 [00:22<00:17,  4.50s/it]\u001B[A\n",
      " 67%|██████▋   | 6/9 [00:27<00:13,  4.50s/it]\u001B[A\n",
      " 78%|███████▊  | 7/9 [00:31<00:08,  4.49s/it]\u001B[A\n",
      " 89%|████████▉ | 8/9 [00:35<00:04,  4.48s/it]\u001B[A\n",
      "100%|██████████| 9/9 [00:40<00:00,  4.50s/it]\u001B[A\n",
      "\n",
      "finding global threshold on unet mask:   0%|          | 0/20 [00:00<?, ?it/s]\u001B[A\n",
      "finding global threshold on unet mask:   5%|▌         | 1/20 [00:00<00:07,  2.53it/s]\u001B[A\n",
      "finding global threshold on unet mask:  10%|█         | 2/20 [00:00<00:07,  2.52it/s]\u001B[A\n",
      "finding global threshold on unet mask:  15%|█▌        | 3/20 [00:01<00:06,  2.52it/s]\u001B[A\n",
      "finding global threshold on unet mask:  20%|██        | 4/20 [00:01<00:06,  2.52it/s]\u001B[A\n",
      "finding global threshold on unet mask:  25%|██▌       | 5/20 [00:01<00:05,  2.53it/s]\u001B[A\n",
      "finding global threshold on unet mask:  30%|███       | 6/20 [00:02<00:05,  2.53it/s]\u001B[A\n",
      "finding global threshold on unet mask:  35%|███▌      | 7/20 [00:02<00:05,  2.53it/s]\u001B[A\n",
      "finding global threshold on unet mask:  40%|████      | 8/20 [00:03<00:04,  2.53it/s]\u001B[A\n",
      "finding global threshold on unet mask:  45%|████▌     | 9/20 [00:03<00:04,  2.54it/s]\u001B[A\n",
      "finding global threshold on unet mask:  50%|█████     | 10/20 [00:03<00:03,  2.54it/s]\u001B[A\n",
      "finding global threshold on unet mask:  55%|█████▌    | 11/20 [00:04<00:03,  2.54it/s]\u001B[A\n",
      "finding global threshold on unet mask:  60%|██████    | 12/20 [00:04<00:03,  2.54it/s]\u001B[A\n",
      "finding global threshold on unet mask:  65%|██████▌   | 13/20 [00:05<00:02,  2.54it/s]\u001B[A\n",
      "finding global threshold on unet mask:  70%|███████   | 14/20 [00:05<00:02,  2.54it/s]\u001B[A\n",
      "finding global threshold on unet mask:  75%|███████▌  | 15/20 [00:05<00:01,  2.55it/s]\u001B[A\n",
      "finding global threshold on unet mask:  80%|████████  | 16/20 [00:06<00:01,  2.55it/s]\u001B[A\n",
      "finding global threshold on unet mask:  85%|████████▌ | 17/20 [00:06<00:01,  2.56it/s]\u001B[A\n",
      "finding global threshold on unet mask:  90%|█████████ | 18/20 [00:07<00:00,  2.57it/s]\u001B[A\n",
      "finding global threshold on unet mask:  95%|█████████▌| 19/20 [00:07<00:00,  2.57it/s]\u001B[A\n",
      "finding global threshold on unet mask: 100%|██████████| 20/20 [00:07<00:00,  2.55it/s]\u001B[A\n",
      "\n",
      "reorganizing labels after label clean up:   0%|          | 0/19 [00:00<?, ?it/s]\u001B[A\n",
      "reorganizing labels after label clean up:  11%|█         | 2/19 [00:00<00:01, 12.78it/s]\u001B[A\n",
      "reorganizing labels after label clean up:  21%|██        | 4/19 [00:00<00:01, 12.25it/s]\u001B[A\n",
      "reorganizing labels after label clean up:  32%|███▏      | 6/19 [00:00<00:01, 12.18it/s]\u001B[A\n",
      "reorganizing labels after label clean up:  42%|████▏     | 8/19 [00:00<00:00, 12.23it/s]\u001B[A\n",
      "reorganizing labels after label clean up:  53%|█████▎    | 10/19 [00:00<00:00, 12.00it/s]\u001B[A\n",
      "reorganizing labels after label clean up:  63%|██████▎   | 12/19 [00:01<00:00, 11.78it/s]\u001B[A\n",
      "reorganizing labels after label clean up:  74%|███████▎  | 14/19 [00:01<00:00, 11.59it/s]\u001B[A\n",
      "reorganizing labels after label clean up:  84%|████████▍ | 16/19 [00:01<00:00, 11.51it/s]\u001B[A\n",
      "reorganizing labels after label clean up: 100%|██████████| 19/19 [00:01<00:00, 11.68it/s]\u001B[A\n"
     ]
    },
    {
     "name": "stdout",
     "output_type": "stream",
     "text": [
      "CryoVesNet Pipeline: zooming the unet mask\n",
      "last output array name: deep_mask\n",
      "last mrc file saved : cryovesnet/Dummy_102.rec_zoomed_mask.mrc\n"
     ]
    },
    {
     "name": "stderr",
     "output_type": "stream",
     "text": [
      " 75%|███████▌  | 6/8 [05:07<02:00, 60.08s/it]"
     ]
    },
    {
     "name": "stdout",
     "output_type": "stream",
     "text": [
      "CryoVesNet pipeline: run_deep_at_multiple_rescale - rescale = 0.6514601928738706\n",
      "CryoVesNet pipeline: Running unet segmentation if there are less than 7 file in ./deep directory\n"
     ]
    },
    {
     "name": "stderr",
     "output_type": "stream",
     "text": [
      "\n",
      "  0%|          | 0/9 [00:00<?, ?it/s]\u001B[A\n",
      " 11%|█         | 1/9 [00:05<00:41,  5.15s/it]\u001B[A\n",
      " 22%|██▏       | 2/9 [00:10<00:35,  5.10s/it]\u001B[A\n",
      " 33%|███▎      | 3/9 [00:15<00:30,  5.05s/it]\u001B[A\n",
      " 44%|████▍     | 4/9 [00:20<00:25,  5.05s/it]\u001B[A\n",
      " 56%|█████▌    | 5/9 [00:25<00:20,  5.05s/it]\u001B[A\n",
      " 67%|██████▋   | 6/9 [00:30<00:15,  5.07s/it]\u001B[A\n",
      " 78%|███████▊  | 7/9 [00:35<00:10,  5.06s/it]\u001B[A\n",
      " 89%|████████▉ | 8/9 [00:40<00:05,  5.05s/it]\u001B[A\n",
      "100%|██████████| 9/9 [00:45<00:00,  5.06s/it]\u001B[A\n",
      "\n",
      "finding global threshold on unet mask:   0%|          | 0/20 [00:00<?, ?it/s]\u001B[A\n",
      "finding global threshold on unet mask:   5%|▌         | 1/20 [00:00<00:09,  2.00it/s]\u001B[A\n",
      "finding global threshold on unet mask:  10%|█         | 2/20 [00:01<00:09,  1.99it/s]\u001B[A\n",
      "finding global threshold on unet mask:  15%|█▌        | 3/20 [00:01<00:08,  1.99it/s]\u001B[A\n",
      "finding global threshold on unet mask:  20%|██        | 4/20 [00:02<00:08,  1.99it/s]\u001B[A\n",
      "finding global threshold on unet mask:  25%|██▌       | 5/20 [00:02<00:07,  1.96it/s]\u001B[A\n",
      "finding global threshold on unet mask:  30%|███       | 6/20 [00:03<00:07,  1.96it/s]\u001B[A\n",
      "finding global threshold on unet mask:  35%|███▌      | 7/20 [00:03<00:06,  1.97it/s]\u001B[A\n",
      "finding global threshold on unet mask:  40%|████      | 8/20 [00:04<00:06,  1.98it/s]\u001B[A\n",
      "finding global threshold on unet mask:  45%|████▌     | 9/20 [00:04<00:05,  1.99it/s]\u001B[A\n",
      "finding global threshold on unet mask:  50%|█████     | 10/20 [00:05<00:05,  1.99it/s]\u001B[A\n",
      "finding global threshold on unet mask:  55%|█████▌    | 11/20 [00:05<00:04,  1.99it/s]\u001B[A\n",
      "finding global threshold on unet mask:  60%|██████    | 12/20 [00:06<00:04,  1.99it/s]\u001B[A\n",
      "finding global threshold on unet mask:  65%|██████▌   | 13/20 [00:06<00:03,  1.99it/s]\u001B[A\n",
      "finding global threshold on unet mask:  70%|███████   | 14/20 [00:07<00:02,  2.00it/s]\u001B[A\n",
      "finding global threshold on unet mask:  75%|███████▌  | 15/20 [00:07<00:02,  2.01it/s]\u001B[A\n",
      "finding global threshold on unet mask:  80%|████████  | 16/20 [00:08<00:01,  2.02it/s]\u001B[A\n",
      "finding global threshold on unet mask:  85%|████████▌ | 17/20 [00:08<00:01,  2.02it/s]\u001B[A\n",
      "finding global threshold on unet mask:  90%|█████████ | 18/20 [00:09<00:00,  2.03it/s]\u001B[A\n",
      "finding global threshold on unet mask:  95%|█████████▌| 19/20 [00:09<00:00,  2.04it/s]\u001B[A\n",
      "finding global threshold on unet mask: 100%|██████████| 20/20 [00:09<00:00,  2.00it/s]\u001B[A\n",
      "\n",
      "reorganizing labels after label clean up:   0%|          | 0/35 [00:00<?, ?it/s]\u001B[A\n",
      "reorganizing labels after label clean up:   6%|▌         | 2/35 [00:00<00:03,  9.46it/s]\u001B[A\n",
      "reorganizing labels after label clean up:   9%|▊         | 3/35 [00:00<00:03,  9.61it/s]\u001B[A\n",
      "reorganizing labels after label clean up:  11%|█▏        | 4/35 [00:00<00:03,  9.67it/s]\u001B[A\n",
      "reorganizing labels after label clean up:  14%|█▍        | 5/35 [00:00<00:03,  9.55it/s]\u001B[A\n",
      "reorganizing labels after label clean up:  17%|█▋        | 6/35 [00:00<00:03,  9.52it/s]\u001B[A\n",
      "reorganizing labels after label clean up:  20%|██        | 7/35 [00:00<00:02,  9.55it/s]\u001B[A\n",
      "reorganizing labels after label clean up:  23%|██▎       | 8/35 [00:00<00:02,  9.58it/s]\u001B[A\n",
      "reorganizing labels after label clean up:  26%|██▌       | 9/35 [00:00<00:02,  9.58it/s]\u001B[A\n",
      "reorganizing labels after label clean up:  29%|██▊       | 10/35 [00:01<00:02,  9.57it/s]\u001B[A\n",
      "reorganizing labels after label clean up:  31%|███▏      | 11/35 [00:01<00:02,  9.56it/s]\u001B[A\n",
      "reorganizing labels after label clean up:  34%|███▍      | 12/35 [00:01<00:02,  9.55it/s]\u001B[A\n",
      "reorganizing labels after label clean up:  37%|███▋      | 13/35 [00:01<00:02,  9.55it/s]\u001B[A\n",
      "reorganizing labels after label clean up:  40%|████      | 14/35 [00:01<00:02,  9.52it/s]\u001B[A\n",
      "reorganizing labels after label clean up:  43%|████▎     | 15/35 [00:01<00:02,  9.49it/s]\u001B[A\n",
      "reorganizing labels after label clean up:  46%|████▌     | 16/35 [00:01<00:02,  9.46it/s]\u001B[A\n",
      "reorganizing labels after label clean up:  49%|████▊     | 17/35 [00:01<00:01,  9.44it/s]\u001B[A\n",
      "reorganizing labels after label clean up:  51%|█████▏    | 18/35 [00:01<00:01,  9.40it/s]\u001B[A\n",
      "reorganizing labels after label clean up:  54%|█████▍    | 19/35 [00:01<00:01,  9.38it/s]\u001B[A\n",
      "reorganizing labels after label clean up:  57%|█████▋    | 20/35 [00:02<00:01,  9.35it/s]\u001B[A\n",
      "reorganizing labels after label clean up:  60%|██████    | 21/35 [00:02<00:01,  9.30it/s]\u001B[A\n",
      "reorganizing labels after label clean up:  63%|██████▎   | 22/35 [00:02<00:01,  9.25it/s]\u001B[A\n",
      "reorganizing labels after label clean up:  66%|██████▌   | 23/35 [00:02<00:01,  9.22it/s]\u001B[A\n",
      "reorganizing labels after label clean up:  69%|██████▊   | 24/35 [00:02<00:01,  9.19it/s]\u001B[A\n",
      "reorganizing labels after label clean up:  71%|███████▏  | 25/35 [00:02<00:01,  9.09it/s]\u001B[A\n",
      "reorganizing labels after label clean up:  74%|███████▍  | 26/35 [00:02<00:00,  9.01it/s]\u001B[A\n",
      "reorganizing labels after label clean up:  77%|███████▋  | 27/35 [00:02<00:00,  8.95it/s]\u001B[A\n",
      "reorganizing labels after label clean up:  80%|████████  | 28/35 [00:02<00:00,  8.91it/s]\u001B[A\n",
      "reorganizing labels after label clean up:  83%|████████▎ | 29/35 [00:03<00:00,  8.88it/s]\u001B[A\n",
      "reorganizing labels after label clean up:  86%|████████▌ | 30/35 [00:03<00:00,  8.83it/s]\u001B[A\n",
      "reorganizing labels after label clean up:  89%|████████▊ | 31/35 [00:03<00:00,  8.79it/s]\u001B[A\n",
      "reorganizing labels after label clean up:  91%|█████████▏| 32/35 [00:03<00:00,  8.75it/s]\u001B[A\n",
      "reorganizing labels after label clean up:  94%|█████████▍| 33/35 [00:03<00:00,  8.73it/s]\u001B[A\n",
      "reorganizing labels after label clean up:  97%|█████████▋| 34/35 [00:03<00:00,  8.69it/s]\u001B[A\n",
      "reorganizing labels after label clean up: 100%|██████████| 35/35 [00:03<00:00,  9.20it/s]\u001B[A\n"
     ]
    },
    {
     "name": "stdout",
     "output_type": "stream",
     "text": [
      "CryoVesNet Pipeline: zooming the unet mask\n",
      "last output array name: deep_mask\n",
      "last mrc file saved : cryovesnet/Dummy_102.rec_zoomed_mask.mrc\n"
     ]
    },
    {
     "name": "stderr",
     "output_type": "stream",
     "text": [
      " 88%|████████▊ | 7/8 [06:37<01:09, 69.69s/it]"
     ]
    },
    {
     "name": "stdout",
     "output_type": "stream",
     "text": [
      "CryoVesNet pipeline: run_deep_at_multiple_rescale - rescale = 0.7015725154026299\n",
      "CryoVesNet pipeline: Running unet segmentation if there are less than 7 file in ./deep directory\n"
     ]
    },
    {
     "name": "stderr",
     "output_type": "stream",
     "text": [
      "\n",
      "  0%|          | 0/10 [00:00<?, ?it/s]\u001B[A\n",
      " 10%|█         | 1/10 [00:06<00:55,  6.19s/it]\u001B[A\n",
      " 20%|██        | 2/10 [00:12<00:48,  6.06s/it]\u001B[A\n",
      " 30%|███       | 3/10 [00:18<00:42,  6.03s/it]\u001B[A\n",
      " 40%|████      | 4/10 [00:24<00:36,  6.02s/it]\u001B[A\n",
      " 50%|█████     | 5/10 [00:30<00:30,  6.03s/it]\u001B[A\n",
      " 60%|██████    | 6/10 [00:36<00:24,  6.06s/it]\u001B[A\n",
      " 70%|███████   | 7/10 [00:42<00:18,  6.04s/it]\u001B[A\n",
      " 80%|████████  | 8/10 [00:48<00:12,  6.03s/it]\u001B[A\n",
      " 90%|█████████ | 9/10 [00:54<00:06,  6.03s/it]\u001B[A\n",
      "100%|██████████| 10/10 [01:00<00:00,  6.04s/it]\u001B[A\n",
      "\n",
      "finding global threshold on unet mask:   0%|          | 0/20 [00:00<?, ?it/s]\u001B[A\n",
      "finding global threshold on unet mask:   5%|▌         | 1/20 [00:00<00:11,  1.64it/s]\u001B[A\n",
      "finding global threshold on unet mask:  10%|█         | 2/20 [00:01<00:11,  1.63it/s]\u001B[A\n",
      "finding global threshold on unet mask:  15%|█▌        | 3/20 [00:01<00:10,  1.63it/s]\u001B[A\n",
      "finding global threshold on unet mask:  20%|██        | 4/20 [00:02<00:09,  1.63it/s]\u001B[A\n",
      "finding global threshold on unet mask:  25%|██▌       | 5/20 [00:03<00:09,  1.63it/s]\u001B[A\n",
      "finding global threshold on unet mask:  30%|███       | 6/20 [00:03<00:08,  1.63it/s]\u001B[A\n",
      "finding global threshold on unet mask:  35%|███▌      | 7/20 [00:04<00:07,  1.64it/s]\u001B[A\n",
      "finding global threshold on unet mask:  40%|████      | 8/20 [00:04<00:07,  1.64it/s]\u001B[A\n",
      "finding global threshold on unet mask:  45%|████▌     | 9/20 [00:05<00:06,  1.64it/s]\u001B[A\n",
      "finding global threshold on unet mask:  50%|█████     | 10/20 [00:06<00:06,  1.64it/s]\u001B[A\n",
      "finding global threshold on unet mask:  55%|█████▌    | 11/20 [00:06<00:05,  1.64it/s]\u001B[A\n",
      "finding global threshold on unet mask:  60%|██████    | 12/20 [00:07<00:04,  1.65it/s]\u001B[A\n",
      "finding global threshold on unet mask:  65%|██████▌   | 13/20 [00:07<00:04,  1.65it/s]\u001B[A\n",
      "finding global threshold on unet mask:  70%|███████   | 14/20 [00:08<00:03,  1.65it/s]\u001B[A\n",
      "finding global threshold on unet mask:  75%|███████▌  | 15/20 [00:09<00:03,  1.65it/s]\u001B[A\n",
      "finding global threshold on unet mask:  80%|████████  | 16/20 [00:09<00:02,  1.66it/s]\u001B[A\n",
      "finding global threshold on unet mask:  85%|████████▌ | 17/20 [00:10<00:01,  1.66it/s]\u001B[A\n",
      "finding global threshold on unet mask:  90%|█████████ | 18/20 [00:10<00:01,  1.66it/s]\u001B[A\n",
      "finding global threshold on unet mask:  95%|█████████▌| 19/20 [00:11<00:00,  1.67it/s]\u001B[A\n",
      "finding global threshold on unet mask: 100%|██████████| 20/20 [00:12<00:00,  1.65it/s]\u001B[A\n",
      "\n",
      "reorganizing labels after label clean up:   0%|          | 0/7 [00:00<?, ?it/s]\u001B[A\n",
      "reorganizing labels after label clean up:  14%|█▍        | 1/7 [00:00<00:00,  7.57it/s]\u001B[A\n",
      "reorganizing labels after label clean up:  29%|██▊       | 2/7 [00:00<00:00,  7.48it/s]\u001B[A\n",
      "reorganizing labels after label clean up:  43%|████▎     | 3/7 [00:00<00:00,  7.43it/s]\u001B[A\n",
      "reorganizing labels after label clean up:  57%|█████▋    | 4/7 [00:00<00:00,  7.40it/s]\u001B[A\n",
      "reorganizing labels after label clean up:  71%|███████▏  | 5/7 [00:00<00:00,  7.39it/s]\u001B[A\n",
      "reorganizing labels after label clean up:  86%|████████▌ | 6/7 [00:00<00:00,  7.27it/s]\u001B[A\n",
      "reorganizing labels after label clean up: 100%|██████████| 7/7 [00:00<00:00,  7.33it/s]\u001B[A\n"
     ]
    },
    {
     "name": "stdout",
     "output_type": "stream",
     "text": [
      "CryoVesNet Pipeline: zooming the unet mask\n",
      "last output array name: deep_mask\n",
      "last mrc file saved : cryovesnet/Dummy_102.rec_zoomed_mask.mrc\n"
     ]
    },
    {
     "name": "stderr",
     "output_type": "stream",
     "text": [
      "100%|██████████| 8/8 [08:23<00:00, 62.91s/it]\n"
     ]
    }
   ],
   "source": [
    "pl.run_deep_at_multiple_rescale()"
   ]
  },
  {
   "cell_type": "code",
   "execution_count": 9,
   "id": "overhead-timber",
   "metadata": {
    "pycharm": {
     "name": "#%%\n"
    }
   },
   "outputs": [
    {
     "data": {
      "text/plain": [
       "'deep_mask'"
      ]
     },
     "execution_count": 9,
     "metadata": {},
     "output_type": "execute_result"
    }
   ],
   "source": [
    "pl.set_array('deep_mask')"
   ]
  },
  {
   "cell_type": "markdown",
   "id": "diagnostic-variation",
   "metadata": {
    "jupyter": {
     "source_hidden": true
    },
    "pycharm": {
     "name": "#%% md\n"
    }
   },
   "source": [
    "## label statistics\n",
    "We can select the best initial threshold for making spheres based on statistics"
   ]
  },
  {
   "cell_type": "code",
   "execution_count": 7,
   "id": "taken-science",
   "metadata": {
    "pycharm": {
     "name": "#%%\n"
    }
   },
   "outputs": [
    {
     "name": "stderr",
     "output_type": "stream",
     "text": [
      "100%|██████████| 10/10 [00:30<00:00,  3.07s/it]\n"
     ]
    }
   ],
   "source": [
    "diameter_dict = {}\n",
    "for threshold in tqdm.tqdm(np.arange(0.9,1,0.01)):\n",
    "    image_label = skimage.morphology.label(pl.deep_mask>threshold)\n",
    "    area = skimage.measure.regionprops_table(image_label, properties=('bbox_area',))['bbox_area']\n",
    "    diameter_dict[threshold] = area**(1/3)/pl.voxel_size"
   ]
  },
  {
   "cell_type": "code",
   "execution_count": 8,
   "id": "beginning-indiana",
   "metadata": {
    "pycharm": {
     "name": "#%%\n"
    }
   },
   "outputs": [
    {
     "data": {
      "image/png": "[encoded data removed]",
      "text/plain": [
       "<Figure size 720x432 with 1 Axes>"
      ]
     },
     "metadata": {
      "needs_background": "light"
     },
     "output_type": "display_data"
    }
   ],
   "source": [
    "fig = plt.figure(figsize=(10,6))\n",
    "fig.suptitle(\"diameter distribution\")\n",
    "_ = plt.hist(list(diameter_dict.values())[::1], label=list(diameter_dict.keys())[::1],bins=5)\n",
    "_ = plt.legend()"
   ]
  },
  {
   "cell_type": "code",
   "execution_count": 9,
   "id": "israeli-point",
   "metadata": {
    "pycharm": {
     "name": "#%%\n"
    }
   },
   "outputs": [
    {
     "data": {
      "text/plain": [
       "<matplotlib.collections.PathCollection at 0x7f110c65c2b0>"
      ]
     },
     "execution_count": 9,
     "metadata": {},
     "output_type": "execute_result"
    },
    {
     "data": {
      "image/png": "[encoded data removed]",
      "text/plain": [
       "<Figure size 720x432 with 1 Axes>"
      ]
     },
     "metadata": {
      "needs_background": "light"
     },
     "output_type": "display_data"
    }
   ],
   "source": [
    "fig = plt.figure(figsize=(10,6))\n",
    "fig.suptitle(\"number of labels\")\n",
    "plt.xlabel(\"threshold\")\n",
    "plt.ylabel(\"number of labels\")\n",
    "plt.grid()\n",
    "plt.scatter(x=list(diameter_dict.keys()), y=[len(v) for v in list(diameter_dict.values())])"
   ]
  },
  {
   "cell_type": "markdown",
   "id": "internal-documentation",
   "metadata": {
    "pycharm": {
     "name": "#%% md\n"
    }
   },
   "source": [
    "## How to chose the optimal starting threshold\n",
    "The higher the threshold, the lower the false positive but the higher the false negative. \n",
    "There is no single best threshold. \n",
    "\n",
    "On our test dataset, a threshold of 0.96 found most of the vesicles and gave only few false positives."
   ]
  },
  {
   "cell_type": "code",
   "execution_count": 13,
   "id": "direct-agenda",
   "metadata": {
    "pycharm": {
     "name": "#%%\n"
    }
   },
   "outputs": [
    {
     "name": "stdout",
     "output_type": "stream",
     "text": [
      "CryoVesNet Pipeline: running label_vesicles_simply\n",
      "CryoVesNet Pipeline: restricting labels to segmentation region\n",
      "last output array name: deep_mask\n",
      "last mrc file saved : cryovesnet/Dummy_102.rec_zoomed_mask.mrc\n"
     ]
    },
    {
     "name": "stderr",
     "output_type": "stream",
     "text": [
      "Expanding labels until none is too small:  17%|█▋        | 1/6 [00:08<00:42,  8.43s/it]\n"
     ]
    },
    {
     "name": "stdout",
     "output_type": "stream",
     "text": [
      "last output array name: deep_labels\n",
      "last mrc file saved : cryovesnet/Dummy_102.rec_deep_labels.mrc\n"
     ]
    }
   ],
   "source": [
    "pl.label_vesicles_simply(threshold=0.96)"
   ]
  },
  {
   "cell_type": "code",
   "execution_count": 14,
   "id": "announced-cargo",
   "metadata": {
    "pycharm": {
     "name": "#%%\n"
    }
   },
   "outputs": [
    {
     "name": "stdout",
     "output_type": "stream",
     "text": [
      "CryoVesNet Pipeline: Making vesicles spherical.\n"
     ]
    },
    {
     "name": "stderr",
     "output_type": "stream",
     "text": [
      "fitting sphere to vesicles: 100%|██████████| 102/102 [00:03<00:00, 28.93it/s]\n"
     ]
    },
    {
     "name": "stdout",
     "output_type": "stream",
     "text": [
      "last output array name: sphere_labels\n",
      "last mrc file saved : cryovesnet/Dummy_102.rec_sphere.mrc\n"
     ]
    }
   ],
   "source": [
    "pl.make_spheres()"
   ]
  },
  {
   "cell_type": "markdown",
   "id": "minus-respondent",
   "metadata": {
    "pycharm": {
     "name": "#%% md\n"
    }
   },
   "source": [
    "### optional visualization of deep_labels and sphere_labels"
   ]
  },
  {
   "cell_type": "code",
   "execution_count": 12,
   "id": "regional-function",
   "metadata": {
    "pycharm": {
     "name": "#%%\n"
    }
   },
   "outputs": [
    {
     "name": "stderr",
     "output_type": "stream",
     "text": [
      "WARNING: X server does not support XInput 2\n"
     ]
    },
    {
     "name": "stdout",
     "output_type": "stream",
     "text": [
      "CryoVesNet Pipeline: visualizing two sets of labels. To continue, close napari window\n"
     ]
    },
    {
     "name": "stderr",
     "output_type": "stream",
     "text": [
      "WARNING: QXcbConnection: XCB error: 1 (BadRequest), sequence: 169, resource id: 149, major code: 130 (Unknown), minor code: 47\n"
     ]
    }
   ],
   "source": [
    "pl.visualization_old_new('deep_labels','sphere_labels')"
   ]
  },
  {
   "cell_type": "markdown",
   "id": "afraid-shade",
   "metadata": {
    "pycharm": {
     "name": "#%% md\n"
    }
   },
   "source": [
    "### Outlier detection\n",
    "Detect outliers using multivariate statistics on 3 parameters of the detected spheres. We get a list of the most deviating labels (those that have a mahalanobis distance larger than min_mahalanobis_distance). So far the default min_mahalanobis_distance of 2.0 is good. If the red line on the plot does not include enough outliers to your liking, then use a lower value (optional parameter of pl.identify_sphere_outliers)."
   ]
  },
  {
   "cell_type": "code",
   "execution_count": 15,
   "id": "collectible-cemetery",
   "metadata": {
    "pycharm": {
     "name": "#%%\n"
    }
   },
   "outputs": [
    {
     "data": {
      "text/plain": [
       "array([[<AxesSubplot:title={'center':'thickness'}>,\n",
       "        <AxesSubplot:title={'center':'density'}>],\n",
       "       [<AxesSubplot:title={'center':'radius'}>,\n",
       "        <AxesSubplot:title={'center':'mahalanobis'}>]], dtype=object)"
      ]
     },
     "execution_count": 15,
     "metadata": {},
     "output_type": "execute_result"
    },
    {
     "data": {
      "image/png": "[encoded data removed]",
      "text/plain": [
       "<Figure size 432x288 with 4 Axes>"
      ]
     },
     "metadata": {
      "needs_background": "light"
     },
     "output_type": "display_data"
    }
   ],
   "source": [
    "pl.sphere_df.hist()"
   ]
  },
  {
   "cell_type": "code",
   "execution_count": 16,
   "id": "static-frederick",
   "metadata": {
    "pycharm": {
     "name": "#%%\n"
    }
   },
   "outputs": [
    {
     "name": "stdout",
     "output_type": "stream",
     "text": [
      "       thickness    density  radius           center  mahalanobis\n",
      "label                                                            \n",
      "5             10  -4.035897      14   [50, 787, 388]     2.003841\n",
      "42             6  -2.586101      14  [112, 679, 337]     2.096748\n",
      "59            10  -2.148012      15  [127, 896, 334]     2.104975\n",
      "45             6  -0.507260      19  [112, 355, 455]     2.285350\n",
      "55             8   2.155889      12  [122, 444, 477]     4.115182\n",
      "1              0  -1.044170      21   [29, 551, 290]     4.999518\n",
      "56             2   2.269504      10  [118, 396, 185]     5.389390\n",
      "8             18  -0.844111      17   [40, 387, 449]     6.062049\n",
      "95             8 -16.954545       6  [190, 726, 322]     7.875317\n",
      "You should inspect the labels that have a high mahalanobis distance as they are the likeliest to be wrongly segmented\n"
     ]
    },
    {
     "data": {
      "image/png": "[encoded data removed]",
      "text/plain": [
       "<Figure size 432x288 with 1 Axes>"
      ]
     },
     "metadata": {
      "needs_background": "light"
     },
     "output_type": "display_data"
    }
   ],
   "source": [
    "pl.identify_spheres_outliers(min_mahalanobis_distance=2)"
   ]
  },
  {
   "cell_type": "code",
   "execution_count": 17,
   "id": "piano-product",
   "metadata": {
    "pycharm": {
     "name": "#%%\n"
    }
   },
   "outputs": [
    {
     "name": "stdout",
     "output_type": "stream",
     "text": [
      "last output array name: mancorr_labels\n",
      "last mrc file saved : cryovesnet/Dummy_102.rec_mancorr.mrc\n"
     ]
    }
   ],
   "source": [
    "pl.fix_spheres_interactively()"
   ]
  },
  {
   "cell_type": "code",
   "execution_count": 10,
   "id": "convinced-guyana",
   "metadata": {
    "pycharm": {
     "name": "#%%\n"
    }
   },
   "outputs": [
    {
     "name": "stdout",
     "output_type": "stream",
     "text": [
      "CryoVesNet Pipeline: visualizing two sets of labels. To continue, close napari window\n"
     ]
    }
   ],
   "source": [
    "pl.visualization_old_new('sphere_labels','mancorr_labels')"
   ]
  },
  {
   "cell_type": "markdown",
   "id": "olympic-maldives",
   "metadata": {
    "pycharm": {
     "name": "#%% md\n"
    }
   },
   "source": [
    "It is recommended to compute a new sphere dataframe (which is one of the steps of make_spheres()) in order to identify remaining outliers."
   ]
  },
  {
   "cell_type": "code",
   "execution_count": 18,
   "id": "rubber-powder",
   "metadata": {
    "pycharm": {
     "name": "#%%\n"
    }
   },
   "outputs": [
    {
     "name": "stderr",
     "output_type": "stream",
     "text": [
      "fitting sphere to vesicles: 100%|██████████| 97/97 [00:01<00:00, 67.51it/s] \n"
     ]
    }
   ],
   "source": [
    "pl.compute_sphere_dataframe('mancorr_labels')"
   ]
  },
  {
   "cell_type": "code",
   "execution_count": 19,
   "id": "official-tucson",
   "metadata": {
    "pycharm": {
     "name": "#%%\n"
    }
   },
   "outputs": [
    {
     "data": {
      "text/plain": [
       "array([[<AxesSubplot:title={'center':'thickness'}>,\n",
       "        <AxesSubplot:title={'center':'density'}>],\n",
       "       [<AxesSubplot:title={'center':'radius'}>,\n",
       "        <AxesSubplot:title={'center':'mahalanobis'}>]], dtype=object)"
      ]
     },
     "execution_count": 19,
     "metadata": {},
     "output_type": "execute_result"
    },
    {
     "data": {
      "image/png": "[encoded data removed]",
      "text/plain": [
       "<Figure size 432x288 with 4 Axes>"
      ]
     },
     "metadata": {
      "needs_background": "light"
     },
     "output_type": "display_data"
    }
   ],
   "source": [
    "pl.sphere_df.hist()"
   ]
  },
  {
   "cell_type": "code",
   "execution_count": 20,
   "id": "chubby-probe",
   "metadata": {
    "pycharm": {
     "name": "#%%\n"
    }
   },
   "outputs": [
    {
     "name": "stdout",
     "output_type": "stream",
     "text": [
      "       thickness   density  radius           center  mahalanobis\n",
      "label                                                           \n",
      "20            10 -3.760571      22   [89, 676, 373]     2.054252\n",
      "102           10 -3.196447      17  [208, 864, 360]     2.111425\n",
      "99            10 -5.037697      22  [211, 354, 398]     2.136110\n",
      "34             8 -6.061285      17  [107, 367, 137]     2.143581\n",
      "93            10 -5.292155      22  [200, 387, 188]     2.249398\n",
      "16            10 -2.860914      17   [83, 668, 452]     2.253671\n",
      "42             8 -2.586101      15  [112, 679, 337]     2.270740\n",
      "65             8 -5.957868      16  [145, 286, 320]     2.308122\n",
      "28            10 -2.647040      20  [104, 156, 431]     2.316948\n",
      "30             8 -3.031496      23  [108, 723, 337]     2.355147\n",
      "5              8 -4.035897      13   [50, 787, 388]     2.455283\n",
      "19            10 -5.667855      22   [92, 247, 318]     2.460414\n",
      "63             6 -4.629148      18  [140, 314, 458]     2.470970\n",
      "27             6 -4.356322      19  [103, 578, 325]     2.485510\n",
      "10            10 -5.805753      19   [64, 207, 315]     2.542274\n",
      "69             8 -6.701202      23  [155, 176, 277]     2.622156\n",
      "97             6 -4.310938      21  [200, 802, 329]     2.680306\n",
      "59            10 -2.379234      15  [128, 896, 333]     2.846254\n",
      "77             6 -3.491970      16  [155, 616, 352]     2.872868\n",
      "31            10 -1.901599      16   [99, 674, 414]     2.969827\n",
      "23            10 -1.949058      22   [97, 889, 407]     3.144038\n",
      "45             8 -0.507260      20  [112, 355, 455]     4.172575\n",
      "You should inspect the labels that have a high mahalanobis distance as they are the likeliest to be wrongly segmented\n"
     ]
    },
    {
     "data": {
      "image/png": "[encoded data removed]",
      "text/plain": [
       "<Figure size 432x288 with 1 Axes>"
      ]
     },
     "metadata": {
      "needs_background": "light"
     },
     "output_type": "display_data"
    }
   ],
   "source": [
    "pl.identify_spheres_outliers()"
   ]
  },
  {
   "cell_type": "code",
   "execution_count": 22,
   "id": "ultimate-camcorder",
   "metadata": {
    "pycharm": {
     "name": "#%%\n"
    }
   },
   "outputs": [
    {
     "name": "stdout",
     "output_type": "stream",
     "text": [
      "last output array name: mancorr_labels\n",
      "last mrc file saved : cryovesnet/Dummy_102.rec_mancorr.mrc\n"
     ]
    }
   ],
   "source": [
    "pl.fix_spheres_interactively('mancorr_labels')"
   ]
  },
  {
   "cell_type": "code",
   "execution_count": 23,
   "id": "shared-nirvana",
   "metadata": {
    "pycharm": {
     "name": "#%%\n"
    }
   },
   "outputs": [
    {
     "name": "stderr",
     "output_type": "stream",
     "text": [
      "fitting sphere to vesicles: 100%|██████████| 99/99 [00:01<00:00, 66.62it/s] \n"
     ]
    }
   ],
   "source": [
    "pl.compute_sphere_dataframe('mancorr_labels')"
   ]
  },
  {
   "cell_type": "code",
   "execution_count": 24,
   "id": "healthy-anchor",
   "metadata": {
    "pycharm": {
     "name": "#%%\n"
    }
   },
   "outputs": [
    {
     "name": "stdout",
     "output_type": "stream",
     "text": [
      "       thickness   density  radius           center  mahalanobis\n",
      "label                                                           \n",
      "104            8 -4.117820      14  [203, 367, 289]     2.014522\n",
      "20            10 -3.760571      22   [89, 676, 373]     2.038021\n",
      "102           10 -3.196447      17  [208, 864, 360]     2.041389\n",
      "34             8 -6.061285      17  [107, 367, 137]     2.140232\n",
      "99            10 -5.037697      22  [211, 354, 398]     2.150193\n",
      "16            10 -2.860914      17   [83, 668, 452]     2.176700\n",
      "42             8 -2.586101      15  [112, 679, 337]     2.220614\n",
      "28            10 -2.647040      20  [104, 156, 431]     2.265529\n",
      "93            10 -5.292155      22  [200, 387, 188]     2.268161\n",
      "65             8 -5.957868      16  [145, 286, 320]     2.298796\n",
      "30             8 -3.031496      23  [108, 723, 337]     2.368238\n",
      "5              8 -4.035897      13   [50, 787, 388]     2.397205\n",
      "105           10 -2.431980      17  [186, 302, 403]     2.414010\n",
      "63             6 -4.629148      18  [140, 314, 458]     2.470515\n",
      "19            10 -5.667855      22   [92, 247, 318]     2.484734\n",
      "27             6 -4.356322      19  [103, 578, 325]     2.494589\n",
      "10            10 -5.805753      19   [64, 207, 315]     2.566933\n",
      "69             8 -6.701202      23  [155, 176, 277]     2.613291\n",
      "97             6 -4.310938      21  [200, 802, 329]     2.692800\n",
      "59            10 -2.379234      15  [128, 896, 333]     2.748057\n",
      "31            10 -1.901599      16   [99, 674, 414]     2.874830\n",
      "77             6 -3.491970      16  [155, 616, 352]     2.878586\n",
      "23            10 -1.949058      22   [97, 889, 407]     3.102635\n",
      "45             8 -0.507260      20  [112, 355, 455]     4.171865\n",
      "You should inspect the labels that have a high mahalanobis distance as they are the likeliest to be wrongly segmented\n"
     ]
    },
    {
     "data": {
      "image/png": "[encoded data removed]",
      "text/plain": [
       "<Figure size 432x288 with 1 Axes>"
      ]
     },
     "metadata": {
      "needs_background": "light"
     },
     "output_type": "display_data"
    }
   ],
   "source": [
    "pl.identify_spheres_outliers()"
   ]
  },
  {
   "cell_type": "code",
   "execution_count": 14,
   "id": "defined-google",
   "metadata": {
    "pycharm": {
     "name": "#%%\n"
    }
   },
   "outputs": [
    {
     "name": "stdout",
     "output_type": "stream",
     "text": [
      "CryoVesNet Pipeline: visualizing two sets of labels. To continue, close napari window\n"
     ]
    }
   ],
   "source": [
    "pl.visualization_old_new('sphere_labels','mancorr_labels')"
   ]
  },
  {
   "cell_type": "code",
   "execution_count": 25,
   "id": "solid-local",
   "metadata": {
    "pycharm": {
     "name": "#%%\n"
    }
   },
   "outputs": [
    {
     "name": "stdout",
     "output_type": "stream",
     "text": [
      "CryoVesNet Pipeline: making full mod file\n",
      "rearranged labels\n",
      "last output array name: final_vesicle_labels\n",
      "last mrc file saved : cryovesnet/Dummy_102.rec_final_vesicle_labels.mrc\n",
      "full model file saved to cryovesnet/full_cryovesnet.mod\n",
      "CryoVesNet Pipeline: making full label file\n",
      "saved labels to cryovesnet/labels.mrc\n",
      "CryoVesNet Pipeline: setting up pyto folder\n",
      "/home/bzuber/projects/cryovesnet/102_4e_trimmed/pyto exists. Skipping pyto file creation. To force reinitialization of pyto folder, set overwrite to True\n"
     ]
    }
   ],
   "source": [
    "pl.make_full_modfile()\n",
    "pl.make_full_label_file()\n",
    "pl.initialize_pyto()"
   ]
  }
 ],
 "metadata": {
  "kernelspec": {
   "display_name": "Python 3 (ipykernel)",
   "language": "python",
   "name": "python3"
  },
  "language_info": {
   "codemirror_mode": {
    "name": "ipython",
    "version": 3
   },
   "file_extension": ".py",
   "mimetype": "text/x-python",
   "name": "python",
   "nbconvert_exporter": "python",
   "pygments_lexer": "ipython3",
   "version": "3.9.7"
  }
 },
 "nbformat": 4,
 "nbformat_minor": 5
}