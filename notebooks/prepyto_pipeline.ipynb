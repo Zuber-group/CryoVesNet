{
 "cells": [
  {
   "cell_type": "code",
   "execution_count": 1,
   "id": "adjustable-swift",
   "metadata": {},
   "outputs": [
    {
     "name": "stdout",
     "output_type": "stream",
     "text": [
      "unetmic: tensorflow is missing, some function will fail\n",
      "blocks: tensorflow not found, some function will fail\n"
     ]
    },
    {
     "name": "stderr",
     "output_type": "stream",
     "text": [
      "/Users/bzuber/anaconda3/envs/DeepVesicles/lib/python3.9/site-packages/napari/_qt/__init__.py:37: UserWarning: \n",
      "    napari was tested with QT library `>=5.12.3`.\n",
      "    The version installed is 5.9.7. Please report any issues with this\n",
      "    specific QT version at https://github.com/Napari/napari/issues.\n",
      "    \n",
      "  warn(message=warn_message)\n"
     ]
    },
    {
     "name": "stdout",
     "output_type": "stream",
     "text": [
      "pipeline: tensorflow is not installed, some function will not work.\n"
     ]
    }
   ],
   "source": [
    "import prepyto"
   ]
  },
  {
   "cell_type": "code",
   "execution_count": 2,
   "id": "liquid-simpson",
   "metadata": {},
   "outputs": [
    {
     "name": "stdout",
     "output_type": "stream",
     "text": [
      "Prepyto Pipeline: the pipeline is created for /Users/bzuber/Microscopic Anatomy Dropbox/Benoit Zuber/projects/deepvesicle/data/102_4e_trimmed\n"
     ]
    }
   ],
   "source": [
    "pl = prepyto.Pipeline(\"/Users/bzuber/Microscopic Anatomy Dropbox/Benoit Zuber/projects/deepvesicle/data/102_4e_trimmed\")"
   ]
  },
  {
   "cell_type": "code",
   "execution_count": 3,
   "id": "identical-occasion",
   "metadata": {},
   "outputs": [
    {
     "name": "stdout",
     "output_type": "stream",
     "text": [
      "Prepyto Pipeline: setting up prepyto directory\n",
      "Prepyto pipeline: Running unet segmentation if there are less than 7 file in ./deep directory\n",
      "Prepyto Pipeline: zooming the unet mask\n",
      "Skipping because a full sized deep mask is already saved on the disk.\n",
      "If you want to force the program to make a new full sized deep mask, set force_run to True.\n",
      "Prepyto Pipeline: running label_vesicles\n",
      "Prepyto Pipeline: restricting labels to segmentation region\n"
     ]
    },
    {
     "name": "stderr",
     "output_type": "stream",
     "text": [
      "finding global threshold on unet mask:   0%|          | 0/20 [00:00<?, ?it/s]"
     ]
    },
    {
     "name": "stdout",
     "output_type": "stream",
     "text": [
      "last output array name: deep_mask\n",
      "last mrc file saved : prepyto/Dummy_102.rec_zoomed_mask.mrc\n"
     ]
    },
    {
     "name": "stderr",
     "output_type": "stream",
     "text": [
      "finding global threshold on unet mask: 100%|██████████| 20/20 [01:27<00:00,  4.39s/it]\n",
      "reorganizing labels after label clean up: 100%|██████████| 2/2 [00:02<00:00,  1.47s/it]\n"
     ]
    },
    {
     "name": "stdout",
     "output_type": "stream",
     "text": [
      "last output array name: deep_labels\n",
      "last mrc file saved : prepyto/Dummy_102.rec_deep_labels.mrc\n",
      "Prepyto Pipeline: Making vesicles spherical.\n"
     ]
    },
    {
     "ename": "TypeError",
     "evalue": "compute_sphere_dataframe() takes from 1 to 2 positional arguments but 3 were given",
     "output_type": "error",
     "traceback": [
      "\u001b[0;31m---------------------------------------------------------------------------\u001b[0m",
      "\u001b[0;31mTypeError\u001b[0m                                 Traceback (most recent call last)",
      "\u001b[0;32m<ipython-input-3-b730b82ada7b>\u001b[0m in \u001b[0;36m<module>\u001b[0;34m\u001b[0m\n\u001b[1;32m      3\u001b[0m \u001b[0mpl\u001b[0m\u001b[0;34m.\u001b[0m\u001b[0mzoom\u001b[0m\u001b[0;34m(\u001b[0m\u001b[0;34m)\u001b[0m\u001b[0;34m\u001b[0m\u001b[0;34m\u001b[0m\u001b[0m\n\u001b[1;32m      4\u001b[0m \u001b[0mpl\u001b[0m\u001b[0;34m.\u001b[0m\u001b[0mlabel_vesicles\u001b[0m\u001b[0;34m(\u001b[0m\u001b[0;34m)\u001b[0m\u001b[0;34m\u001b[0m\u001b[0;34m\u001b[0m\u001b[0m\n\u001b[0;32m----> 5\u001b[0;31m \u001b[0mpl\u001b[0m\u001b[0;34m.\u001b[0m\u001b[0mmake_spheres\u001b[0m\u001b[0;34m(\u001b[0m\u001b[0;34m)\u001b[0m\u001b[0;34m\u001b[0m\u001b[0;34m\u001b[0m\u001b[0m\n\u001b[0m",
      "\u001b[0;32m~/anaconda3/envs/DeepVesicles/lib/python3.9/site-packages/prepyto/pipeline.py\u001b[0m in \u001b[0;36mmake_spheres\u001b[0;34m(self, input_array_name, memkill)\u001b[0m\n\u001b[1;32m    364\u001b[0m             \u001b[0minput_array_name\u001b[0m \u001b[0;34m=\u001b[0m \u001b[0mself\u001b[0m\u001b[0;34m.\u001b[0m\u001b[0mlast_output_array_name\u001b[0m\u001b[0;34m\u001b[0m\u001b[0;34m\u001b[0m\u001b[0m\n\u001b[1;32m    365\u001b[0m         \u001b[0mself\u001b[0m\u001b[0;34m.\u001b[0m\u001b[0mset_array\u001b[0m\u001b[0;34m(\u001b[0m\u001b[0minput_array_name\u001b[0m\u001b[0;34m)\u001b[0m\u001b[0;34m\u001b[0m\u001b[0;34m\u001b[0m\u001b[0m\n\u001b[0;32m--> 366\u001b[0;31m         \u001b[0mself\u001b[0m\u001b[0;34m.\u001b[0m\u001b[0mcompute_sphere_dataframe\u001b[0m\u001b[0;34m(\u001b[0m\u001b[0minput_array_name\u001b[0m\u001b[0;34m,\u001b[0m \u001b[0;32mFalse\u001b[0m\u001b[0;34m)\u001b[0m\u001b[0;34m\u001b[0m\u001b[0;34m\u001b[0m\u001b[0m\n\u001b[0m\u001b[1;32m    367\u001b[0m         \u001b[0mself\u001b[0m\u001b[0;34m.\u001b[0m\u001b[0msphere_labels\u001b[0m \u001b[0;34m=\u001b[0m \u001b[0mprepyto\u001b[0m\u001b[0;34m.\u001b[0m\u001b[0mmake_vesicle_from_sphere_dataframe\u001b[0m\u001b[0;34m(\u001b[0m\u001b[0mgetattr\u001b[0m\u001b[0;34m(\u001b[0m\u001b[0mself\u001b[0m\u001b[0;34m,\u001b[0m\u001b[0minput_array_name\u001b[0m\u001b[0;34m)\u001b[0m\u001b[0;34m,\u001b[0m \u001b[0mself\u001b[0m\u001b[0;34m.\u001b[0m\u001b[0msphere_df\u001b[0m\u001b[0;34m)\u001b[0m\u001b[0;34m\u001b[0m\u001b[0;34m\u001b[0m\u001b[0m\n\u001b[1;32m    368\u001b[0m         \u001b[0mprepyto\u001b[0m\u001b[0;34m.\u001b[0m\u001b[0msave_label_to_mrc\u001b[0m\u001b[0;34m(\u001b[0m\u001b[0mself\u001b[0m\u001b[0;34m.\u001b[0m\u001b[0msphere_labels\u001b[0m\u001b[0;34m,\u001b[0m \u001b[0mself\u001b[0m\u001b[0;34m.\u001b[0m\u001b[0msphere_labels_path\u001b[0m\u001b[0;34m,\u001b[0m \u001b[0mtemplate_path\u001b[0m\u001b[0;34m=\u001b[0m\u001b[0mself\u001b[0m\u001b[0;34m.\u001b[0m\u001b[0mimage_path\u001b[0m\u001b[0;34m)\u001b[0m\u001b[0;34m\u001b[0m\u001b[0;34m\u001b[0m\u001b[0m\n",
      "\u001b[0;31mTypeError\u001b[0m: compute_sphere_dataframe() takes from 1 to 2 positional arguments but 3 were given"
     ]
    }
   ],
   "source": [
    "pl.setup_prepyto_dir()\n",
    "pl.run_deep()\n",
    "pl.zoom()\n",
    "pl.label_vesicles()\n",
    "pl.make_spheres()"
   ]
  },
  {
   "cell_type": "markdown",
   "id": "practical-dubai",
   "metadata": {},
   "source": [
    "### Outlier detection\n",
    "Detect outliers using multivariate statistics on 3 parameters of the detected spheres. We get a list of the most deviating labels (those that have a mahalanobis distance larger than min_mahalanobis_distance). So far the default min_mahalanobis_distance of 2.0 is good. If the red line on the plot does not include enough outliers to your liking, then use a lower value (optional parameter of pl.identify_sphere_outliers)."
   ]
  },
  {
   "cell_type": "code",
   "execution_count": null,
   "id": "freelance-toilet",
   "metadata": {},
   "outputs": [],
   "source": [
    "pl.sphere_df.hist()"
   ]
  },
  {
   "cell_type": "code",
   "execution_count": null,
   "id": "hungarian-tulsa",
   "metadata": {},
   "outputs": [],
   "source": [
    "pl.identify_spheres_outliers(min_mahalanobis_distance=2)"
   ]
  },
  {
   "cell_type": "code",
   "execution_count": null,
   "id": "greatest-burst",
   "metadata": {},
   "outputs": [],
   "source": [
    "pl.fix_spheres_interactively()"
   ]
  },
  {
   "cell_type": "code",
   "execution_count": null,
   "id": "forward-rubber",
   "metadata": {},
   "outputs": [],
   "source": [
    "pl.visualization_old_new('sphere_labels','mancorr_labels')"
   ]
  },
  {
   "cell_type": "code",
   "execution_count": 6,
   "id": "swedish-eligibility",
   "metadata": {},
   "outputs": [
    {
     "name": "stderr",
     "output_type": "stream",
     "text": [
      "fitting sphere to vesicles: 100%|██████████| 90/90 [00:02<00:00, 34.25it/s]\n"
     ]
    }
   ],
   "source": [
    "pl.compute_sphere_dataframe('mancorr_labels')"
   ]
  },
  {
   "cell_type": "code",
   "execution_count": 7,
   "id": "weekly-burden",
   "metadata": {},
   "outputs": [
    {
     "data": {
      "text/plain": [
       "array([[<AxesSubplot:title={'center':'thickness'}>,\n",
       "        <AxesSubplot:title={'center':'density'}>],\n",
       "       [<AxesSubplot:title={'center':'radius'}>,\n",
       "        <AxesSubplot:title={'center':'mahalanobis'}>]], dtype=object)"
      ]
     },
     "execution_count": 7,
     "metadata": {},
     "output_type": "execute_result"
    },
    {
     "data": {
      "image/png": "[encoded data removed]",
      "text/plain": [
       "<Figure size 432x288 with 4 Axes>"
      ]
     },
     "metadata": {
      "needs_background": "light"
     },
     "output_type": "display_data"
    }
   ],
   "source": [
    "pl.sphere_df.hist()"
   ]
  },
  {
   "cell_type": "code",
   "execution_count": 8,
   "id": "deadly-necessity",
   "metadata": {},
   "outputs": [
    {
     "name": "stdout",
     "output_type": "stream",
     "text": [
      "       thickness   density  radius           center  mahalanobis\n",
      "label                                                           \n",
      "88            10 -5.037697      22  [211, 354, 398]     2.076607\n",
      "28             8 -6.061285      17  [107, 367, 137]     2.080064\n",
      "9              8 -4.930504      15   [62, 831, 363]     2.097253\n",
      "87            10 -3.923858      17  [204, 545, 382]     2.099355\n",
      "81            10 -5.292155      22  [200, 387, 188]     2.182538\n",
      "89            10 -3.196447      17  [208, 864, 360]     2.195112\n",
      "26            10 -2.647040      20  [104, 156, 431]     2.196096\n",
      "55             8 -5.957868      16  [145, 286, 320]     2.305780\n",
      "14            10 -2.860914      17   [83, 668, 452]     2.312807\n",
      "16            10 -5.667855      22   [92, 247, 318]     2.378213\n",
      "51             6 -4.629148      18  [140, 314, 458]     2.446046\n",
      "24             6 -4.356322      19  [103, 578, 325]     2.454497\n",
      "7             10 -5.805753      19   [64, 207, 315]     2.464764\n",
      "60             8 -6.701202      23  [155, 176, 277]     2.535369\n",
      "86             6 -4.310938      21  [200, 802, 329]     2.662887\n",
      "66             6 -3.491970      16  [155, 616, 352]     2.913161\n",
      "21            10 -1.949058      22   [97, 889, 407]     2.950384\n",
      "94             8 -0.507260      20  [112, 355, 455]     3.909479\n",
      "29            10  0.151733      18  [107, 724, 330]     4.409874\n",
      "You should inspect the labels that have a high mahalanobis distance as they are the likeliest to be wrongly segmented\n"
     ]
    },
    {
     "data": {
      "image/png": "[encoded data removed]",
      "text/plain": [
       "<Figure size 432x288 with 1 Axes>"
      ]
     },
     "metadata": {
      "needs_background": "light"
     },
     "output_type": "display_data"
    }
   ],
   "source": [
    "pl.identify_spheres_outliers()"
   ]
  },
  {
   "cell_type": "code",
   "execution_count": 9,
   "id": "tender-constraint",
   "metadata": {},
   "outputs": [
    {
     "name": "stdout",
     "output_type": "stream",
     "text": [
      "last output array name: mancorr_labels\n",
      "last mrc file saved : prepyto/Dummy_102.rec_mancorr.mrc\n"
     ]
    }
   ],
   "source": [
    "pl.fix_spheres_interactively('mancorr_labels')"
   ]
  },
  {
   "cell_type": "code",
   "execution_count": 10,
   "id": "professional-collectible",
   "metadata": {},
   "outputs": [
    {
     "name": "stderr",
     "output_type": "stream",
     "text": [
      "fitting sphere to vesicles: 100%|██████████| 90/90 [00:02<00:00, 32.32it/s]\n"
     ]
    }
   ],
   "source": [
    "pl.compute_sphere_dataframe('mancorr_labels')"
   ]
  },
  {
   "cell_type": "code",
   "execution_count": 11,
   "id": "synthetic-rochester",
   "metadata": {},
   "outputs": [
    {
     "name": "stdout",
     "output_type": "stream",
     "text": [
      "       thickness   density  radius           center  mahalanobis\n",
      "label                                                           \n",
      "17            10 -3.760571      22   [89, 676, 373]     2.044289\n",
      "88            10 -5.037697      22  [211, 354, 398]     2.075853\n",
      "9              8 -4.930504      15   [62, 831, 363]     2.075870\n",
      "71             8 -2.658918      17  [168, 838, 434]     2.083092\n",
      "73            10 -3.407016      18  [176, 707, 384]     2.095814\n",
      "28             8 -6.061285      17  [107, 367, 137]     2.160959\n",
      "87            10 -3.923858      17  [204, 545, 382]     2.166846\n",
      "81            10 -5.292155      22  [200, 387, 188]     2.186120\n",
      "95             8 -3.031496      23  [108, 723, 337]     2.301953\n",
      "55             8 -5.957868      16  [145, 286, 320]     2.351856\n",
      "89            10 -3.196447      17  [208, 864, 360]     2.371099\n",
      "16            10 -5.667855      22   [92, 247, 318]     2.396402\n",
      "26            10 -2.647040      20  [104, 156, 431]     2.445564\n",
      "24             6 -4.356322      19  [103, 578, 325]     2.446563\n",
      "51             6 -4.629148      18  [140, 314, 458]     2.460342\n",
      "7             10 -5.805753      19   [64, 207, 315]     2.465567\n",
      "14            10 -2.860914      17   [83, 668, 452]     2.540870\n",
      "86             6 -4.310938      21  [200, 802, 329]     2.632277\n",
      "60             8 -6.701202      23  [155, 176, 277]     2.743988\n",
      "66             6 -3.491970      16  [155, 616, 352]     2.918629\n",
      "21            10 -1.949058      22   [97, 889, 407]     3.220189\n",
      "94             8 -0.507260      20  [112, 355, 455]     4.239335\n",
      "You should inspect the labels that have a high mahalanobis distance as they are the likeliest to be wrongly segmented\n"
     ]
    },
    {
     "data": {
      "image/png": "[encoded data removed]",
      "text/plain": [
       "<Figure size 432x288 with 1 Axes>"
      ]
     },
     "metadata": {
      "needs_background": "light"
     },
     "output_type": "display_data"
    }
   ],
   "source": [
    "pl.identify_spheres_outliers()"
   ]
  },
  {
   "cell_type": "code",
   "execution_count": 12,
   "id": "initial-approach",
   "metadata": {},
   "outputs": [
    {
     "name": "stdout",
     "output_type": "stream",
     "text": [
      "Prepyto Pipeline: visualizing two sets of labels. To continue, close napari window\n"
     ]
    }
   ],
   "source": [
    "pl.visualization_old_new('sphere_labels','mancorr_labels')"
   ]
  },
  {
   "cell_type": "code",
   "execution_count": null,
   "id": "approximate-generator",
   "metadata": {},
   "outputs": [],
   "source": []
  }
 ],
 "metadata": {
  "kernelspec": {
   "display_name": "Python 3",
   "language": "python",
   "name": "python3"
  },
  "language_info": {
   "codemirror_mode": {
    "name": "ipython",
    "version": 3
   },
   "file_extension": ".py",
   "mimetype": "text/x-python",
   "name": "python",
   "nbconvert_exporter": "python",
   "pygments_lexer": "ipython3",
   "version": "3.9.1"
  }
 },
 "nbformat": 4,
 "nbformat_minor": 5
}
