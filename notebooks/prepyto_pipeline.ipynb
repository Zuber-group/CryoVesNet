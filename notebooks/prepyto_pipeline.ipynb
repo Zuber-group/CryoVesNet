{
 "cells": [
  {
   "cell_type": "code",
   "execution_count": 1,
   "id": "assigned-regular",
   "metadata": {},
   "outputs": [
    {
     "name": "stdout",
     "output_type": "stream",
     "text": [
      "unetmic: tensorflow is missing, some function will fail\n",
      "blocks: tensorflow not found, some function will fail\n"
     ]
    },
    {
     "name": "stderr",
     "output_type": "stream",
     "text": [
      "/Users/bzuber/anaconda3/envs/DeepVesicles/lib/python3.9/site-packages/napari/_qt/__init__.py:37: UserWarning: \n",
      "    napari was tested with QT library `>=5.12.3`.\n",
      "    The version installed is 5.9.7. Please report any issues with this\n",
      "    specific QT version at https://github.com/Napari/napari/issues.\n",
      "    \n",
      "  warn(message=warn_message)\n"
     ]
    },
    {
     "name": "stdout",
     "output_type": "stream",
     "text": [
      "pipeline: tensorflow is not installed, some function will not work.\n"
     ]
    }
   ],
   "source": [
    "import prepyto"
   ]
  },
  {
   "cell_type": "code",
   "execution_count": 2,
   "id": "thrown-sewing",
   "metadata": {},
   "outputs": [
    {
     "name": "stdout",
     "output_type": "stream",
     "text": [
      "Prepyto Pipeline: the pipeline is created for /Users/bzuber/Microscopic Anatomy Dropbox/Benoit Zuber/projects/deepvesicle/data/102_4e_trimmed\n"
     ]
    }
   ],
   "source": [
    "pl = prepyto.Pipeline(\"/Users/bzuber/Microscopic Anatomy Dropbox/Benoit Zuber/projects/deepvesicle/data/102_4e_trimmed\")"
   ]
  },
  {
   "cell_type": "code",
   "execution_count": null,
   "id": "exempt-apache",
   "metadata": {},
   "outputs": [],
   "source": [
    "pl.setup_prepyto_dir()\n",
    "pl.run_deep()\n",
    "pl.zoom()\n",
    "pl.label_vesicles()\n",
    "pl.make_spheres()"
   ]
  },
  {
   "cell_type": "markdown",
   "id": "skilled-acoustic",
   "metadata": {},
   "source": [
    "### Outlier detection\n",
    "Detect outliers using multivariate statistics on 3 parameters of the detected spheres. We get a list of the most deviating labels (those that have a mahalanobis distance larger than min_mahalanobis_distance). So far the default min_mahalanobis_distance of 2.0 is good. If the red line on the plot does not include enough outliers to your liking, then use a lower value (optional parameter of pl.identify_sphere_outliers)."
   ]
  },
  {
   "cell_type": "code",
   "execution_count": null,
   "id": "impaired-period",
   "metadata": {},
   "outputs": [],
   "source": [
    "pl.sphere_df.hist()"
   ]
  },
  {
   "cell_type": "code",
   "execution_count": 5,
   "id": "explicit-aggregate",
   "metadata": {},
   "outputs": [
    {
     "name": "stdout",
     "output_type": "stream",
     "text": [
      "       thickness     density  radius           center  mahalanobis\n",
      "label                                                             \n",
      "22             8   -3.476426      22  [101, 862, 356]     1.045847\n",
      "15             8   -3.958274      22   [88, 556, 398]     1.052383\n",
      "30             8   -4.174682      22  [109, 318, 387]     1.055700\n",
      "90             8   -4.181047      22  [218, 681, 397]     1.055801\n",
      "50             8   -4.199906      22  [143, 733, 375]     1.056102\n",
      "86             8   -4.310938      22  [200, 802, 329]     1.057908\n",
      "68             8   -5.511551      22  [173, 508, 187]     1.081269\n",
      "55             8   -5.957868      16  [145, 286, 320]     1.084478\n",
      "77             8   -5.730552      22  [192, 354, 236]     1.086265\n",
      "87             8   -3.923858      16  [204, 545, 382]     1.163290\n",
      "36             8   -3.106091      16  [109, 922, 359]     1.198883\n",
      "14             8   -2.920812      16   [83, 668, 451]     1.207226\n",
      "26            10   -2.647040      20  [104, 156, 431]     1.322917\n",
      "31            10   -3.488939      20  [111, 282, 237]     1.336284\n",
      "40            10   -3.673715      20  [126, 611, 404]     1.339590\n",
      "8             10   -5.028627      20   [62, 296, 385]     1.367798\n",
      "12             8   -4.188769      23   [86, 419, 408]     1.401633\n",
      "7             10   -5.805753      19   [64, 207, 315]     1.402367\n",
      "38             8   -4.534604      23  [118, 232, 273]     1.408657\n",
      "91            10   -4.384453      21  [222, 724, 388]     1.418278\n",
      "58             8   -5.243887      23  [154, 321, 284]     1.424401\n",
      "46             8   -5.375259      23  [139, 399, 214]     1.427511\n",
      "25             8   -5.415665      23  [108, 581, 206]     1.428480\n",
      "6             10   -4.795221      21   [62, 859, 330]     1.429888\n",
      "60             8   -6.701202      23  [155, 176, 277]     1.462180\n",
      "59            10   -2.845309      18  [151, 536, 243]     1.491187\n",
      "69            10   -3.854184      18  [168, 751, 410]     1.491969\n",
      "78            10   -4.019442      18  [187, 843, 335]     1.492455\n",
      "21            10   -1.949058      22   [97, 889, 407]     1.494531\n",
      "43            10   -4.846999      18  [131, 633, 327]     1.496402\n",
      "32             8   -4.137146      15  [103, 232, 400]     1.501369\n",
      "29            10    0.151733      18  [107, 724, 330]     1.510927\n",
      "17            10   -3.760571      22   [89, 676, 373]     1.543945\n",
      "79            10   -3.896332      22  [191, 762, 368]     1.548056\n",
      "88            10   -5.060367      22  [212, 354, 398]     1.585494\n",
      "16            10   -5.667855      22   [92, 247, 318]     1.606533\n",
      "54            10   -4.306599      17  [140, 370, 410]     1.676742\n",
      "89            10   -3.196447      17  [208, 864, 360]     1.681624\n",
      "23            10   -5.153230      23  [101, 157, 284]     1.795978\n",
      "51             6   -4.629148      18  [140, 314, 458]     1.855605\n",
      "24             6   -4.356322      19  [103, 578, 325]     1.866661\n",
      "63             6   -3.959468      19  [157, 821, 399]     1.876747\n",
      "9             10   -4.930504      16   [62, 831, 363]     1.904854\n",
      "48             6   -4.549251      17  [135, 140, 316]     1.921092\n",
      "2              6   -4.893021      20   [51, 763, 355]     1.926362\n",
      "85             6   -4.761080      20  [201, 429, 384]     1.928630\n",
      "34             6   -4.509679      20  [115, 279, 357]     1.933081\n",
      "19            10   -3.584128      24   [94, 480, 425]     1.989073\n",
      "44            10   -3.740779      24  [137, 832, 359]     1.994374\n",
      "70             6   -4.842350      16  [168, 446, 291]     2.033909\n",
      "84             6   -3.680481      22  [201, 842, 401]     2.248192\n",
      "82             6   -3.642132      15  [188, 340, 359]     2.256307\n",
      "83            12   -1.159574      12  [185, 334, 353]     4.238253\n",
      "74             6  -10.151515       5  [168, 879, 339]     4.924652\n",
      "1              4 -154.854430       5   [26, 553, 268]     9.410710\n",
      "You should inspect the labels that have a high mahalanobis distance as they are the likeliest to be wrongly segmented\n"
     ]
    },
    {
     "data": {
      "image/png": "[encoded data removed]",
      "text/plain": [
       "<Figure size 432x288 with 1 Axes>"
      ]
     },
     "metadata": {
      "needs_background": "light"
     },
     "output_type": "display_data"
    }
   ],
   "source": [
    "pl.identify_spheres_outliers(min_mahalanobis_distance=1)"
   ]
  },
  {
   "cell_type": "code",
   "execution_count": null,
   "id": "changed-kernel",
   "metadata": {},
   "outputs": [],
   "source": [
    "pl.fix_spheres_interactively()"
   ]
  },
  {
   "cell_type": "code",
   "execution_count": null,
   "id": "union-cheese",
   "metadata": {},
   "outputs": [],
   "source": [
    "pl.visualization_old_new('sphere_labels','mancorr_labels')"
   ]
  },
  {
   "cell_type": "code",
   "execution_count": 6,
   "id": "convenient-isolation",
   "metadata": {},
   "outputs": [
    {
     "name": "stderr",
     "output_type": "stream",
     "text": [
      "fitting sphere to vesicles: 100%|██████████| 90/90 [00:02<00:00, 34.25it/s]\n"
     ]
    }
   ],
   "source": [
    "pl.compute_sphere_dataframe('mancorr_labels')"
   ]
  },
  {
   "cell_type": "code",
   "execution_count": 7,
   "id": "smart-acrobat",
   "metadata": {},
   "outputs": [
    {
     "data": {
      "text/plain": [
       "array([[<AxesSubplot:title={'center':'thickness'}>,\n",
       "        <AxesSubplot:title={'center':'density'}>],\n",
       "       [<AxesSubplot:title={'center':'radius'}>,\n",
       "        <AxesSubplot:title={'center':'mahalanobis'}>]], dtype=object)"
      ]
     },
     "execution_count": 7,
     "metadata": {},
     "output_type": "execute_result"
    },
    {
     "data": {
      "image/png": "[encoded data removed]",
      "text/plain": [
       "<Figure size 432x288 with 4 Axes>"
      ]
     },
     "metadata": {
      "needs_background": "light"
     },
     "output_type": "display_data"
    }
   ],
   "source": [
    "pl.sphere_df.hist()"
   ]
  },
  {
   "cell_type": "code",
   "execution_count": 8,
   "id": "female-zimbabwe",
   "metadata": {},
   "outputs": [
    {
     "name": "stdout",
     "output_type": "stream",
     "text": [
      "       thickness   density  radius           center  mahalanobis\n",
      "label                                                           \n",
      "88            10 -5.037697      22  [211, 354, 398]     2.076607\n",
      "28             8 -6.061285      17  [107, 367, 137]     2.080064\n",
      "9              8 -4.930504      15   [62, 831, 363]     2.097253\n",
      "87            10 -3.923858      17  [204, 545, 382]     2.099355\n",
      "81            10 -5.292155      22  [200, 387, 188]     2.182538\n",
      "89            10 -3.196447      17  [208, 864, 360]     2.195112\n",
      "26            10 -2.647040      20  [104, 156, 431]     2.196096\n",
      "55             8 -5.957868      16  [145, 286, 320]     2.305780\n",
      "14            10 -2.860914      17   [83, 668, 452]     2.312807\n",
      "16            10 -5.667855      22   [92, 247, 318]     2.378213\n",
      "51             6 -4.629148      18  [140, 314, 458]     2.446046\n",
      "24             6 -4.356322      19  [103, 578, 325]     2.454497\n",
      "7             10 -5.805753      19   [64, 207, 315]     2.464764\n",
      "60             8 -6.701202      23  [155, 176, 277]     2.535369\n",
      "86             6 -4.310938      21  [200, 802, 329]     2.662887\n",
      "66             6 -3.491970      16  [155, 616, 352]     2.913161\n",
      "21            10 -1.949058      22   [97, 889, 407]     2.950384\n",
      "94             8 -0.507260      20  [112, 355, 455]     3.909479\n",
      "29            10  0.151733      18  [107, 724, 330]     4.409874\n",
      "You should inspect the labels that have a high mahalanobis distance as they are the likeliest to be wrongly segmented\n"
     ]
    },
    {
     "data": {
      "image/png": "[encoded data removed]",
      "text/plain": [
       "<Figure size 432x288 with 1 Axes>"
      ]
     },
     "metadata": {
      "needs_background": "light"
     },
     "output_type": "display_data"
    }
   ],
   "source": [
    "pl.identify_spheres_outliers()"
   ]
  },
  {
   "cell_type": "code",
   "execution_count": 9,
   "id": "gorgeous-account",
   "metadata": {},
   "outputs": [
    {
     "name": "stdout",
     "output_type": "stream",
     "text": [
      "last output array name: mancorr_labels\n",
      "last mrc file saved : prepyto/Dummy_102.rec_mancorr.mrc\n"
     ]
    }
   ],
   "source": [
    "pl.fix_spheres_interactively('mancorr_labels')"
   ]
  },
  {
   "cell_type": "code",
   "execution_count": 10,
   "id": "metric-builder",
   "metadata": {},
   "outputs": [
    {
     "name": "stderr",
     "output_type": "stream",
     "text": [
      "fitting sphere to vesicles: 100%|██████████| 90/90 [00:02<00:00, 32.32it/s]\n"
     ]
    }
   ],
   "source": [
    "pl.compute_sphere_dataframe('mancorr_labels')"
   ]
  },
  {
   "cell_type": "code",
   "execution_count": 11,
   "id": "sealed-belly",
   "metadata": {},
   "outputs": [
    {
     "name": "stdout",
     "output_type": "stream",
     "text": [
      "       thickness   density  radius           center  mahalanobis\n",
      "label                                                           \n",
      "17            10 -3.760571      22   [89, 676, 373]     2.044289\n",
      "88            10 -5.037697      22  [211, 354, 398]     2.075853\n",
      "9              8 -4.930504      15   [62, 831, 363]     2.075870\n",
      "71             8 -2.658918      17  [168, 838, 434]     2.083092\n",
      "73            10 -3.407016      18  [176, 707, 384]     2.095814\n",
      "28             8 -6.061285      17  [107, 367, 137]     2.160959\n",
      "87            10 -3.923858      17  [204, 545, 382]     2.166846\n",
      "81            10 -5.292155      22  [200, 387, 188]     2.186120\n",
      "95             8 -3.031496      23  [108, 723, 337]     2.301953\n",
      "55             8 -5.957868      16  [145, 286, 320]     2.351856\n",
      "89            10 -3.196447      17  [208, 864, 360]     2.371099\n",
      "16            10 -5.667855      22   [92, 247, 318]     2.396402\n",
      "26            10 -2.647040      20  [104, 156, 431]     2.445564\n",
      "24             6 -4.356322      19  [103, 578, 325]     2.446563\n",
      "51             6 -4.629148      18  [140, 314, 458]     2.460342\n",
      "7             10 -5.805753      19   [64, 207, 315]     2.465567\n",
      "14            10 -2.860914      17   [83, 668, 452]     2.540870\n",
      "86             6 -4.310938      21  [200, 802, 329]     2.632277\n",
      "60             8 -6.701202      23  [155, 176, 277]     2.743988\n",
      "66             6 -3.491970      16  [155, 616, 352]     2.918629\n",
      "21            10 -1.949058      22   [97, 889, 407]     3.220189\n",
      "94             8 -0.507260      20  [112, 355, 455]     4.239335\n",
      "You should inspect the labels that have a high mahalanobis distance as they are the likeliest to be wrongly segmented\n"
     ]
    },
    {
     "data": {
      "image/png": "[encoded data removed]",
      "text/plain": [
       "<Figure size 432x288 with 1 Axes>"
      ]
     },
     "metadata": {
      "needs_background": "light"
     },
     "output_type": "display_data"
    }
   ],
   "source": [
    "pl.identify_spheres_outliers()"
   ]
  },
  {
   "cell_type": "code",
   "execution_count": 12,
   "id": "every-rover",
   "metadata": {},
   "outputs": [
    {
     "name": "stdout",
     "output_type": "stream",
     "text": [
      "Prepyto Pipeline: visualizing two sets of labels. To continue, close napari window\n"
     ]
    }
   ],
   "source": [
    "pl.visualization_old_new('sphere_labels','mancorr_labels')"
   ]
  },
  {
   "cell_type": "code",
   "execution_count": null,
   "id": "chinese-sarah",
   "metadata": {},
   "outputs": [],
   "source": []
  }
 ],
 "metadata": {
  "kernelspec": {
   "display_name": "Python 3",
   "language": "python",
   "name": "python3"
  },
  "language_info": {
   "codemirror_mode": {
    "name": "ipython",
    "version": 3
   },
   "file_extension": ".py",
   "mimetype": "text/x-python",
   "name": "python",
   "nbconvert_exporter": "python",
   "pygments_lexer": "ipython3",
   "version": "3.9.1"
  }
 },
 "nbformat": 4,
 "nbformat_minor": 5
}
