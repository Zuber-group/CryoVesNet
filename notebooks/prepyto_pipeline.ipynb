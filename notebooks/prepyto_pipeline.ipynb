{
 "cells": [
  {
   "cell_type": "code",
   "execution_count": 1,
   "id": "stuck-disney",
   "metadata": {},
   "outputs": [
    {
     "name": "stdout",
     "output_type": "stream",
     "text": [
      "unetmic: tensorflow is missing, some function will fail\n",
      "blocks: tensorflow not found, some function will fail\n"
     ]
    },
    {
     "name": "stderr",
     "output_type": "stream",
     "text": [
      "/Users/bzuber/anaconda3/envs/DeepVesicles/lib/python3.9/site-packages/napari/_qt/__init__.py:37: UserWarning: \n",
      "    napari was tested with QT library `>=5.12.3`.\n",
      "    The version installed is 5.9.7. Please report any issues with this\n",
      "    specific QT version at https://github.com/Napari/napari/issues.\n",
      "    \n",
      "  warn(message=warn_message)\n"
     ]
    },
    {
     "name": "stdout",
     "output_type": "stream",
     "text": [
      "pipeline: tensorflow is not installed, some function will not work.\n"
     ]
    }
   ],
   "source": [
    "import prepyto"
   ]
  },
  {
   "cell_type": "code",
   "execution_count": 2,
   "id": "adapted-qualification",
   "metadata": {},
   "outputs": [
    {
     "name": "stdout",
     "output_type": "stream",
     "text": [
      "Prepyto Pipeline: the pipeline is created for /Users/bzuber/Microscopic Anatomy Dropbox/Benoit Zuber/projects/deepvesicle/data/102_4e_trimmed\n"
     ]
    }
   ],
   "source": [
    "pl = prepyto.Pipeline(\"/Users/bzuber/Microscopic Anatomy Dropbox/Benoit Zuber/projects/deepvesicle/data/102_4e_trimmed\")"
   ]
  },
  {
   "cell_type": "code",
   "execution_count": 3,
   "id": "wrapped-scoop",
   "metadata": {},
   "outputs": [
    {
     "name": "stdout",
     "output_type": "stream",
     "text": [
      "Prepyto Pipeline: setting up prepyto directory\n",
      "Prepyto pipeline: Running unet segmentation if there are less than 7 file in ./deep directory\n",
      "Prepyto Pipeline: zooming the unet mask\n",
      "Skipping because a full sized deep mask is already saved on the disk.\n",
      "If you want to force the program to make a new full sized deep mask, set force_run to True.\n",
      "Prepyto Pipeline: running label_vesicles\n",
      "Prepyto Pipeline: restricting labels to segmentation region\n"
     ]
    },
    {
     "name": "stderr",
     "output_type": "stream",
     "text": [
      "finding global threshold on unet mask:   0%|          | 0/20 [00:00<?, ?it/s]"
     ]
    },
    {
     "name": "stdout",
     "output_type": "stream",
     "text": [
      "last output array name: deep_mask\n",
      "last mrc file saved : prepyto/Dummy_102.rec_zoomed_mask.mrc\n"
     ]
    },
    {
     "name": "stderr",
     "output_type": "stream",
     "text": [
      "finding global threshold on unet mask: 100%|██████████| 20/20 [01:31<00:00,  4.56s/it]\n",
      "reorganizing labels after label clean up: 100%|██████████| 2/2 [00:02<00:00,  1.25s/it]\n"
     ]
    },
    {
     "name": "stdout",
     "output_type": "stream",
     "text": [
      "last output array name: deep_labels\n",
      "last mrc file saved : prepyto/Dummy_102.rec_deep_labels.mrc\n",
      "Prepyto Pipeline: Making vesicles spherical.\n"
     ]
    },
    {
     "name": "stderr",
     "output_type": "stream",
     "text": [
      "fitting sphere to vesicles: 100%|██████████| 91/91 [00:05<00:00, 16.15it/s]\n"
     ]
    },
    {
     "name": "stdout",
     "output_type": "stream",
     "text": [
      "last output array name: sphere_labels\n",
      "last mrc file saved : prepyto/Dummy_102.rec_sphere.mrc\n"
     ]
    }
   ],
   "source": [
    "pl.setup_prepyto_dir()\n",
    "pl.run_deep()\n",
    "pl.zoom()\n",
    "pl.label_vesicles()\n",
    "pl.make_spheres()"
   ]
  },
  {
   "cell_type": "markdown",
   "id": "engaging-engine",
   "metadata": {},
   "source": [
    "### Outlier detection\n",
    "Detect outliers using multivariate statistics on 3 parameters of the detected spheres. We get a list of the most deviating labels (those that have a mahalanobis distance larger than min_mahalanobis_distance). So far the default min_mahalanobis_distance of 2.0 is good. If the red line on the plot does not include enough outliers to your liking, then use a lower value (optional parameter of pl.identify_sphere_outliers)."
   ]
  },
  {
   "cell_type": "code",
   "execution_count": 4,
   "id": "dental-berlin",
   "metadata": {},
   "outputs": [
    {
     "data": {
      "text/plain": [
       "array([[<AxesSubplot:title={'center':'thickness'}>,\n",
       "        <AxesSubplot:title={'center':'density'}>],\n",
       "       [<AxesSubplot:title={'center':'radius'}>,\n",
       "        <AxesSubplot:title={'center':'mahalanobis'}>]], dtype=object)"
      ]
     },
     "execution_count": 4,
     "metadata": {},
     "output_type": "execute_result"
    },
    {
     "data": {
      "image/png": "[encoded data removed]",
      "text/plain": [
       "<Figure size 432x288 with 4 Axes>"
      ]
     },
     "metadata": {
      "needs_background": "light"
     },
     "output_type": "display_data"
    }
   ],
   "source": [
    "pl.sphere_df.hist()"
   ]
  },
  {
   "cell_type": "code",
   "execution_count": 5,
   "id": "logical-batman",
   "metadata": {},
   "outputs": [
    {
     "name": "stdout",
     "output_type": "stream",
     "text": [
      "       thickness     density  radius           center  mahalanobis\n",
      "label                                                             \n",
      "70             6   -4.842350      16  [168, 446, 291]     2.033909\n",
      "84             6   -3.680481      22  [201, 842, 401]     2.248192\n",
      "82             6   -3.642132      15  [188, 340, 359]     2.256307\n",
      "83            12   -1.159574      12  [185, 334, 353]     4.238253\n",
      "74             6  -10.151515       5  [168, 879, 339]     4.924652\n",
      "1              4 -154.854430       5   [26, 553, 268]     9.410710\n",
      "You should inspect the labels that have a high mahalanobis distance as they are the likeliest to be wrongly segmented\n"
     ]
    },
    {
     "data": {
      "image/png": "[encoded data removed]",
      "text/plain": [
       "<Figure size 432x288 with 1 Axes>"
      ]
     },
     "metadata": {
      "needs_background": "light"
     },
     "output_type": "display_data"
    }
   ],
   "source": [
    "pl.identify_spheres_outliers(min_mahalanobis_distance=2)"
   ]
  },
  {
   "cell_type": "code",
   "execution_count": null,
   "id": "occupied-arthur",
   "metadata": {},
   "outputs": [],
   "source": [
    "pl.fix_spheres_interactively()"
   ]
  },
  {
   "cell_type": "code",
   "execution_count": null,
   "id": "short-webmaster",
   "metadata": {},
   "outputs": [],
   "source": [
    "pl.visualization_old_new('sphere_labels','mancorr_labels')"
   ]
  },
  {
   "cell_type": "markdown",
   "id": "suitable-english",
   "metadata": {},
   "source": [
    "It is recommended to compute a new sphere dataframe (which is one of the steps of make_spheres()) in order to identify remaining outliers."
   ]
  },
  {
   "cell_type": "code",
   "execution_count": 6,
   "id": "personal-sheriff",
   "metadata": {},
   "outputs": [
    {
     "name": "stderr",
     "output_type": "stream",
     "text": [
      "fitting sphere to vesicles: 100%|██████████| 90/90 [00:02<00:00, 34.25it/s]\n"
     ]
    }
   ],
   "source": [
    "pl.compute_sphere_dataframe('mancorr_labels')"
   ]
  },
  {
   "cell_type": "code",
   "execution_count": 7,
   "id": "shared-vintage",
   "metadata": {},
   "outputs": [
    {
     "data": {
      "text/plain": [
       "array([[<AxesSubplot:title={'center':'thickness'}>,\n",
       "        <AxesSubplot:title={'center':'density'}>],\n",
       "       [<AxesSubplot:title={'center':'radius'}>,\n",
       "        <AxesSubplot:title={'center':'mahalanobis'}>]], dtype=object)"
      ]
     },
     "execution_count": 7,
     "metadata": {},
     "output_type": "execute_result"
    },
    {
     "data": {
      "image/png": "[encoded data removed]",
      "text/plain": [
       "<Figure size 432x288 with 4 Axes>"
      ]
     },
     "metadata": {
      "needs_background": "light"
     },
     "output_type": "display_data"
    }
   ],
   "source": [
    "pl.sphere_df.hist()"
   ]
  },
  {
   "cell_type": "code",
   "execution_count": 8,
   "id": "conceptual-radio",
   "metadata": {},
   "outputs": [
    {
     "name": "stdout",
     "output_type": "stream",
     "text": [
      "       thickness   density  radius           center  mahalanobis\n",
      "label                                                           \n",
      "88            10 -5.037697      22  [211, 354, 398]     2.076607\n",
      "28             8 -6.061285      17  [107, 367, 137]     2.080064\n",
      "9              8 -4.930504      15   [62, 831, 363]     2.097253\n",
      "87            10 -3.923858      17  [204, 545, 382]     2.099355\n",
      "81            10 -5.292155      22  [200, 387, 188]     2.182538\n",
      "89            10 -3.196447      17  [208, 864, 360]     2.195112\n",
      "26            10 -2.647040      20  [104, 156, 431]     2.196096\n",
      "55             8 -5.957868      16  [145, 286, 320]     2.305780\n",
      "14            10 -2.860914      17   [83, 668, 452]     2.312807\n",
      "16            10 -5.667855      22   [92, 247, 318]     2.378213\n",
      "51             6 -4.629148      18  [140, 314, 458]     2.446046\n",
      "24             6 -4.356322      19  [103, 578, 325]     2.454497\n",
      "7             10 -5.805753      19   [64, 207, 315]     2.464764\n",
      "60             8 -6.701202      23  [155, 176, 277]     2.535369\n",
      "86             6 -4.310938      21  [200, 802, 329]     2.662887\n",
      "66             6 -3.491970      16  [155, 616, 352]     2.913161\n",
      "21            10 -1.949058      22   [97, 889, 407]     2.950384\n",
      "94             8 -0.507260      20  [112, 355, 455]     3.909479\n",
      "29            10  0.151733      18  [107, 724, 330]     4.409874\n",
      "You should inspect the labels that have a high mahalanobis distance as they are the likeliest to be wrongly segmented\n"
     ]
    },
    {
     "data": {
      "image/png": "[encoded data removed]",
      "text/plain": [
       "<Figure size 432x288 with 1 Axes>"
      ]
     },
     "metadata": {
      "needs_background": "light"
     },
     "output_type": "display_data"
    }
   ],
   "source": [
    "pl.identify_spheres_outliers()"
   ]
  },
  {
   "cell_type": "code",
   "execution_count": 9,
   "id": "active-watch",
   "metadata": {},
   "outputs": [
    {
     "name": "stdout",
     "output_type": "stream",
     "text": [
      "last output array name: mancorr_labels\n",
      "last mrc file saved : prepyto/Dummy_102.rec_mancorr.mrc\n"
     ]
    }
   ],
   "source": [
    "pl.fix_spheres_interactively('mancorr_labels')"
   ]
  },
  {
   "cell_type": "code",
   "execution_count": 10,
   "id": "married-writer",
   "metadata": {},
   "outputs": [
    {
     "name": "stderr",
     "output_type": "stream",
     "text": [
      "fitting sphere to vesicles: 100%|██████████| 90/90 [00:02<00:00, 32.32it/s]\n"
     ]
    }
   ],
   "source": [
    "pl.compute_sphere_dataframe('mancorr_labels')"
   ]
  },
  {
   "cell_type": "code",
   "execution_count": 11,
   "id": "norman-stable",
   "metadata": {},
   "outputs": [
    {
     "name": "stdout",
     "output_type": "stream",
     "text": [
      "       thickness   density  radius           center  mahalanobis\n",
      "label                                                           \n",
      "17            10 -3.760571      22   [89, 676, 373]     2.044289\n",
      "88            10 -5.037697      22  [211, 354, 398]     2.075853\n",
      "9              8 -4.930504      15   [62, 831, 363]     2.075870\n",
      "71             8 -2.658918      17  [168, 838, 434]     2.083092\n",
      "73            10 -3.407016      18  [176, 707, 384]     2.095814\n",
      "28             8 -6.061285      17  [107, 367, 137]     2.160959\n",
      "87            10 -3.923858      17  [204, 545, 382]     2.166846\n",
      "81            10 -5.292155      22  [200, 387, 188]     2.186120\n",
      "95             8 -3.031496      23  [108, 723, 337]     2.301953\n",
      "55             8 -5.957868      16  [145, 286, 320]     2.351856\n",
      "89            10 -3.196447      17  [208, 864, 360]     2.371099\n",
      "16            10 -5.667855      22   [92, 247, 318]     2.396402\n",
      "26            10 -2.647040      20  [104, 156, 431]     2.445564\n",
      "24             6 -4.356322      19  [103, 578, 325]     2.446563\n",
      "51             6 -4.629148      18  [140, 314, 458]     2.460342\n",
      "7             10 -5.805753      19   [64, 207, 315]     2.465567\n",
      "14            10 -2.860914      17   [83, 668, 452]     2.540870\n",
      "86             6 -4.310938      21  [200, 802, 329]     2.632277\n",
      "60             8 -6.701202      23  [155, 176, 277]     2.743988\n",
      "66             6 -3.491970      16  [155, 616, 352]     2.918629\n",
      "21            10 -1.949058      22   [97, 889, 407]     3.220189\n",
      "94             8 -0.507260      20  [112, 355, 455]     4.239335\n",
      "You should inspect the labels that have a high mahalanobis distance as they are the likeliest to be wrongly segmented\n"
     ]
    },
    {
     "data": {
      "image/png": "[encoded data removed]",
      "text/plain": [
       "<Figure size 432x288 with 1 Axes>"
      ]
     },
     "metadata": {
      "needs_background": "light"
     },
     "output_type": "display_data"
    }
   ],
   "source": [
    "pl.identify_spheres_outliers()"
   ]
  },
  {
   "cell_type": "code",
   "execution_count": 12,
   "id": "nuclear-livestock",
   "metadata": {},
   "outputs": [
    {
     "name": "stdout",
     "output_type": "stream",
     "text": [
      "Prepyto Pipeline: visualizing two sets of labels. To continue, close napari window\n"
     ]
    }
   ],
   "source": [
    "pl.visualization_old_new('sphere_labels','mancorr_labels')"
   ]
  },
  {
   "cell_type": "code",
   "execution_count": 4,
   "id": "allied-alexandria",
   "metadata": {},
   "outputs": [
    {
     "name": "stdout",
     "output_type": "stream",
     "text": [
      "Prepyto Pipeline: making full mod file\n",
      "rearranged labels\n",
      "last output array name: final_vesicle_labels\n",
      "last mrc file saved : prepyto/Dummy_102.rec_final_vesicle_labels.mrc\n",
      "full model file saved to prepyto/full_prepyto.mod\n",
      "Prepyto Pipeline: making full label file\n",
      "saved labels to prepyto/labels.mrc\n",
      "Prepyto Pipeline: setting up pyto folder\n",
      "/Users/bzuber/Microscopic Anatomy Dropbox/Benoit Zuber/projects/deepvesicle/data/102_4e_trimmed/pyto exists. Skipping pyto file creation. To force reinitialization of pyto folder, set overwrite to True\n"
     ]
    }
   ],
   "source": [
    "pl.make_full_modfile()\n",
    "pl.make_full_label_file()\n",
    "pl.initialize_pyto()"
   ]
  },
  {
   "cell_type": "code",
   "execution_count": null,
   "id": "collective-customer",
   "metadata": {},
   "outputs": [],
   "source": []
  }
 ],
 "metadata": {
  "kernelspec": {
   "display_name": "Python 3",
   "language": "python",
   "name": "python3"
  },
  "language_info": {
   "codemirror_mode": {
    "name": "ipython",
    "version": 3
   },
   "file_extension": ".py",
   "mimetype": "text/x-python",
   "name": "python",
   "nbconvert_exporter": "python",
   "pygments_lexer": "ipython3",
   "version": "3.9.1"
  }
 },
 "nbformat": 4,
 "nbformat_minor": 5
}
