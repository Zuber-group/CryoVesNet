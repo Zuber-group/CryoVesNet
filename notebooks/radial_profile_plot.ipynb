{
 "cells": [
  {
   "cell_type": "code",
   "execution_count": null,
   "id": "popular-housing",
   "metadata": {
    "pycharm": {
     "name": "#%%\n"
    }
   },
   "outputs": [],
   "source": [
    "from cryovesnet import *\n",
    "import matplotlib.pyplot as plt\n",
    "from tqdm import tqdm\n",
    "from matplotlib.patches import ConnectionPatch\n",
    "plt.rcParams.update({'font.size': 20})"
   ]
  },
  {
   "cell_type": "code",
   "execution_count": null,
   "id": "controversial-incidence",
   "metadata": {
    "pycharm": {
     "name": "#%%\n"
    }
   },
   "outputs": [],
   "source": [
    "pl = Pipeline('/mnt/data/amin/Handpicked/84')"
   ]
  },
  {
   "cell_type": "code",
   "execution_count": null,
   "id": "operational-scholarship",
   "metadata": {
    "pycharm": {
     "name": "#%%\n"
    }
   },
   "outputs": [],
   "source": [
    "pl.set_array('image')\n",
    "pl.set_array('deep_labels')"
   ]
  },
  {
   "cell_type": "code",
   "execution_count": null,
   "id": "differential-boost",
   "metadata": {
    "pycharm": {
     "name": "#%%\n"
    }
   },
   "outputs": [],
   "source": [
    "vesicle_regions = pd.DataFrame(skimage.measure.regionprops_table(pl.deep_labels,properties=('centroid', 'label', 'bbox')))\n",
    "bboxes = get_bboxes_from_regions(vesicle_regions)\n",
    "centroids = get_centroids_from_regions(vesicle_regions)\n",
    "labels = get_labels_from_regions(vesicle_regions)\n",
    "thicknesses, densities, radii, centers, kept_labels = [],[],[],[],[]"
   ]
  },
  {
   "cell_type": "code",
   "execution_count": null,
   "id": "accompanied-corps",
   "metadata": {
    "pycharm": {
     "name": "#%%\n"
    }
   },
   "outputs": [],
   "source": [
    "shifts = []\n",
    "delta_radii = []\n",
    "new_centroids = []\n",
    "new_radii = []\n",
    "for i in tqdm(range(len(labels))):\n",
    "    label = labels[i]\n",
    "    rounded_centroid = np.round(centroids[i]).astype(np.int)\n",
    "    radius = get_label_largest_radius(bboxes[i])\n",
    "    margin = 3\n",
    "    _, _, new_centroid, new_optimal_radius, _ = get_sphere_parameters(pl.image, label, margin, radius, rounded_centroid)\n",
    "    new_centroids.append(new_centroid)\n",
    "    new_radii.append(new_optimal_radius)\n",
    "    shift = new_centroid - rounded_centroid\n",
    "    delta_radius = new_optimal_radius - radius\n",
    "    shifts.append(shift)\n",
    "    delta_radii.append(delta_radius)\n",
    "new_centroids = np.array(new_centroids)\n",
    "new_radii = np.array(new_radii)\n",
    "shifts = np.array(shifts)\n",
    "delta_radii = np.array(delta_radii)\n",
    "distances = np.linalg.norm(shifts, axis=1)\n"
   ]
  },
  {
   "cell_type": "code",
   "execution_count": null,
   "id": "73580178",
   "metadata": {
    "pycharm": {
     "name": "#%%\n"
    }
   },
   "outputs": [],
   "source": [
    "import pandas as pd\n",
    "sphere_df"
   ]
  },
  {
   "cell_type": "code",
   "execution_count": null,
   "id": "13855c3c",
   "metadata": {
    "pycharm": {
     "name": "#%%\n"
    }
   },
   "outputs": [],
   "source": [
    "sphere_df= pd.read_pickle(\"/mnt/data/amin/Handpicked/84/cryovesnet/Dummy_84_trim.rec_sphere_dataframe.pkl\")\n",
    "del sphere_df['radials']\n",
    "del sphere_df['p']\n",
    "del sphere_df['corr']\n",
    "sphere_df['radius'].loc[1]=25"
   ]
  },
  {
   "cell_type": "code",
   "execution_count": null,
   "id": "a5522254",
   "metadata": {
    "pycharm": {
     "name": "#%%\n"
    }
   },
   "outputs": [],
   "source": [
    "new_radii = sphere_df[\"radius\"].values\n",
    "new_centroids = sphere_df[\"center\"].values\n",
    "new_centroids = new_centroids.tolist()\n",
    "new_centroids_arr = [x.tolist() for x in new_centroids]\n",
    "new_centroids = np.array(new_centroids_arr)"
   ]
  },
  {
   "cell_type": "code",
   "execution_count": null,
   "id": "powered-mystery",
   "metadata": {
    "pycharm": {
     "name": "#%%\n"
    }
   },
   "outputs": [],
   "source": [
    "from scipy.spatial import distance_matrix"
   ]
  },
  {
   "cell_type": "code",
   "execution_count": null,
   "id": "shared-finding",
   "metadata": {
    "pycharm": {
     "name": "#%%\n"
    }
   },
   "outputs": [],
   "source": [
    "rm = np.repeat(np.array((new_radii,)), len(new_radii),axis=0)\n",
    "radii_matrix = rm + rm.T\n",
    "dm = distance_matrix(new_centroids, new_centroids)\n",
    "maxvalue = np.finfo(dm.dtype).max\n",
    "for i in range(len(dm)):\n",
    "    dm[i,i] = maxvalue\n",
    "collisions = np.array((np.where(dm < radii_matrix)))\n",
    "collision_counts = np.array(np.unique(collisions[0], return_counts=True))\n",
    "collision_count_dict = {}\n",
    "for x,y in collision_counts.T:\n",
    "    collision_count_dict[x]=y"
   ]
  },
  {
   "cell_type": "code",
   "execution_count": null,
   "id": "spoken-pasta",
   "metadata": {
    "collapsed": true,
    "jupyter": {
     "outputs_hidden": true
    },
    "pycharm": {
     "name": "#%%\n"
    }
   },
   "outputs": [],
   "source": [
    "print(collisions.T)\n",
    "print(collision_counts.T)"
   ]
  },
  {
   "cell_type": "code",
   "execution_count": null,
   "id": "absolute-video",
   "metadata": {
    "pycharm": {
     "name": "#%%\n"
    }
   },
   "outputs": [],
   "source": [
    "plt.hist(collision_counts[1], bins=counts[1].max()-1)"
   ]
  },
  {
   "cell_type": "code",
   "execution_count": null,
   "id": "wrapped-thesaurus",
   "metadata": {
    "pycharm": {
     "name": "#%%\n"
    }
   },
   "outputs": [],
   "source": [
    "\n",
    "\n",
    "\n",
    "print(f\"distance: {distances.mean():.2f} ± {distances.std():.2f}\")\n",
    "print(f\"distance median : {np.median(distances):.2f}\")\n",
    "_= plt.hist(distances, bins=50)\n",
    "plt.show()\n",
    "print(f\"radial change: {delta_radii.mean():.2f} ± {delta_radii.std():.2f}\")\n",
    "print(f\"absoliute radial change media: {np.median(np.abs(delta_radii)):.2f}\")\n",
    "_ = plt.hist(delta_radii, bins=50)"
   ]
  },
  {
   "cell_type": "code",
   "execution_count": null,
   "id": "fatty-drama",
   "metadata": {
    "pycharm": {
     "name": "#%%\n"
    }
   },
   "outputs": [],
   "source": [
    "def make_figure(i, savefig=False):\n",
    "    fontsize = 32\n",
    "    margin = 3\n",
    "    radius = get_label_largest_radius(bboxes[i])  #this is an integer\n",
    "    rounded_centroid = np.round(centroids[i]).astype(np.int) #this is an array of integers\n",
    "    label = labels[i]\n",
    "    print(label)\n",
    "    image_box = extract_box_of_radius(pl.image, rounded_centroid, radius + margin)\n",
    "    origin = None\n",
    "    radial_profile = get_radial_profile(image_box, origin)\n",
    "    i_membrane_center, _ = get_sphere_membrane_center_and_density_from_radial_profile(radial_profile)\n",
    "    i_upper_limit = get_radial_profile_i_upper_limit(radial_profile)\n",
    "    i_membrane_outer_halo = i_membrane_center + radial_profile[i_membrane_center:i_upper_limit].argmax()\n",
    "    derivative2 = np.diff(radial_profile,2)\n",
    "    filtered_derivative2 = ndimage.gaussian_filter1d(derivative2,1)\n",
    "    optimal_radius = -1 + i_membrane_center + ndimage.gaussian_filter1d(derivative2[i_membrane_center:i_membrane_outer_halo+1],1).argmin()\n",
    "    average_image = get_3d_radial_average(image_box, origin)\n",
    "    _, _, new_centroid, new_optimal_radius, _ = get_sphere_parameters(pl.image, label, margin, radius, rounded_centroid)\n",
    "    new_optimal_radius = new_optimal_radius - 1 \n",
    "    shift = new_centroid - rounded_centroid\n",
    "    new_image_box = extract_box_of_radius(pl.image, new_centroid, new_optimal_radius + margin+1)\n",
    "    print(f\"new image box shape is {new_image_box.shape}\")\n",
    "    print(f\"new centroid is {new_centroid}\")\n",
    "    new_radial_profile = get_radial_profile(new_image_box,origin)\n",
    "    new_average_image = get_3d_radial_average(new_image_box, origin)\n",
    "    new_i_membrane_center, _ = get_sphere_membrane_center_and_density_from_radial_profile(new_radial_profile)\n",
    "    new_i_upper_limit = get_radial_profile_i_upper_limit(new_radial_profile)\n",
    "    new_i_membrane_outer_halo = new_i_membrane_center + new_radial_profile[new_i_membrane_center:new_i_upper_limit].argmax()\n",
    "    new_derivative2 = np.diff(new_radial_profile,2)\n",
    "    new_filtered_derivative2 = ndimage.gaussian_filter1d(new_derivative2,1)\n",
    "    print(f\"new_optimal_radius is {new_optimal_radius}\")\n",
    "    print(f\"alternative calc: {-1 + new_i_membrane_center + new_filtered_derivative2[i_membrane_center:i_membrane_outer_halo+1].argmin()}\")\n",
    "    \n",
    "    nx = 4\n",
    "    ny = 2\n",
    "    dxs = 8\n",
    "    dys = 6\n",
    "    theta = np.linspace(0, 2*np.pi, 100)\n",
    "    xcircle = optimal_radius * np.cos(theta)\n",
    "    ycircle = optimal_radius * np.sin(theta)\n",
    "    new_xcircle = new_optimal_radius * np.cos(theta)\n",
    "    new_ycircle = new_optimal_radius * np.sin(theta)\n",
    "    \n",
    "    fig, ax = plt.subplots(nrows=ny,ncols=nx, figsize=(nx*dxs,ny*dys), facecolor='white')\n",
    "    #fig.subplots_adjust(hspace=0.5)\n",
    "    #fig.suptitle(f\"i = {i},   shift = {shift},  radius difference = {new_optimal_radius - optimal_radius}, avg min,max = {average_image.min():.2f}, {average_image.max():.2f} ,  new_avg min,max = {new_average_image.min():.2f}, {new_average_image.max():.2f}\")\n",
    "    \n",
    "    ax[0,1].plot(radial_profile)\n",
    "    ax[0,1].set_xlabel('radius [pixel]')\n",
    "    ax[0,1].set_ylabel('intensity')\n",
    "    ylim = ax[0,1].get_ylim()\n",
    "    ax[0,1].fill_between((i_membrane_center,i_membrane_outer_halo), ylim[0], ylim[1], alpha=0.2)\n",
    "    ax[0,1].vlines(optimal_radius, ylim[0], ylim[1],color='red')\n",
    "    ax[0,1].set_ylim(ylim)\n",
    "    \n",
    "    ax[0,2].plot(filtered_derivative2)\n",
    "    ax[0,2].set_xlabel('radius [pixel]')\n",
    "    ax[0,2].set_ylabel(r'$\\frac{\\partial^2 intensity}{\\partial radius^2}$', fontsize=28)\n",
    "    ylim = ax[0,2].get_ylim()\n",
    "    ax[0,2].fill_between((i_membrane_center,i_membrane_outer_halo), ylim[0], ylim[1], alpha=0.2)\n",
    "    ax[0,2].vlines(optimal_radius, ylim[0], ylim[1],color='red')\n",
    "    ax[0,2].set_ylim(ylim)\n",
    "    ax[0,2].set_xlim(ax[0,1].get_xlim())\n",
    "    \n",
    "    ax[1,1].plot(new_radial_profile)\n",
    "    ax[1,1].set_xlabel('radius [pixel]')\n",
    "    ax[1,1].set_ylabel('intensity')\n",
    "    ylim = ax[1,1].get_ylim()\n",
    "    ax[1,1].fill_between((new_i_membrane_center,new_i_membrane_outer_halo), ylim[0], ylim[1], alpha=0.2)\n",
    "    ax[1,1].vlines(new_optimal_radius,ylim[0], ylim[1],color='red')\n",
    "    ax[1,1].set_ylim(ylim)\n",
    "    ax[1,1].set_xlim(ax[0,1].get_xlim())\n",
    "    \n",
    "    ax[1,2].set_xlabel('radius [pixel]')\n",
    "    ax[1,2].set_ylabel(r'$\\frac{\\partial^2 intensity}{\\partial radius^2}$', fontsize=28)\n",
    "    ax[1,2].plot(new_filtered_derivative2)\n",
    "    ylim = ax[1,2].get_ylim()\n",
    "    ax[1,2].fill_between((new_i_membrane_center,new_i_membrane_outer_halo), ylim[0], ylim[1], alpha=0.2)\n",
    "    ax[1,2].vlines(new_optimal_radius, ylim[0], ylim[1],color='red')\n",
    "    ax[1,2].set_ylim(ylim)\n",
    "    ax[1,2].set_xlim(ax[0,1].get_xlim())\n",
    "\n",
    "    imgplt00 = ax[0,0].imshow(image_box[image_box.shape[0]//2])\n",
    "    ax[0,0].set_xlabel('x-coordinate [pixel]')\n",
    "    ax[0,0].set_ylabel('y-coordinate [pixel]')\n",
    "    imgplt00.set_cmap('gray')\n",
    "    xlim, ylim = (ax[0,0].get_xlim(), ax[0,0].get_ylim())\n",
    "    ax[0,0].plot(xcircle+image_box.shape[1]//2, ycircle+image_box.shape[2]//2, color='red')\n",
    "    ax[0,0].set_xlim(xlim)\n",
    "    ax[0,0].set_ylim(ylim)\n",
    "    \n",
    "    imgplt01 = ax[0,3].imshow(-average_image[image_box.shape[0]//2])\n",
    "    ax[0,3].set_xlabel('x-coordinate [pixel]')\n",
    "    ax[0,3].set_ylabel('y-coordinate [pixel]')\n",
    "    imgplt01.set_cmap('copper')\n",
    "    xlim, ylim = (ax[0,3].get_xlim(), ax[0,3].get_ylim())\n",
    "    ax[0,3].plot(xcircle+image_box.shape[1]//2, ycircle+image_box.shape[2]//2, color='red')\n",
    "    ax[0,3].set_xlim(xlim)\n",
    "    ax[0,3].set_ylim(ylim)\n",
    "    \n",
    "    imgplt10 = ax[1,0].imshow(new_image_box[new_image_box.shape[0]//2])\n",
    "    ax[1,0].set_xlabel('x-coordinate [pixel]')\n",
    "    ax[1,0].set_ylabel('y-coordinate [pixel]')\n",
    "    imgplt10.set_cmap('gray')\n",
    "    xlim, ylim = (ax[1,0].get_xlim(), ax[1,0].get_ylim())\n",
    "    ax[1,0].plot(new_xcircle+new_image_box.shape[1]//2, new_ycircle+new_image_box.shape[2]//2, color='red')\n",
    "    ax[1,0].set_xlim(xlim)\n",
    "    ax[1,0].set_ylim(ylim)\n",
    "\n",
    "    imgplt11 = ax[1,3].imshow(-new_average_image[new_image_box.shape[0]//2])\n",
    "    ax[1,3].set_xlabel('x-coordinate [pixel]')\n",
    "    ax[1,3].set_ylabel('y-coordinate [pixel]')\n",
    "    imgplt11.set_cmap('copper')\n",
    "    xlim, ylim = (ax[1,3].get_xlim(), ax[1,0].get_ylim())\n",
    "    ax[1,3].plot(new_xcircle+new_image_box.shape[1]//2, new_ycircle+new_image_box.shape[2]//2, color='red')\n",
    "    ax[1,3].set_xlim(xlim)\n",
    "    ax[1,3].set_ylim(ylim)   \n",
    "\n",
    "    ax[0,0].text(0.05, 0.95, \"A\", transform=ax[0,0].transAxes,fontsize=fontsize, fontweight='bold', va='top')\n",
    "    ax[0,1].text(0.05, 0.95, \"B\", transform=ax[0,1].transAxes,fontsize=fontsize, fontweight='bold', va='top')\n",
    "    ax[0,2].text(0.05, 0.95, \"C\", transform=ax[0,2].transAxes,fontsize=fontsize, fontweight='bold', va='top')\n",
    "    ax[0,3].text(0.05, 0.95, \"D\", transform=ax[0,3].transAxes,fontsize=fontsize, fontweight='bold', va='top', color='white')\n",
    "    ax[1,0].text(0.05, 0.95, \"E\", transform=ax[1,0].transAxes,fontsize=fontsize, fontweight='bold', va='top')\n",
    "    ax[1,1].text(0.05, 0.95, \"F\", transform=ax[1,1].transAxes,fontsize=fontsize, fontweight='bold', va='top')\n",
    "    ax[1,2].text(0.05, 0.95, \"G\", transform=ax[1,2].transAxes,fontsize=fontsize, fontweight='bold', va='top')\n",
    "    ax[1,3].text(0.05, 0.95, \"H\", transform=ax[1,3].transAxes,fontsize=fontsize, fontweight='bold', va='top', color='white')\n",
    "    \n",
    "    fig.tight_layout(h_pad=7.5)\n",
    "    \n",
    "    ax[0,0].annotate(f\"Initial radius = {radius}. Radius after inital radial profile = {optimal_radius}.\\nShift [z x y] = {shift}\\nFinal radius = {new_optimal_radius}\", (1.1,-0.48), xycoords='axes fraction', annotation_clip=False, fontsize=24)\n",
    "    \n",
    "    xyA = (1, -.2)\n",
    "    xyB = (1, 1.2)\n",
    "    coordsA = \"axes fraction\"\n",
    "    coordsB = \"axes fraction\"\n",
    "    con = ConnectionPatch(xyA=xyA, xyB=xyB, coordsA=coordsA, coordsB=coordsB,\n",
    "                      axesA=ax[0,0], axesB=ax[1,0],\n",
    "                      arrowstyle=\"Simple, head_length=2, head_width=2\",\n",
    "                    facecolor=\"white\", linewidth=3)\n",
    "    ax[0,0].add_artist(con)\n",
    "    print(f\"i is {i}\")\n",
    "    if savefig:\n",
    "        plt.savefig(f'fig{i:03d}.svg')\n",
    "    else:\n",
    "        plt.show()\n",
    "          \n",
    "          "
   ]
  },
  {
   "cell_type": "code",
   "execution_count": null,
   "id": "modern-salad",
   "metadata": {
    "pycharm": {
     "name": "#%%\n"
    }
   },
   "outputs": [],
   "source": [
    "#i = next(i_s)\n",
    "#print(f\"i = {i}\")\n",
    "for k, count in collision_count_dict.items():\n",
    "    if count ==15:\n",
    "        make_figure(k)"
   ]
  },
  {
   "cell_type": "code",
   "execution_count": null,
   "id": "proud-cosmetic",
   "metadata": {
    "pycharm": {
     "name": "#%%\n"
    }
   },
   "outputs": [],
   "source": [
    "for i in (162,152,144,139,118,99):\n",
    "    make_figure(i, savefig=True)"
   ]
  },
  {
   "cell_type": "code",
   "execution_count": null,
   "id": "phantom-digit",
   "metadata": {
    "pycharm": {
     "name": "#%%\n"
    }
   },
   "outputs": [],
   "source": [
    "for i in range(centroids.shape[0]):\n",
    "    try:\n",
    "        make_figure(i)\n",
    "    except ValueError:\n",
    "        print(f\"missed {i}\")"
   ]
  },
  {
   "cell_type": "code",
   "execution_count": null,
   "id": "written-crown",
   "metadata": {
    "jupyter": {
     "source_hidden": true
    },
    "pycharm": {
     "name": "#%%\n"
    }
   },
   "outputs": [],
   "source": [
    "for i in (11,):\n",
    "    make_figure(i, savefig=True)\n"
   ]
  },
  {
   "cell_type": "code",
   "execution_count": null,
   "id": "designed-scope",
   "metadata": {
    "pycharm": {
     "name": "#%%\n"
    }
   },
   "outputs": [],
   "source": [
    "make_figure(2)"
   ]
  },
  {
   "cell_type": "code",
   "execution_count": null,
   "id": "22026416",
   "metadata": {
    "pycharm": {
     "name": "#%%\n"
    }
   },
   "outputs": [],
   "source": [
    "labels"
   ]
  }
 ],
 "metadata": {
  "kernelspec": {
   "display_name": "Python 3 (ipykernel)",
   "language": "python",
   "name": "python3"
  },
  "language_info": {
   "codemirror_mode": {
    "name": "ipython",
    "version": 3
   },
   "file_extension": ".py",
   "mimetype": "text/x-python",
   "name": "python",
   "nbconvert_exporter": "python",
   "pygments_lexer": "ipython3",
   "version": "3.9.19"
  }
 },
 "nbformat": 4,
 "nbformat_minor": 5
}
