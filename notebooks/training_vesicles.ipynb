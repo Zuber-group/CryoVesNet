{
 "cells": [
  {
   "cell_type": "markdown",
   "metadata": {
    "pycharm": {
     "name": "#%% md\n"
    }
   },
   "source": [
    "# Train 3D CryoVesNet"
   ]
  },
  {
   "cell_type": "markdown",
   "metadata": {
    "pycharm": {
     "name": "#%% md\n"
    }
   },
   "source": [
    "This notebook trains a 3D Unet deep learning network with vesicle segmentation data. The training set is created in the [create_training](create_training.ipynb) notebook."
   ]
  },
  {
   "cell_type": "markdown",
   "metadata": {
    "pycharm": {
     "name": "#%% md\n"
    }
   },
   "source": [
    "## Set-up"
   ]
  },
  {
   "cell_type": "code",
   "execution_count": null,
   "metadata": {
    "pycharm": {
     "name": "#%%\n"
    }
   },
   "outputs": [],
   "source": [
    "import numpy as np\n",
    "import matplotlib.pyplot as plt\n",
    "import warnings\n",
    "import os\n",
    "warnings.filterwarnings(\"ignore\")\n",
    "os.environ[\"TF_CPP_MIN_LOG_LEVEL\"]=\"2\"\n",
    "os.environ[\"CUDA_VISIBLE_DEVICES\"]=\"1\"\n",
    "\n",
    "import tensorflow as tf\n",
    "import cryovesnet\n",
    "#from keras import backend as K\n",
    "#K.set_image_data_format('channels_last')\n",
    "\n",
    "# import unetmic.unetmic as umic\n",
    "import cryovesnet.unetmic.unetmic.unetmic as umic"
   ]
  },
  {
   "cell_type": "code",
   "execution_count": null,
   "metadata": {
    "pycharm": {
     "name": "#%%\n"
    }
   },
   "outputs": [],
   "source": [
    "if tf.__version__[0] == '1':\n",
    "    config = tf.ConfigProto()\n",
    "    config.gpu_options.allow_growth = True\n",
    "    tf.keras.backend.set_session(tf.Session(config=config))\n",
    "    print('Check if GPU is available')\n",
    "    print(tf.test.gpu_device_name())\n",
    "else:\n",
    "    print('Check if GPU is available2')\n",
    "    print(tf.config.list_physical_devices())"
   ]
  },
  {
   "cell_type": "code",
   "execution_count": null,
   "metadata": {
    "pycharm": {
     "name": "#%%\n"
    }
   },
   "outputs": [],
   "source": [
    "# TF 2Check if a GPU is available\n",
    "gpu_available = tf.config.list_physical_devices('GPU')\n",
    "print(\"Is GPU available:\", len(gpu_available) > 0)"
   ]
  },
  {
   "cell_type": "markdown",
   "metadata": {
    "pycharm": {
     "name": "#%% md\n"
    }
   },
   "source": [
    "## Train 2D network Training"
   ]
  },
  {
   "cell_type": "code",
   "execution_count": null,
   "metadata": {
    "pycharm": {
     "name": "#%%\n"
    }
   },
   "outputs": [],
   "source": [
    "#create the 3d-unet\n",
    "# unet3d = umic.create_unet_3d()"
   ]
  },
  {
   "cell_type": "code",
   "execution_count": null,
   "metadata": {},
   "outputs": [],
   "source": [
    "# netowrk2d = umic.create_unet_2d(128,network_name = 'eman2')"
   ]
  },
  {
   "cell_type": "code",
   "execution_count": null,
   "metadata": {},
   "outputs": [],
   "source": [
    "folder = '/media/amin/mtwo/train_dataset_2d_128_synaptasome_1000/'\n",
    "save_folder = '/media/amin/mtwo/train2d/'\n",
    "\n",
    "#specify number of training data, validation data, batch size\n",
    "numtot = 4062\n",
    "numvalid = 475\n",
    "batchsize = 100"
   ]
  },
  {
   "cell_type": "code",
   "execution_count": null,
   "metadata": {},
   "outputs": [],
   "source": [
    "umic.run_training_multiGPU_2d(save_folder = save_folder, data_folder = folder, \n",
    "                              num_total = numtot,batch_size = batchsize, num_valid = numvalid,network_name=\"eman2\")"
   ]
  },
  {
   "cell_type": "code",
   "execution_count": null,
   "metadata": {},
   "outputs": [],
   "source": []
  },
  {
   "cell_type": "code",
   "execution_count": null,
   "metadata": {},
   "outputs": [],
   "source": []
  },
  {
   "cell_type": "code",
   "execution_count": null,
   "metadata": {},
   "outputs": [],
   "source": []
  },
  {
   "cell_type": "markdown",
   "source": [
    "## Create network and train CryoVesnt network Training"
   ],
   "metadata": {
    "collapsed": false
   }
  },
  {
   "cell_type": "code",
   "execution_count": null,
   "metadata": {
    "pycharm": {
     "name": "#%%\n"
    }
   },
   "outputs": [],
   "source": [
    "unet3d = umic.create_unet_3d(inputsize=(32, 32, 32, 1),\n",
    "                   n_depth=2,\n",
    "                   n_filter_base=16,\n",
    "                   kernel_size=(3, 3, 3),\n",
    "                   activation='relu',\n",
    "                   batch_norm=True,\n",
    "                   dropout=0.1,\n",
    "                   n_conv_per_depth=2,\n",
    "                   pool_size=(2, 2, 2),\n",
    "                   n_channel_out=1)"
   ]
  },
  {
   "cell_type": "code",
   "execution_count": null,
   "metadata": {
    "pycharm": {
     "name": "#%%\n"
    }
   },
   "outputs": [],
   "source": [
    "#specifiy path to training data and to folder where to save training weights\n",
    "folder = '/mnt/data/Amin/Data/train_dataset_synaptosome32/'\n",
    "save_folder = '/mnt/data/Amin/Data/cryo_learning/'\n",
    "\n",
    "#specify number of training data, validation data, batch size\n",
    "numtot = 950\n",
    "numvalid = 150\n",
    "batchsize = 50"
   ]
  },
  {
   "cell_type": "code",
   "execution_count": null,
   "metadata": {
    "pycharm": {
     "name": "#%%\n"
    },
    "scrolled": true
   },
   "outputs": [],
   "source": [
    "umic.run_training(network = unet3d, save_folder = save_folder, folder = folder, \n",
    "                numtot = numtot,batchsize = batchsize, numvalid = numvalid)"
   ]
  },
  {
   "cell_type": "markdown",
   "source": [
    "## Multi GPU training"
   ],
   "metadata": {
    "collapsed": false
   }
  },
  {
   "cell_type": "code",
   "execution_count": null,
   "metadata": {
    "pycharm": {
     "name": "#%%\n"
    }
   },
   "outputs": [],
   "source": [
    "import warnings\n",
    "import os\n",
    "warnings.filterwarnings(\"ignore\")\n",
    "os.environ[\"TF_CPP_MIN_LOG_LEVEL\"]=\"2\"\n",
    "# Here you can choose which GPU to use\n",
    "os.environ[\"CUDA_VISIBLE_DEVICES\"]=\"1,2\"\n",
    "\n",
    "import tensorflow as tf\n",
    "import cryovesnet\n",
    "#from keras import backend as K\n",
    "#K.set_image_data_format('channels_last')\n",
    "\n",
    "# import unetmic.unetmic as umic\n",
    "import cryovesnet.unetmic.unetmic.unetmic as umic"
   ]
  },
  {
   "cell_type": "code",
   "execution_count": null,
   "metadata": {
    "pycharm": {
     "name": "#%%\n"
    }
   },
   "outputs": [],
   "source": [
    "import tensorflow as tf\n",
    "gpus = tf.config.experimental.list_physical_devices('GPU')\n",
    "if gpus:\n",
    "    try:\n",
    "        # Currently, memory growth needs to be the same across GPUs\n",
    "        for gpu in gpus:\n",
    "            tf.config.experimental.set_memory_growth(gpu, True)\n",
    "        logical_gpus = tf.config.experimental.list_logical_devices('GPU')\n",
    "        print(len(gpus), \"Physical GPUs,\", len(logical_gpus), \"Logical GPUs\")\n",
    "    except RuntimeError as e:\n",
    "        # Memory growth must be set before GPUs have been initialized\n",
    "        print(e)"
   ]
  },
  {
   "cell_type": "code",
   "execution_count": null,
   "metadata": {
    "pycharm": {
     "name": "#%%\n"
    }
   },
   "outputs": [],
   "source": [
    "# for bigger patch size 64^3\n",
    "#specifiy path to training data and to folder where to save training weights\n",
    "folder = '/mnt/data/Amin/Data/train_dataset_64_raw_neuron'\n",
    "save_folder = '/mnt/data/Amin/Data/cryo_learning_64_nad/'\n",
    "\n",
    "#specify number of training data, validation data, batch size\n",
    "numtot = 1600\n",
    "numvalid = 250\n",
    "batchsize = 25"
   ]
  },
  {
   "cell_type": "code",
   "execution_count": null,
   "metadata": {
    "pycharm": {
     "name": "#%%\n"
    }
   },
   "outputs": [],
   "source": [
    "umic.run_training_multiGPU(save_folder = save_folder, data_folder = folder, \n",
    "                num_total = numtot,batch_size = batchsize, num_valid = numvalid)"
   ]
  },
  {
   "cell_type": "code",
   "execution_count": null,
   "metadata": {},
   "outputs": [],
   "source": []
  },
  {
   "cell_type": "code",
   "execution_count": null,
   "metadata": {},
   "outputs": [],
   "source": []
  }
 ],
 "metadata": {
  "kernelspec": {
   "display_name": "Python 3 (ipykernel)",
   "language": "python",
   "name": "python3"
  },
  "language_info": {
   "codemirror_mode": {
    "name": "ipython",
    "version": 3
   },
   "file_extension": ".py",
   "mimetype": "text/x-python",
   "name": "python",
   "nbconvert_exporter": "python",
   "pygments_lexer": "ipython3",
   "version": "3.9.19"
  },
  "toc": {
   "base_numbering": 1,
   "nav_menu": {},
   "number_sections": false,
   "sideBar": true,
   "skip_h1_title": false,
   "title_cell": "Table of Contents",
   "title_sidebar": "Contents",
   "toc_cell": false,
   "toc_position": {},
   "toc_section_display": true,
   "toc_window_display": true
  }
 },
 "nbformat": 4,
 "nbformat_minor": 4
}
