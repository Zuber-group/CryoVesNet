{
 "cells": [
  {
   "cell_type": "markdown",
   "id": "modern-piece",
   "metadata": {},
   "source": [
    "# Fully automatic pipeline"
   ]
  },
  {
   "cell_type": "markdown",
   "id": "prepared-colorado",
   "metadata": {},
   "source": [
    "disable tensorflow thousands of messages and select a GPU that is hopefully not used"
   ]
  },
  {
   "cell_type": "code",
   "execution_count": 1,
   "id": "responsible-kelly",
   "metadata": {},
   "outputs": [],
   "source": [
    "import warnings\n",
    "import os\n",
    "warnings.filterwarnings(\"ignore\")\n",
    "os.environ[\"TF_CPP_MIN_LOG_LEVEL\"]=\"2\"\n",
    "os.environ[\"CUDA_VISIBLE_DEVICES\"]=\"3\""
   ]
  },
  {
   "cell_type": "code",
   "execution_count": 2,
   "id": "pursuant-apollo",
   "metadata": {},
   "outputs": [
    {
     "name": "stdout",
     "output_type": "stream",
     "text": [
      "WARNING:tensorflow:From /home/tomo/anaconda3/envs/DeepVesicles/lib/python3.8/site-packages/tensorflow/python/compat/v2_compat.py:96: disable_resource_variables (from tensorflow.python.ops.variable_scope) is deprecated and will be removed in a future version.\n",
      "Instructions for updating:\n",
      "non-resource variables are not supported in the long term\n"
     ]
    }
   ],
   "source": [
    "import prepyto"
   ]
  },
  {
   "cell_type": "code",
   "execution_count": 3,
   "id": "generous-revision",
   "metadata": {},
   "outputs": [],
   "source": [
    "dataset_directory = \"/home/bzuber/projects/prepyto/102_4e_trimmed/\""
   ]
  },
  {
   "cell_type": "code",
   "execution_count": 4,
   "id": "relative-battle",
   "metadata": {},
   "outputs": [
    {
     "name": "stdout",
     "output_type": "stream",
     "text": [
      "Prepyto Pipeline: the pipeline is created for /home/bzuber/projects/prepyto/102_4e_trimmed\n",
      "Prepyto Pipeline: setting up prepyto directory\n"
     ]
    },
    {
     "name": "stderr",
     "output_type": "stream",
     "text": [
      "  0%|          | 0/8 [00:00<?, ?it/s]"
     ]
    },
    {
     "name": "stdout",
     "output_type": "stream",
     "text": [
      "Prepyto pipeline: run_deep_at_multiple_rescale - rescale = 0.35078625770131494\n",
      "Prepyto pipeline: Running unet segmentation if there are less than 7 file in ./deep directory\n"
     ]
    },
    {
     "name": "stderr",
     "output_type": "stream",
     "text": [
      "\n",
      "  0%|          | 0/5 [00:00<?, ?it/s]\u001b[A\n",
      " 20%|██        | 1/5 [00:02<00:10,  2.68s/it]\u001b[A\n",
      " 40%|████      | 2/5 [00:04<00:06,  2.07s/it]\u001b[A\n",
      " 60%|██████    | 3/5 [00:05<00:03,  1.87s/it]\u001b[A\n",
      " 80%|████████  | 4/5 [00:07<00:01,  1.78s/it]\u001b[A\n",
      "100%|██████████| 5/5 [00:09<00:00,  1.85s/it]\u001b[A\n",
      "\n",
      "finding global threshold on unet mask:   0%|          | 0/20 [00:00<?, ?it/s]\u001b[A\n",
      "finding global threshold on unet mask:  10%|█         | 2/20 [00:00<00:01, 12.12it/s]\u001b[A\n",
      "finding global threshold on unet mask:  20%|██        | 4/20 [00:00<00:01, 12.17it/s]\u001b[A\n",
      "finding global threshold on unet mask:  30%|███       | 6/20 [00:00<00:01, 12.20it/s]\u001b[A\n",
      "finding global threshold on unet mask:  40%|████      | 8/20 [00:00<00:00, 12.22it/s]\u001b[A\n",
      "finding global threshold on unet mask:  50%|█████     | 10/20 [00:00<00:00, 12.00it/s]\u001b[A\n",
      "finding global threshold on unet mask:  60%|██████    | 12/20 [00:00<00:00, 12.04it/s]\u001b[A\n",
      "finding global threshold on unet mask:  70%|███████   | 14/20 [00:01<00:00, 12.12it/s]\u001b[A\n",
      "finding global threshold on unet mask:  80%|████████  | 16/20 [00:01<00:00, 12.19it/s]\u001b[A\n",
      "finding global threshold on unet mask:  90%|█████████ | 18/20 [00:01<00:00, 12.30it/s]\u001b[A\n",
      "finding global threshold on unet mask: 100%|██████████| 20/20 [00:01<00:00, 12.23it/s]\u001b[A\n",
      "\n",
      "reorganizing labels after label clean up: 100%|██████████| 2/2 [00:00<00:00, 56.65it/s]\n"
     ]
    },
    {
     "name": "stdout",
     "output_type": "stream",
     "text": [
      "Prepyto Pipeline: zooming the unet mask\n",
      "last output array name: deep_mask\n",
      "last mrc file saved : prepyto/Dummy_102.rec_zoomed_mask.mrc\n"
     ]
    },
    {
     "name": "stderr",
     "output_type": "stream",
     "text": [
      " 12%|█▎        | 1/8 [00:33<03:57, 33.98s/it]"
     ]
    },
    {
     "name": "stdout",
     "output_type": "stream",
     "text": [
      "Prepyto pipeline: run_deep_at_multiple_rescale - rescale = 0.40089858023007424\n",
      "Prepyto pipeline: Running unet segmentation if there are less than 7 file in ./deep directory\n"
     ]
    },
    {
     "name": "stderr",
     "output_type": "stream",
     "text": [
      "\n",
      "  0%|          | 0/6 [00:00<?, ?it/s]\u001b[A\n",
      " 17%|█▋        | 1/6 [00:02<00:10,  2.15s/it]\u001b[A\n",
      " 33%|███▎      | 2/6 [00:04<00:08,  2.06s/it]\u001b[A\n",
      " 50%|█████     | 3/6 [00:06<00:06,  2.03s/it]\u001b[A\n",
      " 67%|██████▋   | 4/6 [00:08<00:04,  2.03s/it]\u001b[A\n",
      " 83%|████████▎ | 5/6 [00:10<00:02,  2.02s/it]\u001b[A\n",
      "100%|██████████| 6/6 [00:12<00:00,  2.03s/it]\u001b[A\n",
      "\n",
      "finding global threshold on unet mask:   0%|          | 0/20 [00:00<?, ?it/s]\u001b[A\n",
      "finding global threshold on unet mask:   5%|▌         | 1/20 [00:00<00:02,  8.28it/s]\u001b[A\n",
      "finding global threshold on unet mask:  10%|█         | 2/20 [00:00<00:02,  8.17it/s]\u001b[A\n",
      "finding global threshold on unet mask:  15%|█▌        | 3/20 [00:00<00:02,  8.17it/s]\u001b[A\n",
      "finding global threshold on unet mask:  20%|██        | 4/20 [00:00<00:01,  8.19it/s]\u001b[A\n",
      "finding global threshold on unet mask:  25%|██▌       | 5/20 [00:00<00:01,  8.19it/s]\u001b[A\n",
      "finding global threshold on unet mask:  30%|███       | 6/20 [00:00<00:01,  8.21it/s]\u001b[A\n",
      "finding global threshold on unet mask:  35%|███▌      | 7/20 [00:00<00:01,  8.03it/s]\u001b[A\n",
      "finding global threshold on unet mask:  40%|████      | 8/20 [00:00<00:01,  8.07it/s]\u001b[A\n",
      "finding global threshold on unet mask:  45%|████▌     | 9/20 [00:01<00:01,  8.15it/s]\u001b[A\n",
      "finding global threshold on unet mask:  50%|█████     | 10/20 [00:01<00:01,  8.19it/s]\u001b[A\n",
      "finding global threshold on unet mask:  55%|█████▌    | 11/20 [00:01<00:01,  8.23it/s]\u001b[A\n",
      "finding global threshold on unet mask:  60%|██████    | 12/20 [00:01<00:00,  8.27it/s]\u001b[A\n",
      "finding global threshold on unet mask:  65%|██████▌   | 13/20 [00:01<00:00,  8.26it/s]\u001b[A\n",
      "finding global threshold on unet mask:  70%|███████   | 14/20 [00:01<00:00,  8.26it/s]\u001b[A\n",
      "finding global threshold on unet mask:  75%|███████▌  | 15/20 [00:01<00:00,  8.28it/s]\u001b[A\n",
      "finding global threshold on unet mask:  80%|████████  | 16/20 [00:01<00:00,  8.27it/s]\u001b[A\n",
      "finding global threshold on unet mask:  85%|████████▌ | 17/20 [00:02<00:00,  8.15it/s]\u001b[A\n",
      "finding global threshold on unet mask:  90%|█████████ | 18/20 [00:02<00:00,  8.26it/s]\u001b[A\n",
      "finding global threshold on unet mask:  95%|█████████▌| 19/20 [00:02<00:00,  8.33it/s]\u001b[A\n",
      "finding global threshold on unet mask: 100%|██████████| 20/20 [00:02<00:00,  8.24it/s]\u001b[A\n",
      "\n",
      "reorganizing labels after label clean up: 100%|██████████| 3/3 [00:00<00:00, 39.58it/s]\n"
     ]
    },
    {
     "name": "stdout",
     "output_type": "stream",
     "text": [
      "Prepyto Pipeline: zooming the unet mask\n",
      "last output array name: deep_mask\n",
      "last mrc file saved : prepyto/Dummy_102.rec_zoomed_mask.mrc\n"
     ]
    },
    {
     "name": "stderr",
     "output_type": "stream",
     "text": [
      " 25%|██▌       | 2/8 [01:11<03:36, 36.11s/it]"
     ]
    },
    {
     "name": "stdout",
     "output_type": "stream",
     "text": [
      "Prepyto pipeline: run_deep_at_multiple_rescale - rescale = 0.4510109027588335\n",
      "Prepyto pipeline: Running unet segmentation if there are less than 7 file in ./deep directory\n"
     ]
    },
    {
     "name": "stderr",
     "output_type": "stream",
     "text": [
      "\n",
      "  0%|          | 0/7 [00:00<?, ?it/s]\u001b[A\n",
      " 14%|█▍        | 1/7 [00:02<00:16,  2.72s/it]\u001b[A\n",
      " 29%|██▊       | 2/7 [00:05<00:13,  2.66s/it]\u001b[A\n",
      " 43%|████▎     | 3/7 [00:07<00:10,  2.65s/it]\u001b[A\n",
      " 57%|█████▋    | 4/7 [00:10<00:07,  2.64s/it]\u001b[A\n",
      " 71%|███████▏  | 5/7 [00:13<00:05,  2.64s/it]\u001b[A\n",
      " 86%|████████▌ | 6/7 [00:15<00:02,  2.64s/it]\u001b[A\n",
      "100%|██████████| 7/7 [00:18<00:00,  2.65s/it]\u001b[A\n",
      "\n",
      "finding global threshold on unet mask:   0%|          | 0/20 [00:00<?, ?it/s]\u001b[A\n",
      "finding global threshold on unet mask:   5%|▌         | 1/20 [00:00<00:03,  5.86it/s]\u001b[A\n",
      "finding global threshold on unet mask:  10%|█         | 2/20 [00:00<00:03,  5.81it/s]\u001b[A\n",
      "finding global threshold on unet mask:  15%|█▌        | 3/20 [00:00<00:02,  5.80it/s]\u001b[A\n",
      "finding global threshold on unet mask:  20%|██        | 4/20 [00:00<00:02,  5.79it/s]\u001b[A\n",
      "finding global threshold on unet mask:  25%|██▌       | 5/20 [00:00<00:02,  5.77it/s]\u001b[A\n",
      "finding global threshold on unet mask:  30%|███       | 6/20 [00:01<00:02,  5.77it/s]\u001b[A\n",
      "finding global threshold on unet mask:  35%|███▌      | 7/20 [00:01<00:02,  5.77it/s]\u001b[A\n",
      "finding global threshold on unet mask:  40%|████      | 8/20 [00:01<00:02,  5.76it/s]\u001b[A\n",
      "finding global threshold on unet mask:  45%|████▌     | 9/20 [00:01<00:01,  5.77it/s]\u001b[A\n",
      "finding global threshold on unet mask:  50%|█████     | 10/20 [00:01<00:01,  5.80it/s]\u001b[A\n",
      "finding global threshold on unet mask:  55%|█████▌    | 11/20 [00:01<00:01,  5.78it/s]\u001b[A\n",
      "finding global threshold on unet mask:  60%|██████    | 12/20 [00:02<00:01,  5.82it/s]\u001b[A\n",
      "finding global threshold on unet mask:  65%|██████▌   | 13/20 [00:02<00:01,  5.85it/s]\u001b[A\n",
      "finding global threshold on unet mask:  70%|███████   | 14/20 [00:02<00:01,  5.87it/s]\u001b[A\n",
      "finding global threshold on unet mask:  75%|███████▌  | 15/20 [00:02<00:00,  5.89it/s]\u001b[A\n",
      "finding global threshold on unet mask:  80%|████████  | 16/20 [00:02<00:00,  5.92it/s]\u001b[A\n",
      "finding global threshold on unet mask:  85%|████████▌ | 17/20 [00:02<00:00,  5.93it/s]\u001b[A\n",
      "finding global threshold on unet mask:  90%|█████████ | 18/20 [00:03<00:00,  5.94it/s]\u001b[A\n",
      "finding global threshold on unet mask:  95%|█████████▌| 19/20 [00:03<00:00,  5.97it/s]\u001b[A\n",
      "finding global threshold on unet mask: 100%|██████████| 20/20 [00:03<00:00,  5.86it/s]\u001b[A\n",
      "\n",
      "reorganizing labels after label clean up:   0%|          | 0/3 [00:00<?, ?it/s]\u001b[A\n",
      "reorganizing labels after label clean up: 100%|██████████| 3/3 [00:00<00:00, 27.48it/s]\u001b[A\n"
     ]
    },
    {
     "name": "stdout",
     "output_type": "stream",
     "text": [
      "Prepyto Pipeline: zooming the unet mask\n",
      "last output array name: deep_mask\n",
      "last mrc file saved : prepyto/Dummy_102.rec_zoomed_mask.mrc\n"
     ]
    },
    {
     "name": "stderr",
     "output_type": "stream",
     "text": [
      " 38%|███▊      | 3/8 [01:57<03:22, 40.50s/it]"
     ]
    },
    {
     "name": "stdout",
     "output_type": "stream",
     "text": [
      "Prepyto pipeline: run_deep_at_multiple_rescale - rescale = 0.5011232252875928\n",
      "Prepyto pipeline: Running unet segmentation if there are less than 7 file in ./deep directory\n"
     ]
    },
    {
     "name": "stderr",
     "output_type": "stream",
     "text": [
      "\n",
      "  0%|          | 0/7 [00:00<?, ?it/s]\u001b[A\n",
      " 14%|█▍        | 1/7 [00:03<00:19,  3.18s/it]\u001b[A\n",
      " 29%|██▊       | 2/7 [00:06<00:15,  3.12s/it]\u001b[A\n",
      " 43%|████▎     | 3/7 [00:09<00:12,  3.09s/it]\u001b[A\n",
      " 57%|█████▋    | 4/7 [00:12<00:09,  3.09s/it]\u001b[A\n",
      " 71%|███████▏  | 5/7 [00:15<00:06,  3.09s/it]\u001b[A\n",
      " 86%|████████▌ | 6/7 [00:18<00:03,  3.09s/it]\u001b[A\n",
      "100%|██████████| 7/7 [00:21<00:00,  3.09s/it]\u001b[A\n",
      "\n",
      "finding global threshold on unet mask:   0%|          | 0/20 [00:00<?, ?it/s]\u001b[A\n",
      "finding global threshold on unet mask:   5%|▌         | 1/20 [00:00<00:04,  4.31it/s]\u001b[A\n",
      "finding global threshold on unet mask:  10%|█         | 2/20 [00:00<00:04,  4.28it/s]\u001b[A\n",
      "finding global threshold on unet mask:  15%|█▌        | 3/20 [00:00<00:03,  4.28it/s]\u001b[A\n",
      "finding global threshold on unet mask:  20%|██        | 4/20 [00:00<00:03,  4.27it/s]\u001b[A\n",
      "finding global threshold on unet mask:  25%|██▌       | 5/20 [00:01<00:03,  4.27it/s]\u001b[A\n",
      "finding global threshold on unet mask:  30%|███       | 6/20 [00:01<00:03,  4.26it/s]\u001b[A\n",
      "finding global threshold on unet mask:  35%|███▌      | 7/20 [00:01<00:03,  4.27it/s]\u001b[A\n",
      "finding global threshold on unet mask:  40%|████      | 8/20 [00:01<00:02,  4.28it/s]\u001b[A\n",
      "finding global threshold on unet mask:  45%|████▌     | 9/20 [00:02<00:02,  4.28it/s]\u001b[A\n",
      "finding global threshold on unet mask:  50%|█████     | 10/20 [00:02<00:02,  4.28it/s]\u001b[A\n",
      "finding global threshold on unet mask:  55%|█████▌    | 11/20 [00:02<00:02,  4.29it/s]\u001b[A\n",
      "finding global threshold on unet mask:  60%|██████    | 12/20 [00:02<00:01,  4.30it/s]\u001b[A\n",
      "finding global threshold on unet mask:  65%|██████▌   | 13/20 [00:03<00:01,  4.31it/s]\u001b[A\n",
      "finding global threshold on unet mask:  70%|███████   | 14/20 [00:03<00:01,  4.32it/s]\u001b[A\n",
      "finding global threshold on unet mask:  75%|███████▌  | 15/20 [00:03<00:01,  4.33it/s]\u001b[A\n",
      "finding global threshold on unet mask:  80%|████████  | 16/20 [00:03<00:00,  4.34it/s]\u001b[A\n",
      "finding global threshold on unet mask:  85%|████████▌ | 17/20 [00:03<00:00,  4.36it/s]\u001b[A\n",
      "finding global threshold on unet mask:  90%|█████████ | 18/20 [00:04<00:00,  4.36it/s]\u001b[A\n",
      "finding global threshold on unet mask:  95%|█████████▌| 19/20 [00:04<00:00,  4.37it/s]\u001b[A\n",
      "finding global threshold on unet mask: 100%|██████████| 20/20 [00:04<00:00,  4.32it/s]\u001b[A\n",
      "\n",
      "reorganizing labels after label clean up:   0%|          | 0/5 [00:00<?, ?it/s]\u001b[A\n",
      "reorganizing labels after label clean up: 100%|██████████| 5/5 [00:00<00:00, 21.17it/s]\u001b[A\n"
     ]
    },
    {
     "name": "stdout",
     "output_type": "stream",
     "text": [
      "Prepyto Pipeline: zooming the unet mask\n",
      "last output array name: deep_mask\n",
      "last mrc file saved : prepyto/Dummy_102.rec_zoomed_mask.mrc\n"
     ]
    },
    {
     "name": "stderr",
     "output_type": "stream",
     "text": [
      " 50%|█████     | 4/8 [02:48<02:59, 44.90s/it]"
     ]
    },
    {
     "name": "stdout",
     "output_type": "stream",
     "text": [
      "Prepyto pipeline: run_deep_at_multiple_rescale - rescale = 0.5512355478163521\n",
      "Prepyto pipeline: Running unet segmentation if there are less than 7 file in ./deep directory\n"
     ]
    },
    {
     "name": "stderr",
     "output_type": "stream",
     "text": [
      "\n",
      "  0%|          | 0/8 [00:00<?, ?it/s]\u001b[A\n",
      " 12%|█▎        | 1/8 [00:03<00:25,  3.70s/it]\u001b[A\n",
      " 25%|██▌       | 2/8 [00:07<00:21,  3.65s/it]\u001b[A\n",
      " 38%|███▊      | 3/8 [00:10<00:18,  3.63s/it]\u001b[A\n",
      " 50%|█████     | 4/8 [00:14<00:14,  3.63s/it]\u001b[A\n",
      " 62%|██████▎   | 5/8 [00:18<00:10,  3.63s/it]\u001b[A\n",
      " 75%|███████▌  | 6/8 [00:21<00:07,  3.63s/it]\u001b[A\n",
      " 88%|████████▊ | 7/8 [00:25<00:03,  3.62s/it]\u001b[A\n",
      "100%|██████████| 8/8 [00:29<00:00,  3.63s/it]\u001b[A\n",
      "\n",
      "finding global threshold on unet mask:   0%|          | 0/20 [00:00<?, ?it/s]\u001b[A\n",
      "finding global threshold on unet mask:   5%|▌         | 1/20 [00:00<00:05,  3.27it/s]\u001b[A\n",
      "finding global threshold on unet mask:  10%|█         | 2/20 [00:00<00:05,  3.24it/s]\u001b[A\n",
      "finding global threshold on unet mask:  15%|█▌        | 3/20 [00:00<00:05,  3.24it/s]\u001b[A\n",
      "finding global threshold on unet mask:  20%|██        | 4/20 [00:01<00:04,  3.24it/s]\u001b[A\n",
      "finding global threshold on unet mask:  25%|██▌       | 5/20 [00:01<00:04,  3.24it/s]\u001b[A\n",
      "finding global threshold on unet mask:  30%|███       | 6/20 [00:01<00:04,  3.24it/s]\u001b[A\n",
      "finding global threshold on unet mask:  35%|███▌      | 7/20 [00:02<00:04,  3.25it/s]\u001b[A\n",
      "finding global threshold on unet mask:  40%|████      | 8/20 [00:02<00:03,  3.25it/s]\u001b[A\n",
      "finding global threshold on unet mask:  45%|████▌     | 9/20 [00:02<00:03,  3.26it/s]\u001b[A\n",
      "finding global threshold on unet mask:  50%|█████     | 10/20 [00:03<00:03,  3.25it/s]\u001b[A\n",
      "finding global threshold on unet mask:  55%|█████▌    | 11/20 [00:03<00:02,  3.25it/s]\u001b[A\n",
      "finding global threshold on unet mask:  60%|██████    | 12/20 [00:03<00:02,  3.25it/s]\u001b[A\n",
      "finding global threshold on unet mask:  65%|██████▌   | 13/20 [00:04<00:02,  3.26it/s]\u001b[A\n",
      "finding global threshold on unet mask:  70%|███████   | 14/20 [00:04<00:01,  3.27it/s]\u001b[A\n",
      "finding global threshold on unet mask:  75%|███████▌  | 15/20 [00:04<00:01,  3.28it/s]\u001b[A\n",
      "finding global threshold on unet mask:  80%|████████  | 16/20 [00:04<00:01,  3.28it/s]\u001b[A\n",
      "finding global threshold on unet mask:  85%|████████▌ | 17/20 [00:05<00:00,  3.28it/s]\u001b[A\n",
      "finding global threshold on unet mask:  90%|█████████ | 18/20 [00:05<00:00,  3.29it/s]\u001b[A\n",
      "finding global threshold on unet mask:  95%|█████████▌| 19/20 [00:05<00:00,  3.29it/s]\u001b[A\n",
      "finding global threshold on unet mask: 100%|██████████| 20/20 [00:06<00:00,  3.27it/s]\u001b[A\n",
      "\n",
      "reorganizing labels after label clean up:   0%|          | 0/6 [00:00<?, ?it/s]\u001b[A\n",
      "reorganizing labels after label clean up:  33%|███▎      | 2/6 [00:00<00:00, 16.57it/s]\u001b[A\n",
      "reorganizing labels after label clean up:  67%|██████▋   | 4/6 [00:00<00:00, 15.68it/s]\u001b[A\n",
      "reorganizing labels after label clean up: 100%|██████████| 6/6 [00:00<00:00, 15.25it/s]\u001b[A\n"
     ]
    },
    {
     "name": "stdout",
     "output_type": "stream",
     "text": [
      "Prepyto Pipeline: zooming the unet mask\n",
      "last output array name: deep_mask\n",
      "last mrc file saved : prepyto/Dummy_102.rec_zoomed_mask.mrc\n"
     ]
    },
    {
     "name": "stderr",
     "output_type": "stream",
     "text": [
      " 62%|██████▎   | 5/8 [03:50<02:33, 51.01s/it]"
     ]
    },
    {
     "name": "stdout",
     "output_type": "stream",
     "text": [
      "Prepyto pipeline: run_deep_at_multiple_rescale - rescale = 0.6013478703451114\n",
      "Prepyto pipeline: Running unet segmentation if there are less than 7 file in ./deep directory\n"
     ]
    },
    {
     "name": "stderr",
     "output_type": "stream",
     "text": [
      "\n",
      "  0%|          | 0/9 [00:00<?, ?it/s]\u001b[A\n",
      " 11%|█         | 1/9 [00:04<00:36,  4.62s/it]\u001b[A\n",
      " 22%|██▏       | 2/9 [00:09<00:32,  4.57s/it]\u001b[A\n",
      " 33%|███▎      | 3/9 [00:13<00:27,  4.55s/it]\u001b[A\n",
      " 44%|████▍     | 4/9 [00:18<00:22,  4.54s/it]\u001b[A\n",
      " 56%|█████▌    | 5/9 [00:22<00:18,  4.53s/it]\u001b[A\n",
      " 67%|██████▋   | 6/9 [00:27<00:13,  4.52s/it]\u001b[A\n",
      " 78%|███████▊  | 7/9 [00:31<00:09,  4.52s/it]\u001b[A\n",
      " 89%|████████▉ | 8/9 [00:36<00:04,  4.51s/it]\u001b[A\n",
      "100%|██████████| 9/9 [00:40<00:00,  4.53s/it]\u001b[A\n",
      "\n",
      "finding global threshold on unet mask:   0%|          | 0/20 [00:00<?, ?it/s]\u001b[A\n",
      "finding global threshold on unet mask:   5%|▌         | 1/20 [00:00<00:07,  2.53it/s]\u001b[A\n",
      "finding global threshold on unet mask:  10%|█         | 2/20 [00:00<00:07,  2.52it/s]\u001b[A\n",
      "finding global threshold on unet mask:  15%|█▌        | 3/20 [00:01<00:06,  2.52it/s]\u001b[A\n",
      "finding global threshold on unet mask:  20%|██        | 4/20 [00:01<00:06,  2.52it/s]\u001b[A\n",
      "finding global threshold on unet mask:  25%|██▌       | 5/20 [00:01<00:05,  2.52it/s]\u001b[A\n",
      "finding global threshold on unet mask:  30%|███       | 6/20 [00:02<00:05,  2.52it/s]\u001b[A\n",
      "finding global threshold on unet mask:  35%|███▌      | 7/20 [00:02<00:05,  2.51it/s]\u001b[A\n",
      "finding global threshold on unet mask:  40%|████      | 8/20 [00:03<00:04,  2.51it/s]\u001b[A\n",
      "finding global threshold on unet mask:  45%|████▌     | 9/20 [00:03<00:04,  2.51it/s]\u001b[A\n",
      "finding global threshold on unet mask:  50%|█████     | 10/20 [00:03<00:03,  2.52it/s]\u001b[A\n",
      "finding global threshold on unet mask:  55%|█████▌    | 11/20 [00:04<00:03,  2.53it/s]\u001b[A\n",
      "finding global threshold on unet mask:  60%|██████    | 12/20 [00:04<00:03,  2.53it/s]\u001b[A\n",
      "finding global threshold on unet mask:  65%|██████▌   | 13/20 [00:05<00:02,  2.54it/s]\u001b[A\n",
      "finding global threshold on unet mask:  70%|███████   | 14/20 [00:05<00:02,  2.54it/s]\u001b[A\n",
      "finding global threshold on unet mask:  75%|███████▌  | 15/20 [00:05<00:01,  2.55it/s]\u001b[A\n",
      "finding global threshold on unet mask:  80%|████████  | 16/20 [00:06<00:01,  2.54it/s]\u001b[A\n",
      "finding global threshold on unet mask:  85%|████████▌ | 17/20 [00:06<00:01,  2.55it/s]\u001b[A\n",
      "finding global threshold on unet mask:  90%|█████████ | 18/20 [00:07<00:00,  2.54it/s]\u001b[A\n",
      "finding global threshold on unet mask:  95%|█████████▌| 19/20 [00:07<00:00,  2.55it/s]\u001b[A\n",
      "finding global threshold on unet mask: 100%|██████████| 20/20 [00:07<00:00,  2.53it/s]\u001b[A\n",
      "\n",
      "reorganizing labels after label clean up:   0%|          | 0/19 [00:00<?, ?it/s]\u001b[A\n",
      "reorganizing labels after label clean up:  11%|█         | 2/19 [00:00<00:01, 12.65it/s]\u001b[A\n",
      "reorganizing labels after label clean up:  21%|██        | 4/19 [00:00<00:01, 12.46it/s]\u001b[A\n",
      "reorganizing labels after label clean up:  32%|███▏      | 6/19 [00:00<00:01, 12.33it/s]\u001b[A\n",
      "reorganizing labels after label clean up:  42%|████▏     | 8/19 [00:00<00:00, 12.08it/s]\u001b[A\n",
      "reorganizing labels after label clean up:  53%|█████▎    | 10/19 [00:00<00:00, 11.80it/s]\u001b[A\n",
      "reorganizing labels after label clean up:  63%|██████▎   | 12/19 [00:01<00:00, 11.62it/s]\u001b[A\n",
      "reorganizing labels after label clean up:  74%|███████▎  | 14/19 [00:01<00:00, 11.40it/s]\u001b[A\n",
      "reorganizing labels after label clean up:  84%|████████▍ | 16/19 [00:01<00:00, 11.33it/s]\u001b[A\n",
      "reorganizing labels after label clean up: 100%|██████████| 19/19 [00:01<00:00, 11.55it/s]\u001b[A\n"
     ]
    },
    {
     "name": "stdout",
     "output_type": "stream",
     "text": [
      "Prepyto Pipeline: zooming the unet mask\n",
      "last output array name: deep_mask\n",
      "last mrc file saved : prepyto/Dummy_102.rec_zoomed_mask.mrc\n"
     ]
    },
    {
     "name": "stderr",
     "output_type": "stream",
     "text": [
      " 75%|███████▌  | 6/8 [05:09<02:00, 60.33s/it]"
     ]
    },
    {
     "name": "stdout",
     "output_type": "stream",
     "text": [
      "Prepyto pipeline: run_deep_at_multiple_rescale - rescale = 0.6514601928738706\n",
      "Prepyto pipeline: Running unet segmentation if there are less than 7 file in ./deep directory\n"
     ]
    },
    {
     "name": "stderr",
     "output_type": "stream",
     "text": [
      "\n",
      "  0%|          | 0/9 [00:00<?, ?it/s]\u001b[A\n",
      " 11%|█         | 1/9 [00:05<00:42,  5.26s/it]\u001b[A\n",
      " 22%|██▏       | 2/9 [00:10<00:36,  5.15s/it]\u001b[A\n",
      " 33%|███▎      | 3/9 [00:15<00:30,  5.08s/it]\u001b[A\n",
      " 44%|████▍     | 4/9 [00:20<00:25,  5.06s/it]\u001b[A\n",
      " 56%|█████▌    | 5/9 [00:25<00:20,  5.05s/it]\u001b[A\n",
      " 67%|██████▋   | 6/9 [00:30<00:15,  5.06s/it]\u001b[A\n",
      " 78%|███████▊  | 7/9 [00:35<00:10,  5.05s/it]\u001b[A\n",
      " 89%|████████▉ | 8/9 [00:40<00:05,  5.05s/it]\u001b[A\n",
      "100%|██████████| 9/9 [00:45<00:00,  5.07s/it]\u001b[A\n",
      "\n",
      "finding global threshold on unet mask:   0%|          | 0/20 [00:00<?, ?it/s]\u001b[A\n",
      "finding global threshold on unet mask:   5%|▌         | 1/20 [00:00<00:09,  2.00it/s]\u001b[A\n",
      "finding global threshold on unet mask:  10%|█         | 2/20 [00:01<00:09,  1.99it/s]\u001b[A\n",
      "finding global threshold on unet mask:  15%|█▌        | 3/20 [00:01<00:08,  1.95it/s]\u001b[A\n",
      "finding global threshold on unet mask:  20%|██        | 4/20 [00:02<00:08,  1.96it/s]\u001b[A\n",
      "finding global threshold on unet mask:  25%|██▌       | 5/20 [00:02<00:07,  1.97it/s]\u001b[A\n",
      "finding global threshold on unet mask:  30%|███       | 6/20 [00:03<00:07,  1.97it/s]\u001b[A\n",
      "finding global threshold on unet mask:  35%|███▌      | 7/20 [00:03<00:06,  1.98it/s]\u001b[A\n",
      "finding global threshold on unet mask:  40%|████      | 8/20 [00:04<00:06,  1.99it/s]\u001b[A\n",
      "finding global threshold on unet mask:  45%|████▌     | 9/20 [00:04<00:05,  1.99it/s]\u001b[A\n",
      "finding global threshold on unet mask:  50%|█████     | 10/20 [00:05<00:05,  2.00it/s]\u001b[A\n",
      "finding global threshold on unet mask:  55%|█████▌    | 11/20 [00:05<00:04,  2.00it/s]\u001b[A\n",
      "finding global threshold on unet mask:  60%|██████    | 12/20 [00:06<00:03,  2.00it/s]\u001b[A\n",
      "finding global threshold on unet mask:  65%|██████▌   | 13/20 [00:06<00:03,  2.01it/s]\u001b[A\n",
      "finding global threshold on unet mask:  70%|███████   | 14/20 [00:07<00:02,  2.01it/s]\u001b[A\n",
      "finding global threshold on unet mask:  75%|███████▌  | 15/20 [00:07<00:02,  2.01it/s]\u001b[A\n",
      "finding global threshold on unet mask:  80%|████████  | 16/20 [00:08<00:01,  2.02it/s]\u001b[A\n",
      "finding global threshold on unet mask:  85%|████████▌ | 17/20 [00:08<00:01,  2.02it/s]\u001b[A\n",
      "finding global threshold on unet mask:  90%|█████████ | 18/20 [00:09<00:00,  2.03it/s]\u001b[A\n",
      "finding global threshold on unet mask:  95%|█████████▌| 19/20 [00:09<00:00,  2.03it/s]\u001b[A\n",
      "finding global threshold on unet mask: 100%|██████████| 20/20 [00:09<00:00,  2.00it/s]\u001b[A\n",
      "\n",
      "reorganizing labels after label clean up:   0%|          | 0/35 [00:00<?, ?it/s]\u001b[A\n",
      "reorganizing labels after label clean up:   3%|▎         | 1/35 [00:00<00:03,  9.96it/s]\u001b[A\n",
      "reorganizing labels after label clean up:   6%|▌         | 2/35 [00:00<00:03,  9.80it/s]\u001b[A\n",
      "reorganizing labels after label clean up:   9%|▊         | 3/35 [00:00<00:03,  9.72it/s]\u001b[A\n",
      "reorganizing labels after label clean up:  11%|█▏        | 4/35 [00:00<00:03,  9.70it/s]\u001b[A\n",
      "reorganizing labels after label clean up:  14%|█▍        | 5/35 [00:00<00:03,  9.67it/s]\u001b[A\n",
      "reorganizing labels after label clean up:  17%|█▋        | 6/35 [00:00<00:03,  9.64it/s]\u001b[A\n",
      "reorganizing labels after label clean up:  20%|██        | 7/35 [00:00<00:02,  9.62it/s]\u001b[A\n",
      "reorganizing labels after label clean up:  23%|██▎       | 8/35 [00:00<00:02,  9.60it/s]\u001b[A\n",
      "reorganizing labels after label clean up:  26%|██▌       | 9/35 [00:00<00:02,  9.57it/s]\u001b[A\n",
      "reorganizing labels after label clean up:  29%|██▊       | 10/35 [00:01<00:02,  9.55it/s]\u001b[A\n",
      "reorganizing labels after label clean up:  31%|███▏      | 11/35 [00:01<00:02,  9.53it/s]\u001b[A\n",
      "reorganizing labels after label clean up:  34%|███▍      | 12/35 [00:01<00:02,  9.51it/s]\u001b[A\n",
      "reorganizing labels after label clean up:  37%|███▋      | 13/35 [00:01<00:02,  9.49it/s]\u001b[A\n",
      "reorganizing labels after label clean up:  40%|████      | 14/35 [00:01<00:02,  9.44it/s]\u001b[A\n",
      "reorganizing labels after label clean up:  43%|████▎     | 15/35 [00:01<00:02,  9.40it/s]\u001b[A\n",
      "reorganizing labels after label clean up:  46%|████▌     | 16/35 [00:01<00:02,  9.38it/s]\u001b[A\n",
      "reorganizing labels after label clean up:  49%|████▊     | 17/35 [00:01<00:01,  9.37it/s]\u001b[A\n",
      "reorganizing labels after label clean up:  51%|█████▏    | 18/35 [00:01<00:01,  9.35it/s]\u001b[A\n",
      "reorganizing labels after label clean up:  54%|█████▍    | 19/35 [00:02<00:01,  9.32it/s]\u001b[A\n",
      "reorganizing labels after label clean up:  57%|█████▋    | 20/35 [00:02<00:01,  9.31it/s]\u001b[A\n",
      "reorganizing labels after label clean up:  60%|██████    | 21/35 [00:02<00:01,  9.26it/s]\u001b[A\n",
      "reorganizing labels after label clean up:  63%|██████▎   | 22/35 [00:02<00:01,  9.22it/s]\u001b[A\n",
      "reorganizing labels after label clean up:  66%|██████▌   | 23/35 [00:02<00:01,  9.18it/s]\u001b[A\n",
      "reorganizing labels after label clean up:  69%|██████▊   | 24/35 [00:02<00:01,  9.15it/s]\u001b[A\n",
      "reorganizing labels after label clean up:  71%|███████▏  | 25/35 [00:02<00:01,  9.06it/s]\u001b[A\n",
      "reorganizing labels after label clean up:  74%|███████▍  | 26/35 [00:02<00:00,  9.00it/s]\u001b[A\n",
      "reorganizing labels after label clean up:  77%|███████▋  | 27/35 [00:02<00:00,  8.96it/s]\u001b[A\n",
      "reorganizing labels after label clean up:  80%|████████  | 28/35 [00:02<00:00,  8.92it/s]\u001b[A\n",
      "reorganizing labels after label clean up:  83%|████████▎ | 29/35 [00:03<00:00,  8.88it/s]\u001b[A\n",
      "reorganizing labels after label clean up:  86%|████████▌ | 30/35 [00:03<00:00,  8.82it/s]\u001b[A\n",
      "reorganizing labels after label clean up:  89%|████████▊ | 31/35 [00:03<00:00,  8.77it/s]\u001b[A\n",
      "reorganizing labels after label clean up:  91%|█████████▏| 32/35 [00:03<00:00,  8.73it/s]\u001b[A\n",
      "reorganizing labels after label clean up:  94%|█████████▍| 33/35 [00:03<00:00,  8.69it/s]\u001b[A\n",
      "reorganizing labels after label clean up:  97%|█████████▋| 34/35 [00:03<00:00,  8.63it/s]\u001b[A\n",
      "reorganizing labels after label clean up: 100%|██████████| 35/35 [00:03<00:00,  9.18it/s]\u001b[A\n"
     ]
    },
    {
     "name": "stdout",
     "output_type": "stream",
     "text": [
      "Prepyto Pipeline: zooming the unet mask\n",
      "last output array name: deep_mask\n",
      "last mrc file saved : prepyto/Dummy_102.rec_zoomed_mask.mrc\n"
     ]
    },
    {
     "name": "stderr",
     "output_type": "stream",
     "text": [
      " 88%|████████▊ | 7/8 [06:40<01:10, 70.46s/it]"
     ]
    },
    {
     "name": "stdout",
     "output_type": "stream",
     "text": [
      "Prepyto pipeline: run_deep_at_multiple_rescale - rescale = 0.7015725154026299\n",
      "Prepyto pipeline: Running unet segmentation if there are less than 7 file in ./deep directory\n"
     ]
    },
    {
     "name": "stderr",
     "output_type": "stream",
     "text": [
      "\n",
      "  0%|          | 0/10 [00:00<?, ?it/s]\u001b[A\n",
      " 10%|█         | 1/10 [00:06<00:54,  6.02s/it]\u001b[A\n",
      " 20%|██        | 2/10 [00:11<00:47,  5.98s/it]\u001b[A\n",
      " 30%|███       | 3/10 [00:17<00:41,  5.98s/it]\u001b[A\n",
      " 40%|████      | 4/10 [00:23<00:35,  5.96s/it]\u001b[A\n",
      " 50%|█████     | 5/10 [00:29<00:29,  5.95s/it]\u001b[A\n",
      " 60%|██████    | 6/10 [00:35<00:23,  5.96s/it]\u001b[A\n",
      " 70%|███████   | 7/10 [00:41<00:17,  5.97s/it]\u001b[A\n",
      " 80%|████████  | 8/10 [00:47<00:11,  5.98s/it]\u001b[A\n",
      " 90%|█████████ | 9/10 [00:53<00:05,  5.98s/it]\u001b[A\n",
      "100%|██████████| 10/10 [00:59<00:00,  5.98s/it]\u001b[A\n",
      "\n",
      "finding global threshold on unet mask:   0%|          | 0/20 [00:00<?, ?it/s]\u001b[A\n",
      "finding global threshold on unet mask:   5%|▌         | 1/20 [00:00<00:11,  1.64it/s]\u001b[A\n",
      "finding global threshold on unet mask:  10%|█         | 2/20 [00:01<00:11,  1.63it/s]\u001b[A\n",
      "finding global threshold on unet mask:  15%|█▌        | 3/20 [00:01<00:10,  1.63it/s]\u001b[A\n",
      "finding global threshold on unet mask:  20%|██        | 4/20 [00:02<00:09,  1.63it/s]\u001b[A\n",
      "finding global threshold on unet mask:  25%|██▌       | 5/20 [00:03<00:09,  1.63it/s]\u001b[A\n",
      "finding global threshold on unet mask:  30%|███       | 6/20 [00:03<00:08,  1.63it/s]\u001b[A\n",
      "finding global threshold on unet mask:  35%|███▌      | 7/20 [00:04<00:07,  1.63it/s]\u001b[A\n",
      "finding global threshold on unet mask:  40%|████      | 8/20 [00:04<00:07,  1.63it/s]\u001b[A\n",
      "finding global threshold on unet mask:  45%|████▌     | 9/20 [00:05<00:06,  1.63it/s]\u001b[A\n",
      "finding global threshold on unet mask:  50%|█████     | 10/20 [00:06<00:06,  1.64it/s]\u001b[A\n",
      "finding global threshold on unet mask:  55%|█████▌    | 11/20 [00:06<00:05,  1.63it/s]\u001b[A\n",
      "finding global threshold on unet mask:  60%|██████    | 12/20 [00:07<00:04,  1.64it/s]\u001b[A\n",
      "finding global threshold on unet mask:  65%|██████▌   | 13/20 [00:07<00:04,  1.64it/s]\u001b[A\n",
      "finding global threshold on unet mask:  70%|███████   | 14/20 [00:08<00:03,  1.64it/s]\u001b[A\n",
      "finding global threshold on unet mask:  75%|███████▌  | 15/20 [00:09<00:03,  1.65it/s]\u001b[A\n",
      "finding global threshold on unet mask:  80%|████████  | 16/20 [00:09<00:02,  1.65it/s]\u001b[A\n",
      "finding global threshold on unet mask:  85%|████████▌ | 17/20 [00:10<00:01,  1.65it/s]\u001b[A\n",
      "finding global threshold on unet mask:  90%|█████████ | 18/20 [00:10<00:01,  1.66it/s]\u001b[A\n",
      "finding global threshold on unet mask:  95%|█████████▌| 19/20 [00:11<00:00,  1.62it/s]\u001b[A\n",
      "finding global threshold on unet mask: 100%|██████████| 20/20 [00:12<00:00,  1.64it/s]\u001b[A\n",
      "\n",
      "reorganizing labels after label clean up:   0%|          | 0/7 [00:00<?, ?it/s]\u001b[A\n",
      "reorganizing labels after label clean up:  14%|█▍        | 1/7 [00:00<00:00,  7.60it/s]\u001b[A\n",
      "reorganizing labels after label clean up:  29%|██▊       | 2/7 [00:00<00:00,  7.47it/s]\u001b[A\n",
      "reorganizing labels after label clean up:  43%|████▎     | 3/7 [00:00<00:00,  7.40it/s]\u001b[A\n",
      "reorganizing labels after label clean up:  57%|█████▋    | 4/7 [00:00<00:00,  7.34it/s]\u001b[A\n",
      "reorganizing labels after label clean up:  71%|███████▏  | 5/7 [00:00<00:00,  7.29it/s]\u001b[A\n",
      "reorganizing labels after label clean up:  86%|████████▌ | 6/7 [00:00<00:00,  7.25it/s]\u001b[A\n",
      "reorganizing labels after label clean up: 100%|██████████| 7/7 [00:00<00:00,  7.29it/s]\u001b[A\n"
     ]
    },
    {
     "name": "stdout",
     "output_type": "stream",
     "text": [
      "Prepyto Pipeline: zooming the unet mask\n",
      "last output array name: deep_mask\n",
      "last mrc file saved : prepyto/Dummy_102.rec_zoomed_mask.mrc\n"
     ]
    },
    {
     "name": "stderr",
     "output_type": "stream",
     "text": [
      "100%|██████████| 8/8 [08:25<00:00, 63.24s/it]\n"
     ]
    },
    {
     "name": "stdout",
     "output_type": "stream",
     "text": [
      "Prepyto Pipeline: running label_vesicles_simply\n",
      "Prepyto Pipeline: restricting labels to segmentation region\n",
      "last output array name: deep_mask\n",
      "last mrc file saved : prepyto/Dummy_102.rec_zoomed_mask.mrc\n"
     ]
    },
    {
     "name": "stderr",
     "output_type": "stream",
     "text": [
      "Expanding labels until none is too small:   0%|          | 0/7 [00:08<?, ?it/s]\n"
     ]
    },
    {
     "name": "stdout",
     "output_type": "stream",
     "text": [
      "last output array name: deep_labels\n",
      "last mrc file saved : prepyto/Dummy_102.rec_deep_labels.mrc\n",
      "Prepyto Pipeline: Making vesicles spherical.\n"
     ]
    },
    {
     "name": "stderr",
     "output_type": "stream",
     "text": [
      "fitting sphere to vesicles: 100%|██████████| 95/95 [00:03<00:00, 29.01it/s]\n"
     ]
    },
    {
     "name": "stdout",
     "output_type": "stream",
     "text": [
      "last output array name: sphere_labels\n",
      "last mrc file saved : prepyto/Dummy_102.rec_sphere.mrc\n"
     ]
    }
   ],
   "source": [
    "pl = prepyto.Pipeline(dataset_directory)\n",
    "pl.setup_prepyto_dir()\n",
    "pl.run_deep_at_multiple_rescale()\n",
    "pl.label_vesicles_simply()\n",
    "pl.make_spheres()"
   ]
  },
  {
   "cell_type": "code",
   "execution_count": 5,
   "id": "comparative-villa",
   "metadata": {},
   "outputs": [
    {
     "name": "stdout",
     "output_type": "stream",
     "text": [
      "Prepyto Pipeline: making full mod file\n",
      "rearranged labels\n",
      "last output array name: final_vesicle_labels\n",
      "last mrc file saved : prepyto/Dummy_102.rec_final_vesicle_labels.mrc\n",
      "full model file saved to prepyto/full_prepyto.mod\n",
      "Prepyto Pipeline: making full label file\n",
      "saved labels to prepyto/labels.mrc\n",
      "Prepyto Pipeline: setting up pyto folder\n"
     ]
    }
   ],
   "source": [
    "pl.make_full_modfile()\n",
    "pl.make_full_label_file()\n",
    "pl.initialize_pyto()"
   ]
  },
  {
   "cell_type": "code",
   "execution_count": null,
   "id": "enhanced-resource",
   "metadata": {},
   "outputs": [],
   "source": []
  }
 ],
 "metadata": {
  "kernelspec": {
   "display_name": "Python 3",
   "language": "python",
   "name": "python3"
  },
  "language_info": {
   "codemirror_mode": {
    "name": "ipython",
    "version": 3
   },
   "file_extension": ".py",
   "mimetype": "text/x-python",
   "name": "python",
   "nbconvert_exporter": "python",
   "pygments_lexer": "ipython3",
   "version": "3.8.5"
  }
 },
 "nbformat": 4,
 "nbformat_minor": 5
}
