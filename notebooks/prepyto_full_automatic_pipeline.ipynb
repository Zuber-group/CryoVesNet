{
 "cells": [
  {
   "cell_type": "markdown",
   "id": "modern-piece",
   "metadata": {},
   "source": [
    "# Fully automatic pipeline"
   ]
  },
  {
   "cell_type": "markdown",
   "id": "prepared-colorado",
   "metadata": {},
   "source": [
    "disable tensorflow thousands of messages and select a GPU that is hopefully not used"
   ]
  },
  {
   "cell_type": "code",
   "execution_count": 1,
   "id": "responsible-kelly",
   "metadata": {},
   "outputs": [],
   "source": [
    "import warnings\n",
    "import os\n",
    "warnings.filterwarnings(\"ignore\")\n",
    "os.environ[\"TF_CPP_MIN_LOG_LEVEL\"]=\"2\"\n",
    "os.environ[\"CUDA_VISIBLE_DEVICES\"]=\"3\""
   ]
  },
  {
   "cell_type": "code",
   "execution_count": 2,
   "id": "pursuant-apollo",
   "metadata": {},
   "outputs": [
    {
     "name": "stdout",
     "output_type": "stream",
     "text": [
      "WARNING:tensorflow:From /home/amin/anaconda3/envs/deep_vesicles/lib/python3.9/site-packages/tensorflow/python/compat/v2_compat.py:96: disable_resource_variables (from tensorflow.python.ops.variable_scope) is deprecated and will be removed in a future version.\n",
      "Instructions for updating:\n",
      "non-resource variables are not supported in the long term\n"
     ]
    }
   ],
   "source": [
    "import prepyto"
   ]
  },
  {
   "cell_type": "code",
   "execution_count": 3,
   "id": "generous-revision",
   "metadata": {},
   "outputs": [],
   "source": [
    "dataset_directory = \"/home/bzuber/projects/prepyto/102_4e_trimmed/\"\n",
    "dataset_directory = \"/mnt/data/amin/102_4e_trimmed\"\n",
    "dataset_directory = \"/mnt/data/amin/Handpicked/84/\""
   ]
  },
  {
   "cell_type": "code",
   "execution_count": 9,
   "id": "relative-battle",
   "metadata": {},
   "outputs": [
    {
     "name": "stdout",
     "output_type": "stream",
     "text": [
      "Prepyto Pipeline: the pipeline is created for /mnt/data/amin/Handpicked/84\n",
      "Prepyto Pipeline: setting up prepyto directory\n",
      "Prepyto pipeline: Running unet segmentation if there are less than 7 file in ./deep directory\n"
     ]
    },
    {
     "name": "stderr",
     "output_type": "stream",
     "text": [
      "100%|██████████| 6/6 [00:41<00:00,  6.87s/it]\n",
      "finding global threshold on unet mask: 100%|██████████| 20/20 [00:11<00:00,  1.78it/s]\n"
     ]
    },
    {
     "name": "stdout",
     "output_type": "stream",
     "text": [
      "Prepyto Pipeline: zooming the unet mask\n",
      "Skipping because a full sized deep mask is already saved on the disk.\n",
      "If you want to force the program to make a new full sized deep mask, set force_run to True.\n",
      "Prepyto Pipeline: running label_vesicles_simply\n",
      "Prepyto Pipeline: restricting labels to segmentation region\n",
      "last output array name: deep_mask\n",
      "last mrc file saved : prepyto/Dummy_84_trim.rec_zoomed_mask.mrc\n"
     ]
    },
    {
     "name": "stderr",
     "output_type": "stream",
     "text": [
      "Expanding labels until none is too small: 100%|██████████| 4/4 [00:17<00:00,  4.49s/it]\n"
     ]
    },
    {
     "name": "stdout",
     "output_type": "stream",
     "text": [
      "The following labels are too small and couldn't be expanded with decreasing deep mask threshold. Therefore they were removed.\n",
      "You may want to inspect the region of their centroid, as they may correspond to missed vesicles.\n",
      "       area  centroid-0   centroid-1  centroid-2\n",
      "label                                           \n",
      "27      108   18.398148   282.148148  473.500000\n",
      "34        8   19.375000   289.000000  481.000000\n",
      "41        2   22.000000   288.500000  482.000000\n",
      "54      111   36.018018   635.630631  417.720721\n",
      "134     191   88.403141   740.759162  422.842932\n",
      "140      26   88.961538  1026.269231  589.692308\n",
      "172      97  106.567010   594.463918  341.072165\n",
      "197     237  118.746835   766.181435  615.810127\n",
      "407      85  202.317647    53.729412  193.494118\n",
      "486     266  232.646617   338.270677  364.868421\n",
      "497     178  234.938202   628.337079  342.247191\n",
      "500     260  237.715385   271.865385  112.876923\n",
      "506     316  238.322785   362.550633  553.550633\n",
      "521      89  262.707865   319.044944  160.865169\n",
      "522       7  263.428571   894.285714  577.142857\n",
      "5416.461861377482\n",
      "1083.2923722754965\n",
      "Tabel computed!\n",
      "(37, label               40.000000\n",
      "area             58627.000000\n",
      "centroid-0          59.326948\n",
      "centroid-1         790.247736\n",
      "centroid-2         510.737919\n",
      "bbox-0              21.000000\n",
      "bbox-1             753.000000\n",
      "bbox-2             481.000000\n",
      "bbox-3              90.000000\n",
      "bbox-4             817.000000\n",
      "bbox-5             548.000000\n",
      "extent               0.198150\n",
      "area_zscore          3.463430\n",
      "extent_zscore       -6.871917\n",
      "Name: 37, dtype: float64)\n",
      "1\n",
      "1 2\n",
      "(202, label              212.000000\n",
      "area             46675.000000\n",
      "centroid-0         148.169663\n",
      "centroid-1         337.725163\n",
      "centroid-2         238.286449\n",
      "bbox-0             124.000000\n",
      "bbox-1             304.000000\n",
      "bbox-2             213.000000\n",
      "bbox-3             173.000000\n",
      "bbox-4             373.000000\n",
      "bbox-5             264.000000\n",
      "extent               0.270688\n",
      "area_zscore          2.088239\n",
      "extent_zscore       -5.313163\n",
      "Name: 202, dtype: float64)\n",
      "1\n",
      "0.992\n",
      "1 2\n",
      "(263, label              273.000000\n",
      "area             76212.000000\n",
      "centroid-0         186.465675\n",
      "centroid-1         824.696701\n",
      "centroid-2         474.518317\n",
      "bbox-0             147.000000\n",
      "bbox-1             796.000000\n",
      "bbox-2             443.000000\n",
      "bbox-3             222.000000\n",
      "bbox-4             854.000000\n",
      "bbox-5             509.000000\n",
      "extent               0.265455\n",
      "area_zscore          5.486749\n",
      "extent_zscore       -5.425623\n",
      "Name: 263, dtype: float64)\n",
      "1\n",
      "1 2\n",
      "(363, label              374.000000\n",
      "area             52034.000000\n",
      "centroid-0         207.465484\n",
      "centroid-1         182.959277\n",
      "centroid-2         197.042568\n",
      "bbox-0             186.000000\n",
      "bbox-1             159.000000\n",
      "bbox-2             159.000000\n",
      "bbox-3             231.000000\n",
      "bbox-4             207.000000\n",
      "bbox-5             235.000000\n",
      "extent               0.316971\n",
      "area_zscore          2.704843\n",
      "extent_zscore       -4.318594\n",
      "Name: 363, dtype: float64)\n",
      "1\n",
      "1 2\n",
      "(364, label              375.000000\n",
      "area             49361.000000\n",
      "centroid-0         218.103179\n",
      "centroid-1         368.170600\n",
      "centroid-2         355.875367\n",
      "bbox-0             187.000000\n",
      "bbox-1             348.000000\n",
      "bbox-2             324.000000\n",
      "bbox-3             253.000000\n",
      "bbox-4             391.000000\n",
      "bbox-5             386.000000\n",
      "extent               0.280530\n",
      "area_zscore          2.397289\n",
      "extent_zscore       -5.101663\n",
      "Name: 364, dtype: float64)\n",
      "1\n",
      "1 2\n",
      "(407, label              419.000000\n",
      "area             56663.000000\n",
      "centroid-0         233.419215\n",
      "centroid-1         210.227344\n",
      "centroid-2         215.399573\n",
      "bbox-0             203.000000\n",
      "bbox-1             177.000000\n",
      "bbox-2             188.000000\n",
      "bbox-3             265.000000\n",
      "bbox-4             244.000000\n",
      "bbox-5             243.000000\n",
      "extent               0.248011\n",
      "area_zscore          3.237453\n",
      "extent_zscore       -5.800470\n",
      "Name: 407, dtype: float64)\n",
      "1\n",
      "1 2\n",
      "(461, label              474.000000\n",
      "area             70834.000000\n",
      "centroid-0         243.186055\n",
      "centroid-1         188.193975\n",
      "centroid-2          52.465920\n",
      "bbox-0             224.000000\n",
      "bbox-1             156.000000\n",
      "bbox-2              15.000000\n",
      "bbox-3             264.000000\n",
      "bbox-4             223.000000\n",
      "bbox-5              92.000000\n",
      "extent               0.343255\n",
      "area_zscore          4.867960\n",
      "extent_zscore       -3.753800\n",
      "Name: 461, dtype: float64)\n",
      "1\n",
      "0.996\n",
      "1 2\n",
      "Tabel computed!\n",
      "        area  centroid-0  centroid-1  centroid-2  bbox-0  bbox-1  bbox-2  \\\n",
      "label                                                                      \n",
      "57     30018   64.366813  792.676094  507.844160      38     756     482   \n",
      "71     22289   65.966172  849.175288  498.720849      49     831     482   \n",
      "263     1122  153.386809  895.640820  505.909091     146     891     499   \n",
      "282     6623  164.872565  782.363883  565.857617     153     766     549   \n",
      "428    30402  233.881620  580.867180  358.877113     214     554     336   \n",
      "\n",
      "       bbox-3  bbox-4  bbox-5    extent  area_zscore  extent_zscore  \n",
      "label                                                                \n",
      "57         88     815     545  0.161517     0.261873      -9.011955  \n",
      "71         88     883     520  0.289227    -0.710763      -5.804082  \n",
      "263       163     904     517  0.282051    -3.374472      -5.984328  \n",
      "282       180     793     581  0.283908    -2.682212      -5.937697  \n",
      "428       257     603     395  0.244560     0.310197      -6.926049  \n",
      "last output array name: deep_labels\n",
      "last mrc file saved : prepyto/Dummy_84_trim.rec_deep_labels.mrc\n",
      "Prepyto Pipeline: Making vesicles spherical.\n"
     ]
    },
    {
     "name": "stderr",
     "output_type": "stream",
     "text": [
      "fitting sphere to vesicles:   8%|▊         | 41/506 [00:02<00:23, 19.57it/s]"
     ]
    },
    {
     "name": "stdout",
     "output_type": "stream",
     "text": [
      "37 5\n",
      "39 633\n"
     ]
    },
    {
     "name": "stderr",
     "output_type": "stream",
     "text": [
      "\r",
      "fitting sphere to vesicles:   9%|▊         | 44/506 [00:02<00:26, 17.51it/s]"
     ]
    },
    {
     "name": "stdout",
     "output_type": "stream",
     "text": [
      "42 474\n"
     ]
    },
    {
     "name": "stderr",
     "output_type": "stream",
     "text": [
      "fitting sphere to vesicles:  10%|█         | 51/506 [00:02<00:19, 22.81it/s]"
     ]
    },
    {
     "name": "stdout",
     "output_type": "stream",
     "text": [
      "49 27\n"
     ]
    },
    {
     "name": "stderr",
     "output_type": "stream",
     "text": [
      "fitting sphere to vesicles:  14%|█▎        | 69/506 [00:03<00:19, 22.46it/s]"
     ]
    },
    {
     "name": "stdout",
     "output_type": "stream",
     "text": [
      "67 818\n"
     ]
    },
    {
     "name": "stderr",
     "output_type": "stream",
     "text": [
      "fitting sphere to vesicles:  20%|█▉        | 101/506 [00:04<00:15, 25.69it/s]"
     ]
    },
    {
     "name": "stdout",
     "output_type": "stream",
     "text": [
      "97 382\n"
     ]
    },
    {
     "name": "stderr",
     "output_type": "stream",
     "text": [
      "fitting sphere to vesicles:  22%|██▏       | 113/506 [00:05<00:15, 25.61it/s]"
     ]
    },
    {
     "name": "stdout",
     "output_type": "stream",
     "text": [
      "109 196\n"
     ]
    },
    {
     "name": "stderr",
     "output_type": "stream",
     "text": [
      "fitting sphere to vesicles:  27%|██▋       | 139/506 [00:06<00:17, 20.77it/s]"
     ]
    },
    {
     "name": "stdout",
     "output_type": "stream",
     "text": [
      "136 280\n"
     ]
    },
    {
     "name": "stderr",
     "output_type": "stream",
     "text": [
      "fitting sphere to vesicles: 100%|██████████| 506/506 [00:25<00:00, 19.54it/s]\n"
     ]
    },
    {
     "name": "stdout",
     "output_type": "stream",
     "text": [
      "last output array name: sphere_labels\n",
      "last mrc file saved : prepyto/Dummy_84_trim.rec_sphere.mrc\n"
     ]
    }
   ],
   "source": [
    "pl = prepyto.Pipeline(dataset_directory)\n",
    "pl.setup_prepyto_dir()\n",
    "pl.run_deep(force_run=True, rescale=0.5)\n",
    "pl.zoom()\n",
    "# pl.run_deep_at_multiple_rescale()\n",
    "pl.label_vesicles_simply()\n",
    "pl.make_spheres()"
   ]
  },
  {
   "cell_type": "code",
   "execution_count": 10,
   "id": "rough-capture",
   "metadata": {},
   "outputs": [
    {
     "name": "stdout",
     "output_type": "stream",
     "text": [
      "0: prepyto\n",
      "1: Dummy_84_trim.rec.nad\n",
      "2: az.mod\n",
      "3: cytomask.mrc.tar.bz2\n",
      "4: labels_out.mrc\n",
      "5: prepyto_new\n",
      "6: labels_out.mrc.tar.bz2\n",
      "7: merge.mod\n",
      "8: cell_outline.mod\n",
      "9: Dummy_84_trim.rec\n",
      "10: prepyto_trimtest.ipynb\n",
      "11: deep\n",
      "12: azmask.mrc.tar.bz2\n",
      "13: deep_new\n",
      "14: sv.mrc.tar.bz2\n",
      "Which mrc do you want to use as a reference for evaluation (give the number) ?4\n",
      "/mnt/data/amin/Handpicked/84/labels_out.mrc\n",
      "0: Dummy_84_trim.rec_sphere.mrc\n",
      "1: Dummy_84_trim.rec_sphere_dataframe.pkl\n",
      "2: Dummy_84_trim.rec_cytomask.mrc\n",
      "3: Dummy_84_trim.rec_deep_labels.mrc\n",
      "4: Dummy_84_trim.rec_convex_labels.mrc\n",
      "5: Dummy_84_trim.rec_zoomed_mask.mrc\n",
      "Which mrc do you want to use as a reference for evaluation (give the number) ?0\n",
      "/mnt/data/amin/Handpicked/84/prepyto/Dummy_84_trim.rec_sphere.mrc\n",
      "(276, 1366, 894)\n",
      "The Pixel Accuracy is: 0.9897878194002792\n",
      "The  Intersection-Over-Union is: 0.8449921596283456\n",
      "The Dice Metric: 0.9159845533420158\n",
      "Former Dice: 0.9159845553927175\n"
     ]
    }
   ],
   "source": [
    "pl.evaluation()"
   ]
  },
  {
   "cell_type": "code",
   "execution_count": 5,
   "id": "comparative-villa",
   "metadata": {},
   "outputs": [
    {
     "name": "stdout",
     "output_type": "stream",
     "text": [
      "Prepyto Pipeline: making full mod file\n",
      "rearranged labels\n",
      "last output array name: final_vesicle_labels\n",
      "last mrc file saved : prepyto/Dummy_102.rec_final_vesicle_labels.mrc\n",
      "full model file saved to prepyto/full_prepyto.mod\n",
      "Prepyto Pipeline: making full label file\n",
      "saved labels to prepyto/labels.mrc\n",
      "Prepyto Pipeline: setting up pyto folder\n"
     ]
    }
   ],
   "source": [
    "pl.make_full_modfile()\n",
    "pl.make_full_label_file()\n",
    "pl.initialize_pyto()"
   ]
  },
  {
   "cell_type": "code",
   "execution_count": null,
   "id": "enhanced-resource",
   "metadata": {},
   "outputs": [],
   "source": []
  }
 ],
 "metadata": {
  "kernelspec": {
   "display_name": "Python 3 (ipykernel)",
   "language": "python",
   "name": "python3"
  },
  "language_info": {
   "codemirror_mode": {
    "name": "ipython",
    "version": 3
   },
   "file_extension": ".py",
   "mimetype": "text/x-python",
   "name": "python",
   "nbconvert_exporter": "python",
   "pygments_lexer": "ipython3",
   "version": "3.9.7"
  }
 },
 "nbformat": 4,
 "nbformat_minor": 5
}
