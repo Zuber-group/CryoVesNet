{
 "cells": [
  {
   "cell_type": "markdown",
   "id": "modern-piece",
   "metadata": {},
   "source": [
    "# Fully automatic pipeline"
   ]
  },
  {
   "cell_type": "markdown",
   "id": "prepared-colorado",
   "metadata": {},
   "source": [
    "disable tensorflow thousands of messages and select a GPU that is hopefully not used"
   ]
  },
  {
   "cell_type": "code",
   "execution_count": 1,
   "id": "responsible-kelly",
   "metadata": {},
   "outputs": [],
   "source": [
    "import warnings\n",
    "import os\n",
    "warnings.filterwarnings(\"ignore\")\n",
    "os.environ[\"TF_CPP_MIN_LOG_LEVEL\"]=\"2\"\n",
    "os.environ[\"CUDA_VISIBLE_DEVICES\"]=\"3\""
   ]
  },
  {
   "cell_type": "code",
   "execution_count": 2,
   "id": "pursuant-apollo",
   "metadata": {},
   "outputs": [
    {
     "name": "stdout",
     "output_type": "stream",
     "text": [
      "WARNING:tensorflow:From /home/amin/anaconda3/envs/DeepVesicles/lib/python3.8/site-packages/tensorflow/python/compat/v2_compat.py:96: disable_resource_variables (from tensorflow.python.ops.variable_scope) is deprecated and will be removed in a future version.\n",
      "Instructions for updating:\n",
      "non-resource variables are not supported in the long term\n"
     ]
    }
   ],
   "source": [
    "import prepyto"
   ]
  },
  {
   "cell_type": "code",
   "execution_count": 3,
   "id": "generous-revision",
   "metadata": {},
   "outputs": [],
   "source": [
    "# dataset_directory = \"/mnt/data/Dropbox/microscopic_anatomy Dropbox/Pyto/102_4e_trimmed/\"\n",
    "# dataset_directory = \"/mnt/data/amin/Handpicked/102_4e_trimmed\"\n",
    "\n",
    "\n",
    "# dataset_directory = \"/mnt/data/amin/Handpicked/spray_ctrl_10\"\n",
    "# dataset_directory = \"/mnt/data/amin/Handpicked/spray_5\"\n",
    "# dataset_directory = \"/mnt/resstore/pyto-synapse/neurons/88_4e/analysis_062021\"\n",
    "# dataset_directory = \"/mnt/data/amin/Handpicked/133_wtko/analysis_062021/\"\n",
    "dataset_directory = \"/mnt/data/amin/Handpicked/84/\"\n",
    "\n",
    "# dataset_directory = \"/mnt/data/Dropbox/microscopic_anatomy Dropbox/Pyto/neurons/Julikas Handpicked Tomograms/tomograms of neurons/80_4e\"\n"
   ]
  },
  {
   "cell_type": "code",
   "execution_count": 4,
   "id": "about-project",
   "metadata": {},
   "outputs": [
    {
     "name": "stdout",
     "output_type": "stream",
     "text": [
      "Prepyto Pipeline: the pipeline is created for /mnt/data/amin/Handpicked/84\n"
     ]
    }
   ],
   "source": [
    "pl2 = prepyto.Pipeline(dataset_directory)\n",
    "pl2.network_size=64"
   ]
  },
  {
   "cell_type": "code",
   "execution_count": 5,
   "id": "sought-scheduling",
   "metadata": {},
   "outputs": [
    {
     "name": "stdout",
     "output_type": "stream",
     "text": [
      "Prepyto Pipeline: setting up prepyto directory\n",
      "Prepyto pipeline: Running unet segmentation if there are less than 7 file in ./deep directory\n"
     ]
    },
    {
     "name": "stderr",
     "output_type": "stream",
     "text": [
      "100%|██████████| 6/6 [00:41<00:00,  6.95s/it]\n",
      "finding global threshold on unet mask: 100%|██████████| 20/20 [00:09<00:00,  2.08it/s]\n",
      "reorganizing labels after label clean up: 100%|██████████| 313/313 [00:26<00:00, 11.81it/s]\n"
     ]
    },
    {
     "name": "stdout",
     "output_type": "stream",
     "text": [
      "Prepyto Pipeline: zooming the unet mask\n",
      "last output array name: deep_mask\n",
      "last mrc file saved : prepyto/Dummy_84_trim.rec_zoomed_mask.mrc\n",
      "Prepyto Pipeline: running label_vesicles_simply\n",
      "Prepyto Pipeline: restricting labels to segmentation region\n",
      "last output array name: deep_mask\n",
      "last mrc file saved : prepyto/Dummy_84_trim.rec_zoomed_mask.mrc\n"
     ]
    },
    {
     "name": "stderr",
     "output_type": "stream",
     "text": [
      "Expanding labels until none is too small: 100%|██████████| 4/4 [00:17<00:00,  4.37s/it]\n"
     ]
    },
    {
     "name": "stdout",
     "output_type": "stream",
     "text": [
      "The following labels are too small and couldn't be expanded with decreasing deep mask threshold. Therefore they were removed.\n",
      "You may want to inspect the region of their centroid, as they may correspond to missed vesicles.\n",
      "       area  centroid-0   centroid-1  centroid-2\n",
      "label                                           \n",
      "27      108   18.398148   282.148148  473.500000\n",
      "34        8   19.375000   289.000000  481.000000\n",
      "41        2   22.000000   288.500000  482.000000\n",
      "54      111   36.018018   635.630631  417.720721\n",
      "134     191   88.403141   740.759162  422.842932\n",
      "140      26   88.961538  1026.269231  589.692308\n",
      "172      97  106.567010   594.463918  341.072165\n",
      "197     237  118.746835   766.181435  615.810127\n",
      "407      85  202.317647    53.729412  193.494118\n",
      "486     266  232.646617   338.270677  364.868421\n",
      "497     178  234.938202   628.337079  342.247191\n",
      "500     260  237.715385   271.865385  112.876923\n",
      "506     316  238.322785   362.550633  553.550633\n",
      "521      89  262.707865   319.044944  160.865169\n",
      "522       7  263.428571   894.285714  577.142857\n",
      "last output array name: deep_labels\n",
      "last mrc file saved : prepyto/Dummy_84_trim.rec_deep_labels.mrc\n",
      "Prepyto Pipeline: Making vesicles spherical.\n"
     ]
    },
    {
     "name": "stderr",
     "output_type": "stream",
     "text": [
      "fitting sphere to vesicles: 100%|██████████| 519/519 [00:30<00:00, 17.12it/s]\n"
     ]
    },
    {
     "name": "stdout",
     "output_type": "stream",
     "text": [
      "last output array name: sphere_labels\n",
      "last mrc file saved : prepyto/Dummy_84_trim.rec_sphere.mrc\n"
     ]
    }
   ],
   "source": [
    "pl2.setup_prepyto_dir()\n",
    "pl2.run_deep(rescale=0.5)\n",
    "# pl2.run_deep()\n",
    "pl2.zoom()\n",
    "\n",
    "# pl2.run_deep_at_multiple_rescale()\n",
    "pl2.label_vesicles_simply(within_segmentation_region = True)\n",
    "\n",
    "# pl2.threshold_tuner()\n",
    "pl2.make_spheres()\n"
   ]
  },
  {
   "cell_type": "code",
   "execution_count": 6,
   "id": "disciplinary-marker",
   "metadata": {},
   "outputs": [
    {
     "name": "stdout",
     "output_type": "stream",
     "text": [
      "519\n",
      "(array([10, 46, 84]),)\n",
      "0\n",
      "1 10\n",
      "1 46\n",
      "1 84\n",
      "(array([16, 65]),)\n",
      "1\n",
      "2 16\n",
      "2 65\n",
      "(array([18, 23]),)\n",
      "2\n",
      "3 18\n",
      "3 23\n",
      "(array([ 11,  12,  52,  62,  75,  76, 128]),)\n",
      "8\n",
      "9 11\n",
      "9 12\n",
      "9 52\n",
      "9 62\n",
      "9 75\n",
      "9 76\n",
      "9 128\n",
      "(array([ 1, 35, 42]),)\n",
      "12\n",
      "13 1\n",
      "13 35\n",
      "13 42\n",
      "(array([33, 40]),)\n",
      "18\n",
      "19 33\n",
      "19 40\n",
      "(array([38, 60, 72]),)\n",
      "21\n",
      "22 38\n",
      "22 60\n",
      "22 72\n",
      "(array([37, 64]),)\n",
      "26\n",
      "27 37\n",
      "27 64\n",
      "(array([32, 57]),)\n",
      "33\n",
      "34 32\n",
      "34 57\n",
      "(array([ 39,  50,  93,  94, 112, 121, 197]),)\n",
      "36\n",
      "37 39\n",
      "37 50\n",
      "37 93\n",
      "37 94\n",
      "37 112\n",
      "37 121\n",
      "37 197\n",
      "(array([48, 77, 83]),)\n",
      "42\n",
      "43 48\n",
      "43 77\n",
      "43 83\n",
      "(array([ 49, 100]),)\n",
      "43\n",
      "44 49\n",
      "44 100\n",
      "(array([ 58,  61,  68,  85, 110, 116, 117, 123, 125, 127, 151, 161, 162,\n",
      "       191, 210, 219, 231, 237, 240, 251, 254, 266, 268, 282, 283, 297,\n",
      "       299, 316, 324, 326, 329, 346, 348, 349, 357, 358, 371, 397, 398,\n",
      "       435, 458, 464, 470, 489, 495, 510, 514]),)\n",
      "48\n",
      "49 58\n",
      "49 61\n",
      "49 68\n",
      "49 85\n",
      "49 110\n",
      "49 116\n",
      "49 117\n",
      "49 123\n",
      "49 125\n",
      "49 127\n",
      "49 151\n",
      "49 161\n",
      "49 162\n",
      "49 191\n",
      "49 210\n",
      "49 219\n",
      "49 231\n",
      "49 237\n",
      "49 240\n",
      "49 251\n",
      "49 254\n",
      "49 266\n",
      "49 268\n",
      "49 282\n",
      "49 283\n",
      "49 297\n",
      "49 299\n",
      "49 316\n",
      "49 324\n",
      "49 326\n",
      "49 329\n",
      "49 346\n",
      "49 348\n",
      "49 349\n",
      "49 357\n",
      "49 358\n",
      "49 371\n",
      "49 397\n",
      "49 398\n",
      "49 435\n",
      "49 458\n",
      "49 464\n",
      "49 470\n",
      "49 489\n",
      "49 495\n",
      "49 510\n",
      "49 514\n",
      "(array([ 69,  96, 111]),)\n",
      "50\n",
      "51 69\n",
      "51 96\n",
      "51 111\n",
      "(array([ 89,  92, 133, 201, 203, 248, 249, 293]),)\n",
      "62\n",
      "63 89\n",
      "63 92\n",
      "63 133\n",
      "63 201\n",
      "63 203\n",
      "63 248\n",
      "63 249\n",
      "63 293\n",
      "(array([ 95, 134, 229]),)\n",
      "69\n",
      "70 95\n",
      "70 134\n",
      "70 229\n",
      "(array([120, 212]),)\n",
      "84\n",
      "85 120\n",
      "85 212\n",
      "(array([126, 216, 223, 314]),)\n",
      "88\n",
      "89 126\n",
      "89 216\n",
      "89 223\n",
      "89 314\n",
      "(array([131, 139, 174, 257]),)\n",
      "89\n",
      "90 131\n",
      "90 139\n",
      "90 174\n",
      "90 257\n",
      "(array([129, 150]),)\n",
      "91\n",
      "92 129\n",
      "92 150\n",
      "(array([149, 182, 199, 200, 204, 220, 258, 262, 285, 369]),)\n",
      "107\n",
      "108 149\n",
      "108 182\n",
      "108 199\n",
      "108 200\n",
      "108 204\n",
      "108 220\n",
      "108 258\n",
      "108 262\n",
      "108 285\n",
      "108 369\n",
      "(array([154, 252, 350]),)\n",
      "110\n",
      "111 154\n",
      "111 252\n",
      "111 350\n",
      "(array([160, 221, 250, 330, 363, 408]),)\n",
      "113\n",
      "114 160\n",
      "114 221\n",
      "114 250\n",
      "114 330\n",
      "114 363\n",
      "114 408\n",
      "(array([158, 239]),)\n",
      "114\n",
      "115 158\n",
      "115 239\n",
      "(array([165, 168, 177, 236, 242, 264, 271, 275, 315, 333, 355]),)\n",
      "115\n",
      "116 165\n",
      "116 168\n",
      "116 177\n",
      "116 236\n",
      "116 242\n",
      "116 264\n",
      "116 271\n",
      "116 275\n",
      "116 315\n",
      "116 333\n",
      "116 355\n",
      "(array([167, 172, 215, 227, 259]),)\n",
      "116\n",
      "117 167\n",
      "117 172\n",
      "117 215\n",
      "117 227\n",
      "117 259\n",
      "(array([184, 185]),)\n",
      "129\n",
      "130 184\n",
      "130 185\n",
      "(array([192, 226]),)\n",
      "138\n",
      "139 192\n",
      "139 226\n",
      "(array([193, 294]),)\n",
      "139\n",
      "140 193\n",
      "140 294\n",
      "(array([198, 295]),)\n",
      "141\n",
      "142 198\n",
      "142 295\n",
      "(array([206, 305, 423]),)\n",
      "145\n",
      "146 206\n",
      "146 305\n",
      "146 423\n",
      "(array([228, 290]),)\n",
      "155\n",
      "156 228\n",
      "156 290\n",
      "(array([235, 301, 317, 377, 399, 483]),)\n",
      "160\n",
      "161 235\n",
      "161 301\n",
      "161 317\n",
      "161 377\n",
      "161 399\n",
      "161 483\n",
      "(array([238, 309, 338, 428]),)\n",
      "162\n",
      "163 238\n",
      "163 309\n",
      "163 338\n",
      "163 428\n",
      "(array([243, 272, 337]),)\n",
      "165\n",
      "166 243\n",
      "166 272\n",
      "166 337\n",
      "(array([247, 288, 304, 390, 417]),)\n",
      "168\n",
      "169 247\n",
      "169 288\n",
      "169 304\n",
      "169 390\n",
      "169 417\n",
      "(array([255, 267, 289, 296, 322, 354, 361, 374, 396, 402, 469, 473]),)\n",
      "170\n",
      "171 255\n",
      "171 267\n",
      "171 289\n",
      "171 296\n",
      "171 322\n",
      "171 354\n",
      "171 361\n",
      "171 374\n",
      "171 396\n",
      "171 402\n",
      "171 469\n",
      "171 473\n",
      "(array([280, 393, 401, 509]),)\n",
      "183\n",
      "184 280\n",
      "184 393\n",
      "184 401\n",
      "184 509\n",
      "(array([284, 292, 339, 359, 389, 460]),)\n",
      "187\n",
      "188 284\n",
      "188 292\n",
      "188 339\n",
      "188 359\n",
      "188 389\n",
      "188 460\n",
      "(array([302, 321, 345, 380, 382, 391, 406]),)\n",
      "189\n",
      "190 302\n",
      "190 321\n",
      "190 345\n",
      "190 380\n",
      "190 382\n",
      "190 391\n",
      "190 406\n",
      "(array([287, 403]),)\n",
      "191\n",
      "192 287\n",
      "192 403\n",
      "(array([298, 352]),)\n",
      "192\n",
      "193 298\n",
      "193 352\n",
      "(array([306, 421, 492]),)\n",
      "195\n",
      "196 306\n",
      "196 421\n",
      "196 492\n",
      "(array([312, 381, 411, 454]),)\n",
      "199\n",
      "200 312\n",
      "200 381\n",
      "200 411\n",
      "200 454\n",
      "(array([325, 366]),)\n",
      "204\n",
      "205 325\n",
      "205 366\n",
      "(array([332, 430]),)\n",
      "212\n",
      "213 332\n",
      "213 430\n",
      "(array([340, 426]),)\n",
      "213\n",
      "214 340\n",
      "214 426\n",
      "(array([344, 442]),)\n",
      "217\n",
      "218 344\n",
      "218 442\n",
      "(array([373, 392]),)\n",
      "221\n",
      "222 373\n",
      "222 392\n",
      "(array([360, 451]),)\n",
      "225\n",
      "226 360\n",
      "226 451\n",
      "(array([376, 452, 491, 499]),)\n",
      "229\n",
      "230 376\n",
      "230 452\n",
      "230 491\n",
      "230 499\n",
      "(array([386, 409]),)\n",
      "237\n",
      "238 386\n",
      "238 409\n",
      "(array([395, 494]),)\n",
      "242\n",
      "243 395\n",
      "243 494\n",
      "(array([410, 498]),)\n",
      "245\n",
      "246 410\n",
      "246 498\n",
      "(array([412, 504]),)\n",
      "250\n",
      "251 412\n",
      "251 504\n",
      "(array([422, 479]),)\n",
      "256\n",
      "257 422\n",
      "257 479\n",
      "(array([433, 481]),)\n",
      "260\n",
      "261 433\n",
      "261 481\n",
      "(array([439, 447, 448]),)\n",
      "263\n",
      "264 439\n",
      "264 447\n",
      "264 448\n",
      "(array([453, 461]),)\n",
      "271\n",
      "272 453\n",
      "272 461\n",
      "(array([462, 512]),)\n",
      "279\n",
      "280 462\n",
      "280 512\n",
      "(array([475, 505]),)\n",
      "294\n",
      "295 475\n",
      "295 505\n"
     ]
    }
   ],
   "source": [
    "# pl2.make_spheres(\"deep_labels\")\n",
    "pl2.repair_spheres()"
   ]
  },
  {
   "cell_type": "code",
   "execution_count": 6,
   "id": "gross-advancement",
   "metadata": {},
   "outputs": [],
   "source": [
    "# pl2.mask_loader()\n",
    "# pl2.label_vesicles_simply(within_segmentation_region = False)\n",
    "# pl2.make_spheres()"
   ]
  },
  {
   "cell_type": "code",
   "execution_count": 10,
   "id": "impressive-wednesday",
   "metadata": {},
   "outputs": [
    {
     "name": "stdout",
     "output_type": "stream",
     "text": [
      "Prepyto Pipeline: visualizing two sets of labels. To continue, close napari window\n"
     ]
    }
   ],
   "source": [
    "# pl2.visualization_old_new('sphere_labels','deep_mask')\n",
    "# pl2.visualization_old_new('deep_labels','deep_mask')\n",
    "pl2.visualization_old_new('deep_labels','sphere_labels')\n",
    "# pl2.visualization_old_new('convex_labels','sphere_labels')\n",
    "# pl2.visualization_old_new('deep_labels', 'convex_labels')"
   ]
  },
  {
   "cell_type": "code",
   "execution_count": 19,
   "id": "naughty-fight",
   "metadata": {},
   "outputs": [
    {
     "name": "stdout",
     "output_type": "stream",
     "text": [
      "Prepyto Pipeline: visualizing two sets of labels. To continue, close napari window\n"
     ]
    }
   ],
   "source": [
    "pl2.visualization_old_new('deep_labels','sphere_labels')"
   ]
  },
  {
   "cell_type": "code",
   "execution_count": null,
   "id": "wooden-appearance",
   "metadata": {},
   "outputs": [],
   "source": [
    "pl2.compute_sphere_dataframe('deep_labels')"
   ]
  },
  {
   "cell_type": "code",
   "execution_count": 13,
   "id": "steady-corpus",
   "metadata": {},
   "outputs": [
    {
     "data": {
      "text/plain": [
       "array([[<AxesSubplot:title={'center':'thickness'}>,\n",
       "        <AxesSubplot:title={'center':'density'}>],\n",
       "       [<AxesSubplot:title={'center':'radius'}>,\n",
       "        <AxesSubplot:title={'center':'mahalanobis'}>]], dtype=object)"
      ]
     },
     "execution_count": 13,
     "metadata": {},
     "output_type": "execute_result"
    },
    {
     "data": {
      "image/png": "[encoded data removed]",
      "text/plain": [
       "<Figure size 432x288 with 4 Axes>"
      ]
     },
     "metadata": {
      "needs_background": "light"
     },
     "output_type": "display_data"
    }
   ],
   "source": [
    "pl2.sphere_df[pl2.sphere_df.density > -10].hist()\n",
    "#pl2.identify_spheres_outliers(min_mahalanobis_distance=0)\n",
    "#pl2.fix_spheres_interactively('sphere_labels')"
   ]
  },
  {
   "cell_type": "code",
   "execution_count": 21,
   "id": "recreational-roads",
   "metadata": {},
   "outputs": [
    {
     "name": "stdout",
     "output_type": "stream",
     "text": [
      "0: prepyto\n",
      "1: Dummy_84_trim.rec.nad\n",
      "2: az.mod\n",
      "3: cytomask.mrc.tar.bz2\n",
      "4: labels_out.mrc\n",
      "5: labels_out.mrc.tar.bz2\n",
      "6: merge.mod\n",
      "7: cell_outline.mod\n",
      "8: Dummy_84_trim.rec\n",
      "9: prepyto_trimtest.ipynb\n",
      "10: deep\n",
      "11: azmask.mrc.tar.bz2\n",
      "12: sv.mrc.tar.bz2\n",
      "Which mrc do you want to use as a reference for evaluation (give the number) ?4\n",
      "/mnt/data/amin/Handpicked/84/labels_out.mrc\n",
      "0: Dummy_84_trim.rec_sphere.mrc\n",
      "1: Dummy_84_trim.rec_sphere_dataframe.pkl\n",
      "2: Dummy_84_trim.rec_cytomask.mrc\n",
      "3: Dummy_84_trim.rec_deep_labels.mrc\n",
      "4: Dummy_84_trim.rec_zoomed_mask.mrc\n",
      "Which mrc do you want to use as a reference for evaluation (give the number) ?4\n",
      "/mnt/data/amin/Handpicked/84/prepyto/Dummy_84_trim.rec_zoomed_mask.mrc\n",
      "(276, 1366, 894)\n",
      "true positive: 0\n",
      "true negative: 316431839\n",
      "false positive: 0\n",
      "false negative: 20620465\n",
      "The Pixel Accuracy is: 0.938821171802463\n",
      "The  Intersection-Over-Union is: 0.0\n",
      "The Dice Metric: 0.0\n",
      "Former Dice: 0.8491070669727658\n"
     ]
    }
   ],
   "source": [
    "# pl2.visualization_old_new('deep_labels','deep_mask')\n",
    "# pl2.make_spheres()\n",
    "# pl2.get_vesicles_from_mod([1,2,3],\"active_zone.mrc\",)\n",
    "pl2.evaluation()"
   ]
  },
  {
   "cell_type": "code",
   "execution_count": 5,
   "id": "objective-moore",
   "metadata": {},
   "outputs": [
    {
     "name": "stdout",
     "output_type": "stream",
     "text": [
      "0: prepyto\n",
      "1: az.mod\n",
      "2: cytomask.mrc.tar.bz2\n",
      "3: labels_out.mrc\n",
      "4: labels_out.mrc.tar.bz2\n",
      "5: merge.mod\n",
      "6: cell_outline.mod\n",
      "7: Dummy_133_trim.rec\n",
      "8: prepyto_trimtest.ipynb\n",
      "9: deep\n",
      "10: pyto\n",
      "11: olddeep\n",
      "12: azmask.mrc.tar.bz2\n",
      "13: oldprepyto\n",
      "14: .ipynb_checkpoints\n",
      "15: Dummy_133_trim.rec.nad\n",
      "16: sv.mrc.tar.bz2\n",
      "Which mrc do you want to use as a reference for evaluation (give the number) ?3\n",
      "/mnt/data/amin/Handpicked/133_wtko/analysis_062021/labels_out.mrc\n",
      "0: Dummy_133_trim.rec_sphere_dataframe.pkl\n",
      "1: Dummy_133_trim.rec_sphere.mrc\n",
      "2: Dummy_133_trim.rec_deep_labels.mrc\n",
      "3: Dummy_133_trim.rec_zoomed_mask.mrc\n",
      "4: Dummy_133_trim.rec_cytomask.mrc\n",
      "Which mrc do you want to use as a reference for evaluation (give the number) ?1\n",
      "/mnt/data/amin/Handpicked/133_wtko/analysis_062021/oldprepyto/Dummy_133_trim.rec_sphere.mrc\n"
     ]
    },
    {
     "ename": "FileNotFoundError",
     "evalue": "[Errno 2] No such file or directory: 'oldprepyto'",
     "output_type": "error",
     "traceback": [
      "\u001b[0;31m---------------------------------------------------------------------------\u001b[0m",
      "\u001b[0;31mFileNotFoundError\u001b[0m                         Traceback (most recent call last)",
      "\u001b[0;32m<ipython-input-5-20ec7408cc46>\u001b[0m in \u001b[0;36m<module>\u001b[0;34m\u001b[0m\n\u001b[0;32m----> 1\u001b[0;31m \u001b[0mpl2\u001b[0m\u001b[0;34m.\u001b[0m\u001b[0mevaluation\u001b[0m\u001b[0;34m(\u001b[0m\u001b[0;32mNone\u001b[0m\u001b[0;34m,\u001b[0m\u001b[0;34m\"oldprepyto\"\u001b[0m\u001b[0;34m)\u001b[0m\u001b[0;34m\u001b[0m\u001b[0;34m\u001b[0m\u001b[0m\n\u001b[0m",
      "\u001b[0;32m~/PycharmProjects/final_prepyto/prepyto/pipeline.py\u001b[0m in \u001b[0;36mevaluation\u001b[0;34m(self, reference_path, prediction_path)\u001b[0m\n\u001b[1;32m    619\u001b[0m         \u001b[0;32melse\u001b[0m\u001b[0;34m:\u001b[0m\u001b[0;34m\u001b[0m\u001b[0;34m\u001b[0m\u001b[0m\n\u001b[1;32m    620\u001b[0m             \u001b[0mrediction_path\u001b[0m \u001b[0;34m=\u001b[0m \u001b[0mmrc_cleaner\u001b[0m\u001b[0;34m.\u001b[0m\u001b[0mask_file_path\u001b[0m\u001b[0;34m(\u001b[0m\u001b[0mself\u001b[0m\u001b[0;34m.\u001b[0m\u001b[0mdir\u001b[0m \u001b[0;34m/\u001b[0m \u001b[0mprediction_path\u001b[0m\u001b[0;34m,\u001b[0m \u001b[0mfile_extension\u001b[0m\u001b[0;34m=\u001b[0m\u001b[0;34m(\u001b[0m\u001b[0;34m'.mrc'\u001b[0m\u001b[0;34m)\u001b[0m\u001b[0;34m)\u001b[0m\u001b[0;34m\u001b[0m\u001b[0;34m\u001b[0m\u001b[0m\n\u001b[0;32m--> 621\u001b[0;31m             \u001b[0mprediction\u001b[0m \u001b[0;34m=\u001b[0m \u001b[0mmrcfile\u001b[0m\u001b[0;34m.\u001b[0m\u001b[0mopen\u001b[0m\u001b[0;34m(\u001b[0m\u001b[0mprediction_path\u001b[0m\u001b[0;34m)\u001b[0m\u001b[0;34m\u001b[0m\u001b[0;34m\u001b[0m\u001b[0m\n\u001b[0m\u001b[1;32m    622\u001b[0m             \u001b[0;31m# prediction = self.last_output_array\u001b[0m\u001b[0;34m\u001b[0m\u001b[0;34m\u001b[0m\u001b[0;34m\u001b[0m\u001b[0m\n\u001b[1;32m    623\u001b[0m \u001b[0;34m\u001b[0m\u001b[0m\n",
      "\u001b[0;32m~/anaconda3/envs/DeepVesicles/lib/python3.8/site-packages/mrcfile/load_functions.py\u001b[0m in \u001b[0;36mopen\u001b[0;34m(name, mode, permissive, header_only)\u001b[0m\n\u001b[1;32m    136\u001b[0m             \u001b[0;32melif\u001b[0m \u001b[0mstart\u001b[0m\u001b[0;34m[\u001b[0m\u001b[0;34m:\u001b[0m\u001b[0;36m2\u001b[0m\u001b[0;34m]\u001b[0m \u001b[0;34m==\u001b[0m \u001b[0;34mb'BZ'\u001b[0m\u001b[0;34m:\u001b[0m\u001b[0;34m\u001b[0m\u001b[0;34m\u001b[0m\u001b[0m\n\u001b[1;32m    137\u001b[0m                 \u001b[0mNewMrc\u001b[0m \u001b[0;34m=\u001b[0m \u001b[0mBzip2MrcFile\u001b[0m\u001b[0;34m\u001b[0m\u001b[0;34m\u001b[0m\u001b[0m\n\u001b[0;32m--> 138\u001b[0;31m     return NewMrc(name, mode=mode, permissive=permissive,\n\u001b[0m\u001b[1;32m    139\u001b[0m                   header_only=header_only)\n\u001b[1;32m    140\u001b[0m \u001b[0;34m\u001b[0m\u001b[0m\n",
      "\u001b[0;32m~/anaconda3/envs/DeepVesicles/lib/python3.8/site-packages/mrcfile/mrcfile.py\u001b[0m in \u001b[0;36m__init__\u001b[0;34m(self, name, mode, overwrite, permissive, header_only, **kwargs)\u001b[0m\n\u001b[1;32m    106\u001b[0m         \u001b[0mself\u001b[0m\u001b[0;34m.\u001b[0m\u001b[0m_read_only\u001b[0m \u001b[0;34m=\u001b[0m \u001b[0;34m(\u001b[0m\u001b[0mself\u001b[0m\u001b[0;34m.\u001b[0m\u001b[0m_mode\u001b[0m \u001b[0;34m==\u001b[0m \u001b[0;34m'r'\u001b[0m\u001b[0;34m)\u001b[0m\u001b[0;34m\u001b[0m\u001b[0;34m\u001b[0m\u001b[0m\n\u001b[1;32m    107\u001b[0m \u001b[0;34m\u001b[0m\u001b[0m\n\u001b[0;32m--> 108\u001b[0;31m         \u001b[0mself\u001b[0m\u001b[0;34m.\u001b[0m\u001b[0m_open_file\u001b[0m\u001b[0;34m(\u001b[0m\u001b[0mname\u001b[0m\u001b[0;34m)\u001b[0m\u001b[0;34m\u001b[0m\u001b[0;34m\u001b[0m\u001b[0m\n\u001b[0m\u001b[1;32m    109\u001b[0m \u001b[0;34m\u001b[0m\u001b[0m\n\u001b[1;32m    110\u001b[0m         \u001b[0;32mtry\u001b[0m\u001b[0;34m:\u001b[0m\u001b[0;34m\u001b[0m\u001b[0;34m\u001b[0m\u001b[0m\n",
      "\u001b[0;32m~/anaconda3/envs/DeepVesicles/lib/python3.8/site-packages/mrcfile/mrcfile.py\u001b[0m in \u001b[0;36m_open_file\u001b[0;34m(self, name)\u001b[0m\n\u001b[1;32m    123\u001b[0m     \u001b[0;32mdef\u001b[0m \u001b[0m_open_file\u001b[0m\u001b[0;34m(\u001b[0m\u001b[0mself\u001b[0m\u001b[0;34m,\u001b[0m \u001b[0mname\u001b[0m\u001b[0;34m)\u001b[0m\u001b[0;34m:\u001b[0m\u001b[0;34m\u001b[0m\u001b[0;34m\u001b[0m\u001b[0m\n\u001b[1;32m    124\u001b[0m         \u001b[0;34m\"\"\"Open a file object to use as the I/O stream.\"\"\"\u001b[0m\u001b[0;34m\u001b[0m\u001b[0;34m\u001b[0m\u001b[0m\n\u001b[0;32m--> 125\u001b[0;31m         \u001b[0mself\u001b[0m\u001b[0;34m.\u001b[0m\u001b[0m_iostream\u001b[0m \u001b[0;34m=\u001b[0m \u001b[0mopen\u001b[0m\u001b[0;34m(\u001b[0m\u001b[0mname\u001b[0m\u001b[0;34m,\u001b[0m \u001b[0mself\u001b[0m\u001b[0;34m.\u001b[0m\u001b[0m_mode\u001b[0m \u001b[0;34m+\u001b[0m \u001b[0;34m'b'\u001b[0m\u001b[0;34m)\u001b[0m\u001b[0;34m\u001b[0m\u001b[0;34m\u001b[0m\u001b[0m\n\u001b[0m\u001b[1;32m    126\u001b[0m \u001b[0;34m\u001b[0m\u001b[0m\n\u001b[1;32m    127\u001b[0m     \u001b[0;32mdef\u001b[0m \u001b[0m_read\u001b[0m\u001b[0;34m(\u001b[0m\u001b[0mself\u001b[0m\u001b[0;34m,\u001b[0m \u001b[0mheader_only\u001b[0m\u001b[0;34m=\u001b[0m\u001b[0;32mFalse\u001b[0m\u001b[0;34m)\u001b[0m\u001b[0;34m:\u001b[0m\u001b[0;34m\u001b[0m\u001b[0;34m\u001b[0m\u001b[0m\n",
      "\u001b[0;31mFileNotFoundError\u001b[0m: [Errno 2] No such file or directory: 'oldprepyto'"
     ]
    }
   ],
   "source": [
    "pl2.evaluation(None,\"oldprepyto\")\n"
   ]
  },
  {
   "cell_type": "code",
   "execution_count": 15,
   "id": "known-assurance",
   "metadata": {},
   "outputs": [],
   "source": [
    "import mrc_cleaner\n",
    "import mrcfile\n",
    "import numpy as np"
   ]
  },
  {
   "cell_type": "code",
   "execution_count": 19,
   "id": "capable-specification",
   "metadata": {},
   "outputs": [
    {
     "name": "stdout",
     "output_type": "stream",
     "text": [
      "0: prepyto\n",
      "1: labels-16bit.mrc\n",
      "2: cell_outline.mod\n",
      "3: active_zone.mod\n",
      "4: 01.rec\n",
      "5: deep\n",
      "6: 1.nad.rec.nad\n",
      "Which mrc do you want to use as a reference for evaluation (give the number) ?1\n",
      "/mnt/data/amin/Handpicked/spray_ctrl_10/labels-16bit.mrc\n",
      "0: 1.nad.rec_zoomed_mask.mrc\n",
      "1: 1.nad.rec_deep_labels.mrc\n",
      "2: 1.nad.rec_cytomask.mrc\n",
      "3: 1.nad.rec_sphere_dataframe.pkl\n",
      "4: 1.nad.rec_sphere.mrc\n",
      "Which mrc do you want to use as a reference for evaluation (give the number) ?4\n",
      "/mnt/data/amin/Handpicked/spray_ctrl_10/prepyto/1.nad.rec_sphere.mrc\n"
     ]
    }
   ],
   "source": [
    "reference_path = mrc_cleaner.ask_file_path(pl2.dir, file_extension=('.mrc'))\n",
    "prediction_path = mrc_cleaner.ask_file_path(pl2.save_dir, file_extension=('.mrc'))\n",
    "\n",
    "reference = mrcfile.open(reference_path)\n",
    "prediction = mrcfile.open(prediction_path)\n",
    "\n",
    "reference = reference.data>=10\n",
    "prediction = prediction.data\n"
   ]
  },
  {
   "cell_type": "code",
   "execution_count": 20,
   "id": "specific-projector",
   "metadata": {},
   "outputs": [
    {
     "name": "stdout",
     "output_type": "stream",
     "text": [
      "(256, 684, 684) [False  True]\n",
      "(1, 256, 684, 684) [  0   1   2   3   4   5   6   7   8   9  10  11  12  13  14  15  16  17\n",
      "  18  19  20  21  22  23  24  25  27  28  29  30  31  32  33  34  35  36\n",
      "  37  38  39  40  41  42  43  44  45  46  47  48  49  50  51  52  53  54\n",
      "  55  56  57  58  59  60  61  62  63  64  65  66  67  69  70  71  72  73\n",
      "  74  75  76  77  78  79  80  81  82  83  84  85  87  88  89  90  91  92\n",
      "  93  94  95  96  97  98  99 100 101 102 103 104 105 106 107 108 109 110\n",
      " 111 112 113 114 115 116 117 118 119 120 121 122 123 124 125 126 127 128\n",
      " 129 130 131 132 133 134 135 136 137 138 139 140 141 142 143 144 145 146\n",
      " 147 148 149 150 151 152 153 154 155 156 157 158 159 160 161 162 163 164\n",
      " 165]\n"
     ]
    }
   ],
   "source": [
    "# prediction.setflags(write=1)\n",
    "# prediction[np.where(prediction >= 10)] = 1\n",
    "# prediction[np.where(prediction >= 1 & (prediction < 10))] = 0\n",
    "print(np.shape(reference),np.unique(reference))\n",
    "print(np.shape([prediction]),np.unique(prediction))"
   ]
  },
  {
   "cell_type": "code",
   "execution_count": 30,
   "id": "conventional-account",
   "metadata": {},
   "outputs": [
    {
     "data": {
      "text/plain": [
       "(119771136,)"
      ]
     },
     "execution_count": 30,
     "metadata": {},
     "output_type": "execute_result"
    }
   ],
   "source": [
    "np.shape(prediction.flatten())\n",
    "np.shape(reference.flatten())"
   ]
  },
  {
   "cell_type": "code",
   "execution_count": 20,
   "id": "small-murray",
   "metadata": {},
   "outputs": [
    {
     "data": {
      "text/plain": [
       "PosixPath('/mnt/data/amin/Handpicked/spray_ctrl_10/labels-16bit.mrc')"
      ]
     },
     "execution_count": 20,
     "metadata": {},
     "output_type": "execute_result"
    }
   ],
   "source": [
    "reference_path"
   ]
  },
  {
   "cell_type": "code",
   "execution_count": 6,
   "id": "secret-tuesday",
   "metadata": {},
   "outputs": [
    {
     "name": "stdout",
     "output_type": "stream",
     "text": [
      "Prepyto Pipeline: visualizing two sets of labels. To continue, close napari window\n"
     ]
    }
   ],
   "source": [
    "pl2.visualization_old_new('deep_mask','deep_labels')"
   ]
  },
  {
   "cell_type": "code",
   "execution_count": null,
   "id": "tracked-aquarium",
   "metadata": {},
   "outputs": [],
   "source": [
    "# print(pl2.deep_labels)\n",
    "import prepyto.visualization\n",
    "import mrcfile\n",
    "prepyto.visualization.viz_labels(pl2.image,[pl2.deep_labels,mrcfile.open(dataset_directory+\"/sv.mrc\").data],[\"deep\",\"hand\"])"
   ]
  },
  {
   "cell_type": "code",
   "execution_count": null,
   "id": "boolean-payroll",
   "metadata": {},
   "outputs": [],
   "source": [
    "pl2 = prepyto.Pipeline(dataset_directory)\n",
    "pl2.setup_prepyto_dir()\n",
    "# pl.run_deep()\n",
    "pl2.run_deep_at_multiple_rescale()\n",
    "pl2.label_vesicles_simply()\n",
    "# pl2.make_spheres()"
   ]
  },
  {
   "cell_type": "code",
   "execution_count": null,
   "id": "relative-battle",
   "metadata": {},
   "outputs": [],
   "source": [
    "pl = prepyto.Pipeline(dataset_directory)\n",
    "pl.setup_prepyto_dir()\n",
    "pl.run_deep()\n",
    "# pl.run_deep_at_multiple_rescale()\n",
    "pl.label_vesicles_simply()\n",
    "pl.make_spheres()"
   ]
  },
  {
   "cell_type": "code",
   "execution_count": null,
   "id": "comparative-villa",
   "metadata": {},
   "outputs": [],
   "source": [
    "pl.make_full_modfile()\n",
    "pl.make_full_label_file()\n",
    "pl.initialize_pyto()"
   ]
  },
  {
   "cell_type": "code",
   "execution_count": null,
   "id": "enhanced-resource",
   "metadata": {},
   "outputs": [],
   "source": [
    "pl.visualization_old_new('sphere_labels','deep_labels')"
   ]
  },
  {
   "cell_type": "code",
   "execution_count": null,
   "id": "objective-spank",
   "metadata": {},
   "outputs": [],
   "source": [
    "pip install napari[all]"
   ]
  },
  {
   "cell_type": "code",
   "execution_count": null,
   "id": "historical-oxford",
   "metadata": {},
   "outputs": [],
   "source": [
    "pl2.visualization_old_new('sphere_labels','deep_mask')"
   ]
  },
  {
   "cell_type": "code",
   "execution_count": null,
   "id": "extended-decimal",
   "metadata": {},
   "outputs": [],
   "source": [
    "pl.visualization_old_new('sphere_labels','deep_labels')"
   ]
  },
  {
   "cell_type": "code",
   "execution_count": null,
   "id": "recreational-worth",
   "metadata": {},
   "outputs": [],
   "source": [
    "pl2.visualization_old_new('sphere_labels','deep_labels')"
   ]
  },
  {
   "cell_type": "code",
   "execution_count": null,
   "id": "second-opportunity",
   "metadata": {},
   "outputs": [],
   "source": [
    "dataset_directory = \"/mnt/data/Dropbox/microscopic_anatomy Dropbox/Pyto/neurons/Julikas Handpicked Tomograms/tomograms of neurons/128_wtko\"\n",
    "pl3 = prepyto.Pipeline(dataset_directory)\n",
    "pl3.setup_prepyto_dir()\n",
    "# pl2.run_deep()\n",
    "# pl2.zoom()\n",
    "pl3.run_deep_at_multiple_rescale()\n",
    "pl3.label_vesicles_simply()\n",
    "pl3.make_spheres()"
   ]
  },
  {
   "cell_type": "code",
   "execution_count": null,
   "id": "controversial-driver",
   "metadata": {},
   "outputs": [],
   "source": []
  },
  {
   "cell_type": "code",
   "execution_count": 9,
   "id": "rolled-cricket",
   "metadata": {},
   "outputs": [],
   "source": [
    "import pandas as pd\n",
    "import seaborn as sns\n",
    "import os\n",
    "import matplotlib.pyplot as plt\n",
    "#sns.set(style=\"darkgrid\")\n",
    "#sns.set(style=\"whitegrid\")\n",
    "#sns.set_style(\"white\")\n",
    "sns.set(style=\"whitegrid\",font_scale=2)\n",
    "import matplotlib.collections as clt\n",
    "import numpy as np\n",
    "\n",
    "import ptitprince as pt"
   ]
  },
  {
   "cell_type": "code",
   "execution_count": 46,
   "id": "bulgarian-export",
   "metadata": {},
   "outputs": [],
   "source": [
    "a= [0.832487938292305\n",
    ",0.798540290828815\n",
    ",0.714551179746554\n",
    ",0.640108944450694\n",
    ",0.724767879330568\n",
    ",0.638337532322992\n",
    ",0.781323458116666\n",
    ",0.744054008874589\n",
    ",0.82945315325091\n",
    ",0.712939362389386\n",
    ",0.857059225807527]\n"
   ]
  },
  {
   "cell_type": "code",
   "execution_count": 47,
   "id": "rocky-demographic",
   "metadata": {},
   "outputs": [],
   "source": [
    "b=[0.761951421601278\n",
    ",0.734899868614882\n",
    ",0.648678911524424\n",
    ",0.56869403665753\n",
    ",0.643296124065601\n",
    ",0.636629354141272\n",
    ",0.668105941089743\n",
    ",0.689545802263874\n",
    ",0.777166491806761\n",
    ",0.695381596017663\n",
    ",0.849107066972766]\n"
   ]
  },
  {
   "cell_type": "code",
   "execution_count": 41,
   "id": "interpreted-muslim",
   "metadata": {},
   "outputs": [],
   "source": [
    "df= pd.DataFrame(data)"
   ]
  },
  {
   "cell_type": "code",
   "execution_count": 40,
   "id": "static-packing",
   "metadata": {},
   "outputs": [],
   "source": [
    "data = {'State': ['After Post Processing','After Post Processing','After Post Processing','After Post Processing','After Post Processing','After Post Processing','After Post Processing','After Post Processing','After Post Processing','After Post Processing','After Post Processing',\n",
    "                  'Raw Deep Model Output','Raw Deep Model Output','Raw Deep Model Output','Raw Deep Model Output','Raw Deep Model Output','Raw Deep Model Output','Raw Deep Model Output','Raw Deep Model Output','Raw Deep Model Output','Raw Deep Model Output','Raw Deep Model Output'],\n",
    "        'Dice':[0.832487938292305\n",
    ",0.798540290828815\n",
    ",0.714551179746554\n",
    ",0.640108944450694\n",
    ",0.724767879330568\n",
    ",0.638337532322992\n",
    ",0.781323458116666\n",
    ",0.744054008874589\n",
    ",0.82945315325091\n",
    ",0.712939362389386\n",
    ",0.857059225807527,\n",
    "0.761951421601278\n",
    ",0.734899868614882\n",
    ",0.648678911524424\n",
    ",0.56869403665753\n",
    ",0.643296124065601\n",
    ",0.636629354141272\n",
    ",0.668105941089743\n",
    ",0.689545802263874\n",
    ",0.777166491806761\n",
    ",0.695381596017663\n",
    ",0.849107066972766]}"
   ]
  },
  {
   "cell_type": "code",
   "execution_count": 42,
   "id": "conceptual-prerequisite",
   "metadata": {},
   "outputs": [
    {
     "data": {
      "text/html": [
       "<div>\n",
       "<style scoped>\n",
       "    .dataframe tbody tr th:only-of-type {\n",
       "        vertical-align: middle;\n",
       "    }\n",
       "\n",
       "    .dataframe tbody tr th {\n",
       "        vertical-align: top;\n",
       "    }\n",
       "\n",
       "    .dataframe thead th {\n",
       "        text-align: right;\n",
       "    }\n",
       "</style>\n",
       "<table border=\"1\" class=\"dataframe\">\n",
       "  <thead>\n",
       "    <tr style=\"text-align: right;\">\n",
       "      <th></th>\n",
       "      <th>State</th>\n",
       "      <th>Dice</th>\n",
       "    </tr>\n",
       "  </thead>\n",
       "  <tbody>\n",
       "    <tr>\n",
       "      <th>0</th>\n",
       "      <td>After Post Processing</td>\n",
       "      <td>0.832488</td>\n",
       "    </tr>\n",
       "    <tr>\n",
       "      <th>1</th>\n",
       "      <td>After Post Processing</td>\n",
       "      <td>0.798540</td>\n",
       "    </tr>\n",
       "    <tr>\n",
       "      <th>2</th>\n",
       "      <td>After Post Processing</td>\n",
       "      <td>0.714551</td>\n",
       "    </tr>\n",
       "    <tr>\n",
       "      <th>3</th>\n",
       "      <td>After Post Processing</td>\n",
       "      <td>0.640109</td>\n",
       "    </tr>\n",
       "    <tr>\n",
       "      <th>4</th>\n",
       "      <td>After Post Processing</td>\n",
       "      <td>0.724768</td>\n",
       "    </tr>\n",
       "    <tr>\n",
       "      <th>5</th>\n",
       "      <td>After Post Processing</td>\n",
       "      <td>0.638338</td>\n",
       "    </tr>\n",
       "    <tr>\n",
       "      <th>6</th>\n",
       "      <td>After Post Processing</td>\n",
       "      <td>0.781323</td>\n",
       "    </tr>\n",
       "    <tr>\n",
       "      <th>7</th>\n",
       "      <td>After Post Processing</td>\n",
       "      <td>0.744054</td>\n",
       "    </tr>\n",
       "    <tr>\n",
       "      <th>8</th>\n",
       "      <td>After Post Processing</td>\n",
       "      <td>0.829453</td>\n",
       "    </tr>\n",
       "    <tr>\n",
       "      <th>9</th>\n",
       "      <td>After Post Processing</td>\n",
       "      <td>0.712939</td>\n",
       "    </tr>\n",
       "    <tr>\n",
       "      <th>10</th>\n",
       "      <td>After Post Processing</td>\n",
       "      <td>0.857059</td>\n",
       "    </tr>\n",
       "    <tr>\n",
       "      <th>11</th>\n",
       "      <td>Raw Deep Model Output</td>\n",
       "      <td>0.761951</td>\n",
       "    </tr>\n",
       "    <tr>\n",
       "      <th>12</th>\n",
       "      <td>Raw Deep Model Output</td>\n",
       "      <td>0.734900</td>\n",
       "    </tr>\n",
       "    <tr>\n",
       "      <th>13</th>\n",
       "      <td>Raw Deep Model Output</td>\n",
       "      <td>0.648679</td>\n",
       "    </tr>\n",
       "    <tr>\n",
       "      <th>14</th>\n",
       "      <td>Raw Deep Model Output</td>\n",
       "      <td>0.568694</td>\n",
       "    </tr>\n",
       "    <tr>\n",
       "      <th>15</th>\n",
       "      <td>Raw Deep Model Output</td>\n",
       "      <td>0.643296</td>\n",
       "    </tr>\n",
       "    <tr>\n",
       "      <th>16</th>\n",
       "      <td>Raw Deep Model Output</td>\n",
       "      <td>0.636629</td>\n",
       "    </tr>\n",
       "    <tr>\n",
       "      <th>17</th>\n",
       "      <td>Raw Deep Model Output</td>\n",
       "      <td>0.668106</td>\n",
       "    </tr>\n",
       "    <tr>\n",
       "      <th>18</th>\n",
       "      <td>Raw Deep Model Output</td>\n",
       "      <td>0.689546</td>\n",
       "    </tr>\n",
       "    <tr>\n",
       "      <th>19</th>\n",
       "      <td>Raw Deep Model Output</td>\n",
       "      <td>0.777166</td>\n",
       "    </tr>\n",
       "    <tr>\n",
       "      <th>20</th>\n",
       "      <td>Raw Deep Model Output</td>\n",
       "      <td>0.695382</td>\n",
       "    </tr>\n",
       "    <tr>\n",
       "      <th>21</th>\n",
       "      <td>Raw Deep Model Output</td>\n",
       "      <td>0.849107</td>\n",
       "    </tr>\n",
       "  </tbody>\n",
       "</table>\n",
       "</div>"
      ],
      "text/plain": [
       "                    State      Dice\n",
       "0   After Post Processing  0.832488\n",
       "1   After Post Processing  0.798540\n",
       "2   After Post Processing  0.714551\n",
       "3   After Post Processing  0.640109\n",
       "4   After Post Processing  0.724768\n",
       "5   After Post Processing  0.638338\n",
       "6   After Post Processing  0.781323\n",
       "7   After Post Processing  0.744054\n",
       "8   After Post Processing  0.829453\n",
       "9   After Post Processing  0.712939\n",
       "10  After Post Processing  0.857059\n",
       "11  Raw Deep Model Output  0.761951\n",
       "12  Raw Deep Model Output  0.734900\n",
       "13  Raw Deep Model Output  0.648679\n",
       "14  Raw Deep Model Output  0.568694\n",
       "15  Raw Deep Model Output  0.643296\n",
       "16  Raw Deep Model Output  0.636629\n",
       "17  Raw Deep Model Output  0.668106\n",
       "18  Raw Deep Model Output  0.689546\n",
       "19  Raw Deep Model Output  0.777166\n",
       "20  Raw Deep Model Output  0.695382\n",
       "21  Raw Deep Model Output  0.849107"
      ]
     },
     "execution_count": 42,
     "metadata": {},
     "output_type": "execute_result"
    }
   ],
   "source": [
    "df"
   ]
  },
  {
   "cell_type": "code",
   "execution_count": 44,
   "id": "desperate-lying",
   "metadata": {},
   "outputs": [
    {
     "data": {
      "text/plain": [
       "Text(0.5, 1.0, 'Figure P7\\n Using the pt.Raincloud function')"
      ]
     },
     "execution_count": 44,
     "metadata": {},
     "output_type": "execute_result"
    },
    {
     "data": {
      "image/png": "[encoded data removed]",
      "text/plain": [
       "<Figure size 504x360 with 1 Axes>"
      ]
     },
     "metadata": {},
     "output_type": "display_data"
    }
   ],
   "source": [
    "dx = \"State\"; dy = \"Dice\"; ort = \"h\"; pal = \"Set2\"; sigma = .2\n",
    "f, ax = plt.subplots(figsize=(7, 5))\n",
    "\n",
    "pt.RainCloud(x = dx, y = dy, data = df, palette = pal, bw = sigma,\n",
    "                 width_viol = .6, ax = ax, orient = ort)\n",
    "\n",
    "plt.title(\"Figure P7\\n Using the pt.Raincloud function\")"
   ]
  },
  {
   "cell_type": "code",
   "execution_count": 49,
   "id": "confirmed-deficit",
   "metadata": {},
   "outputs": [],
   "source": [
    "dd= {'After Post Processing':a , 'Raw Deep Model Output':b}"
   ]
  },
  {
   "cell_type": "code",
   "execution_count": 50,
   "id": "modified-comparative",
   "metadata": {},
   "outputs": [],
   "source": [
    "ddd=pd.DataFrame(dd)"
   ]
  },
  {
   "cell_type": "code",
   "execution_count": 57,
   "id": "female-probe",
   "metadata": {},
   "outputs": [
    {
     "data": {
      "text/plain": [
       "Text(0, 0.5, 'Dice')"
      ]
     },
     "execution_count": 57,
     "metadata": {},
     "output_type": "execute_result"
    },
    {
     "data": {
      "image/png": "[encoded data removed]",
      "text/plain": [
       "<Figure size 1440x720 with 1 Axes>"
      ]
     },
     "metadata": {},
     "output_type": "display_data"
    }
   ],
   "source": [
    "ax=ddd.plot.area(figsize=(20,10),stacked=False)\n",
    "ax.set_xlabel(\"Data set\")\n",
    "ax.set_ylabel(\"Dice\")"
   ]
  },
  {
   "cell_type": "code",
   "execution_count": 27,
   "id": "textile-corporation",
   "metadata": {},
   "outputs": [
    {
     "name": "stdout",
     "output_type": "stream",
     "text": [
      "Collecting SimpleITK\n",
      "  Downloading SimpleITK-2.1.1-cp38-cp38-manylinux_2_12_x86_64.manylinux2010_x86_64.whl (48.4 MB)\n",
      "\u001b[K     |████████████████████████████████| 48.4 MB 5.7 MB/s eta 0:00:01\n",
      "\u001b[?25hInstalling collected packages: SimpleITK\n",
      "Successfully installed SimpleITK-2.1.1\n"
     ]
    }
   ],
   "source": [
    "! pip install SimpleITK"
   ]
  },
  {
   "cell_type": "code",
   "execution_count": 45,
   "id": "dried-treat",
   "metadata": {},
   "outputs": [],
   "source": [
    "import numpy as np\n",
    "import SimpleITK as sitk\n",
    "#from os import listdir\n",
    "import matplotlib.pyplot as plt\n",
    "import scipy\n",
    "#import scipy.misc\n",
    "import skimage\n",
    "#from skimage import filters\n",
    "#from skimage import morphology\n",
    "#from skimage.morphology import watershed, white_tophat, black_tophat\n",
    "# from skimage.feature import peak_local_max\n",
    "from skimage.morphology import square, disk\n",
    "import PIL\n",
    "from PIL import Image, ImageOps\n",
    "import mrcfile"
   ]
  },
  {
   "cell_type": "code",
   "execution_count": 42,
   "id": "provincial-dictionary",
   "metadata": {},
   "outputs": [],
   "source": [
    "def remove_obj_boundary(img):\n",
    "    img = img.astype(np.int8)\n",
    "    orImage = sitk.GetImageFromArray(img)\n",
    "    image = np.copy(img)\n",
    "    image[1:-1,1:-1] = 0\n",
    "    sitkImage = sitk.GetImageFromArray(image)\n",
    "    recons_filter = sitk.BinaryReconstructionByDilationImageFilter()\n",
    "    sitkImage = recons_filter.Execute(sitkImage,orImage)\n",
    "    image = sitk.GetArrayFromImage(sitkImage)\n",
    "    final = img - image\n",
    "    return final\n",
    "\n",
    "def radon_cluster_separation(seg, min_hole_size,top_hat_size,min_size):\n",
    "#     This funtion analyses the sinogram of each connected component (object) in the image seg using the Radon transform. \n",
    "#     It calculates the local minima of the sinogram and reconstruct the corresponding segment of that local minima. \n",
    "#     All segments are the candidates to split a cluster. Then the cluster-split is post-processed with the function\n",
    "#     correct_cluster_separation to discard oversegmentations. \n",
    "\n",
    "#     Parameters:\n",
    "#     min_hole: restriction to accept the holes detected in the sinogram. Recommended 25 pixels\n",
    "#     top_hat_size: size of the kernel to enhance the contrast in the sinogram. Recommended 10\n",
    "#     min_size: minimum size (area in pixels) required for the experiment: exosomes diameter is in a range (30,200)nanometers.\n",
    "\n",
    "    final_im = np.zeros(seg.shape)\n",
    "    final_im = final_im.astype(np.int8)\n",
    "#    final_im_os = np.copy(final_im)\n",
    "    counter = 1\n",
    "    for j in range(1 ,np.max(seg)+1):\n",
    "        seg_bin = seg == j\n",
    "        seg_bin = seg_bin.astype(np.uint8)\n",
    "        \n",
    "        if np.sum(seg_bin)>= 2*min_size:            \n",
    "            image = sitk.GetImageFromArray(seg_bin)\n",
    "            image = sitk.ConnectedComponent(image)\n",
    "            fil_label = sitk.LabelShapeStatisticsImageFilter()\n",
    "            fil_label.Execute(image)\n",
    "            for l in fil_label.GetLabels():\n",
    "                BB = fil_label.GetBoundingBox(l)\n",
    "            CI = seg_bin[BB[1]-1:BB[1]+BB[3]+1, BB[0]-1:BB[0]+BB[2]+1]\n",
    "            CI_aux = skimage.morphology.erosion(CI,square(4)) \n",
    "            theta = np.linspace(0., 180., max(CI.shape), endpoint=False)\n",
    "            sinogram = skimage.transform.radon(CI_aux, theta=theta, circle = False)\n",
    "            # Enhance sinogram's edges and intensity differences. \n",
    "            new_sinogram = sinogram + skimage.morphology.white_tophat(sinogram,disk(top_hat_size)) - skimage.morphology.black_tophat(sinogram,disk(top_hat_size))\n",
    "            val = skimage.filters.threshold_otsu(new_sinogram)\n",
    "            sinogram_image = new_sinogram > val\n",
    "            sinogram_image = sinogram_image.astype(np.int)\n",
    "            \n",
    "            # It may happen that inner holes touch image edges in the sinogram. \n",
    "            # Therefore we need to ensure that those wholes won't be removed.\n",
    "            \n",
    "            mask = 1-sinogram_image\n",
    "            mask[:,0] = 0\n",
    "            mask[:,-1] = 0            \n",
    "            sinogram_hole = remove_obj_boundary((mask))\n",
    "            \n",
    "            # Obtain the local minima of each hole. \n",
    "            aux_im = sitk.GetImageFromArray(sinogram_hole)\n",
    "            aux_im = sitk.ConnectedComponent(aux_im)\n",
    "            fil_label = sitk.LabelShapeStatisticsImageFilter()\n",
    "            fil_label.Execute(aux_im)\n",
    "            aux_im = sitk.GetArrayFromImage(aux_im)\n",
    "            group_sep_line = np.zeros(CI.shape)\n",
    "            for l in fil_label.GetLabels():                   \n",
    "                if np.sum(aux_im == l) >= min_hole_size:\n",
    "                    aux = np.min(sinogram[aux_im == l])\n",
    "                    sinogram_hole = np.multiply(sinogram, aux_im == l)\n",
    "                    # We want a line for the reconstruction. \n",
    "                    \n",
    "                        # The point in the sinogram represents the projection of the pixels that lie in a line: \n",
    "                        # the sum of their values. \n",
    "                        # Therefore the projection of a complete segment of value 1 in all its pixels will result \n",
    "                        # in the length of the diagonal of the image == rows in the sinogram: sinogram.shape[0].\n",
    "                    \n",
    "                    reconstruction_fbp = skimage.transform.iradon(sinogram.shape[0]*(sinogram_hole == aux), theta=theta, circle=False)\n",
    "                    \n",
    "                    # Adapt the reconstruction to the Region of Interest (ROI) CI.\n",
    "                    row_l = np.int((reconstruction_fbp.shape[0]-CI.shape[0])/2)\n",
    "                    col_l = np.int((reconstruction_fbp.shape[1]-CI.shape[1])/2)\n",
    "                    im = np.zeros(reconstruction_fbp.shape)\n",
    "                    if row_l == 0 and col_l == 0:\n",
    "                        im[-CI.shape[0]:, -CI.shape[1]:] = CI\n",
    "                    elif row_l == 0:\n",
    "                        im[-CI.shape[0]:, -col_l-CI.shape[1]: -col_l] = CI\n",
    "                    elif col_l == 0:\n",
    "                        im[-row_l-CI.shape[0]:-row_l, -CI.shape[1]:] = CI\n",
    "                    reconstruction_fbp = np.absolute(reconstruction_fbp)                    \n",
    "                    reconstruction_fbp = np.abs(reconstruction_fbp) > 0.3\n",
    "                    reconstruction_fbp = skimage.morphology.binary_dilation(reconstruction_fbp, disk(5))\n",
    "                    reconstruction_fbp = skimage.morphology.thin(reconstruction_fbp)\n",
    "                    im = np.multiply(im,reconstruction_fbp)\n",
    "                    \n",
    "                    if np.sum(np.absolute(im)) > 0:\n",
    "                        sep_line = im > 0\n",
    "                    else:\n",
    "                        sep_line = im\n",
    "                        \n",
    "                    if row_l == 0 and col_l == 0:\n",
    "                        sep_line = sep_line[-CI.shape[0]:, -CI.shape[1]:]\n",
    "                    elif row_l == 0:\n",
    "                        sep_line = sep_line[-CI.shape[0]:, -col_l-CI.shape[1]: -col_l]\n",
    "                    elif col_l == 0:\n",
    "                        sep_line = sep_line[-row_l-CI.shape[0]:-row_l,  -CI.shape[1]:]    \n",
    "                    group_sep_line = group_sep_line + sep_line\n",
    "                    \n",
    "            # Separate the cluster and correct oversegmentation        \n",
    "            sep_line = group_sep_line > 0    \n",
    "            im = np.multiply(CI, 1-sep_line.astype(np.int))            \n",
    "            im = np.multiply(CI, 1-sep_line.astype(np.int))\n",
    "            im = correct_cluster_separation(im,CI, min_size)\n",
    "            aux = np.zeros(im.shape)\n",
    "            for sub_labels in range(1,np.max(im)+1):\n",
    "                aux[im == sub_labels] = counter\n",
    "                counter = counter + 1\n",
    "                \n",
    "            final_im[BB[1]-1:BB[1]+BB[3]+1, BB[0]-1:BB[0]+BB[2]+1] = final_im[BB[1]-1:BB[1]+BB[3]+1, BB[0]-1:BB[0]+BB[2]+1] + aux\n",
    "        else:\n",
    "            seg_bin[seg_bin == 1] = counter\n",
    "            counter = counter + 1\n",
    "            final_im = final_im + seg_bin\n",
    "        # Return an image with labels. \n",
    "        final_im = final_im.astype(np.int8)\n",
    "        \n",
    "    return final_im\n",
    "\n",
    "\n",
    "def correct_cluster_separation(im, CI, min_size):\n",
    "#     After routines for cluster separation it's common to obtain over segmentation of elements. \n",
    "#     This function analyses the resulting cluster-split of an object CI. \n",
    "#     Min_size is the minimum size required for the experiment: exosomes diameter is in a range (30,200)nanometers. \n",
    "    \n",
    "    # Label all connected components.\n",
    "    conncomp = sitk.GetImageFromArray(im)\n",
    "    conncomp = sitk.ConnectedComponent(conncomp)\n",
    "    fil_label = sitk.LabelShapeStatisticsImageFilter()\n",
    "    fil_label.Execute(conncomp)\n",
    "    conncomp = sitk.GetArrayFromImage(conncomp)\n",
    "    labels = np.max(conncomp)\n",
    "    l = 1\n",
    "    while (l <= labels+1):\n",
    "        aux = conncomp == l\n",
    "        aux = aux.astype(np.int8)\n",
    "        aux = sitk.GetImageFromArray(aux)\n",
    "        aux = sitk.BinaryFillhole(aux) # After radon cluster split, holes may appear in the image. \n",
    "        aux = sitk.GetArrayFromImage(aux) \n",
    "        # Correct only too small objects\n",
    "        if np.sum(aux) < min_size:\n",
    "            # Obtain the labels nearby the object\n",
    "            big_aux = skimage.morphology.binary_dilation(aux, square(5))\n",
    "            big_aux = big_aux-aux\n",
    "            side_labels = np.multiply(big_aux,conncomp)\n",
    "            side_labels = np.unique(side_labels[side_labels>0],return_counts=False)\n",
    "            if len(side_labels) == 1:\n",
    "                final_l = side_labels\n",
    "                aux_1 = conncomp == final_l\n",
    "                aux = aux + aux_1\n",
    "            else:\n",
    "                k = 0\n",
    "                final_l = labels+1\n",
    "                for sl in range(len(side_labels)):\n",
    "                    aux_1 = conncomp == side_labels[sl]\n",
    "                    if np.sum(aux_1)>k:\n",
    "                        k = np.sum(aux_1)\n",
    "                        final_l = side_labels[sl]\n",
    "                aux_1 = conncomp == final_l\n",
    "                aux = aux + aux_1\n",
    "            aux = skimage.morphology.binary_dilation(aux,disk(1))\n",
    "            aux = np.multiply(aux,CI)\n",
    "            aux = aux.astype(np.int8)\n",
    "            aux = sitk.GetImageFromArray(aux)\n",
    "            aux = sitk.BinaryFillhole(aux)\n",
    "            aux = sitk.GetArrayFromImage(aux)\n",
    "            # Substitute the new element.\n",
    "            conncomp[aux == 1] = final_l\n",
    "            \n",
    "            # Update labels in connected components.\n",
    "            for j in range(l+1,labels+1):\n",
    "                conncomp[conncomp==j]=j-1\n",
    "            labels = labels-1  \n",
    "        else:\n",
    "            conncomp[aux==1] = l\n",
    "            l = l+1\n",
    "    return conncomp"
   ]
  },
  {
   "cell_type": "code",
   "execution_count": 51,
   "id": "characteristic-engineering",
   "metadata": {},
   "outputs": [
    {
     "name": "stdout",
     "output_type": "stream",
     "text": [
      "(276, 1366, 894)\n"
     ]
    },
    {
     "data": {
      "text/plain": [
       "<matplotlib.image.AxesImage at 0x7f53c0772280>"
      ]
     },
     "execution_count": 51,
     "metadata": {},
     "output_type": "execute_result"
    },
    {
     "data": {
      "image/png": "[encoded data removed]",
      "text/plain": [
       "<Figure size 432x288 with 1 Axes>"
      ]
     },
     "metadata": {
      "needs_background": "light"
     },
     "output_type": "display_data"
    }
   ],
   "source": [
    "deep_labels = mrcfile.open(pl2.deep_labels_path).data\n",
    "print(np.shape(deep_labels))\n",
    "a=radon_cluster_separation( deep_labels[147,:,:] , 50 , 10 , 300 )\n",
    "plt.imshow(a)"
   ]
  },
  {
   "cell_type": "code",
   "execution_count": null,
   "id": "determined-direction",
   "metadata": {},
   "outputs": [],
   "source": []
  }
 ],
 "metadata": {
  "kernelspec": {
   "display_name": "Python 3",
   "language": "python",
   "name": "python3"
  },
  "language_info": {
   "codemirror_mode": {
    "name": "ipython",
    "version": 3
   },
   "file_extension": ".py",
   "mimetype": "text/x-python",
   "name": "python",
   "nbconvert_exporter": "python",
   "pygments_lexer": "ipython3",
   "version": "3.8.8"
  }
 },
 "nbformat": 4,
 "nbformat_minor": 5
}
