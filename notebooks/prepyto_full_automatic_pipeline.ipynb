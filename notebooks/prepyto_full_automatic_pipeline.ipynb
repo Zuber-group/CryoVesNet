{
 "cells": [
  {
   "cell_type": "markdown",
   "id": "military-berlin",
   "metadata": {},
   "source": [
    "# Fully automatic pipeline"
   ]
  },
  {
   "cell_type": "code",
   "execution_count": 1,
   "id": "occasional-macedonia",
   "metadata": {},
   "outputs": [
    {
     "name": "stdout",
     "output_type": "stream",
     "text": [
      "unetmic: tensorflow is missing, some function will fail\n",
      "blocks: tensorflow not found, some function will fail\n"
     ]
    },
    {
     "name": "stderr",
     "output_type": "stream",
     "text": [
      "/Users/bzuber/anaconda3/envs/DeepVesicles/lib/python3.9/site-packages/napari/_qt/__init__.py:37: UserWarning: \n",
      "    napari was tested with QT library `>=5.12.3`.\n",
      "    The version installed is 5.9.7. Please report any issues with this\n",
      "    specific QT version at https://github.com/Napari/napari/issues.\n",
      "    \n",
      "  warn(message=warn_message)\n"
     ]
    },
    {
     "name": "stdout",
     "output_type": "stream",
     "text": [
      "pipeline: tensorflow is not installed, some function will not work.\n"
     ]
    }
   ],
   "source": [
    "import prepyto"
   ]
  },
  {
   "cell_type": "code",
   "execution_count": null,
   "id": "answering-maria",
   "metadata": {},
   "outputs": [],
   "source": [
    "dataset_directory = \"/Users/bzuber/Microscopic Anatomy Dropbox/Benoit Zuber/projects/deepvesicle/data/102_4e_trimmed\""
   ]
  },
  {
   "cell_type": "code",
   "execution_count": 3,
   "id": "challenging-delay",
   "metadata": {},
   "outputs": [
    {
     "name": "stdout",
     "output_type": "stream",
     "text": [
      "Prepyto Pipeline: setting up prepyto directory\n",
      "Prepyto pipeline: Running unet segmentation if there are less than 7 file in ./deep directory\n",
      "Prepyto Pipeline: zooming the unet mask\n",
      "Skipping because a full sized deep mask is already saved on the disk.\n",
      "If you want to force the program to make a new full sized deep mask, set force_run to True.\n",
      "Prepyto Pipeline: running label_vesicles\n",
      "Prepyto Pipeline: restricting labels to segmentation region\n"
     ]
    },
    {
     "name": "stderr",
     "output_type": "stream",
     "text": [
      "finding global threshold on unet mask:   0%|          | 0/20 [00:00<?, ?it/s]"
     ]
    },
    {
     "name": "stdout",
     "output_type": "stream",
     "text": [
      "last output array name: deep_mask\n",
      "last mrc file saved : prepyto/Dummy_102.rec_zoomed_mask.mrc\n"
     ]
    },
    {
     "name": "stderr",
     "output_type": "stream",
     "text": [
      "finding global threshold on unet mask: 100%|██████████| 20/20 [01:31<00:00,  4.56s/it]\n",
      "reorganizing labels after label clean up: 100%|██████████| 2/2 [00:02<00:00,  1.25s/it]\n"
     ]
    },
    {
     "name": "stdout",
     "output_type": "stream",
     "text": [
      "last output array name: deep_labels\n",
      "last mrc file saved : prepyto/Dummy_102.rec_deep_labels.mrc\n",
      "Prepyto Pipeline: Making vesicles spherical.\n"
     ]
    },
    {
     "name": "stderr",
     "output_type": "stream",
     "text": [
      "fitting sphere to vesicles: 100%|██████████| 91/91 [00:05<00:00, 16.15it/s]\n"
     ]
    },
    {
     "name": "stdout",
     "output_type": "stream",
     "text": [
      "last output array name: sphere_labels\n",
      "last mrc file saved : prepyto/Dummy_102.rec_sphere.mrc\n"
     ]
    }
   ],
   "source": [
    "pl = prepyto.Pipeline(dataset_directory)\n",
    "pl.setup_prepyto_dir()\n",
    "pl.run_deep_at_multiple_rescale()\n",
    "pl.label_vesicles_simply()\n",
    "pl.make_spheres()"
   ]
  },
  {
   "cell_type": "code",
   "execution_count": 4,
   "id": "present-military",
   "metadata": {},
   "outputs": [
    {
     "name": "stdout",
     "output_type": "stream",
     "text": [
      "Prepyto Pipeline: making full mod file\n",
      "rearranged labels\n",
      "last output array name: final_vesicle_labels\n",
      "last mrc file saved : prepyto/Dummy_102.rec_final_vesicle_labels.mrc\n",
      "full model file saved to prepyto/full_prepyto.mod\n",
      "Prepyto Pipeline: making full label file\n",
      "saved labels to prepyto/labels.mrc\n",
      "Prepyto Pipeline: setting up pyto folder\n",
      "/Users/bzuber/Microscopic Anatomy Dropbox/Benoit Zuber/projects/deepvesicle/data/102_4e_trimmed/pyto exists. Skipping pyto file creation. To force reinitialization of pyto folder, set overwrite to True\n"
     ]
    }
   ],
   "source": [
    "pl.make_full_modfile()\n",
    "pl.make_full_label_file()\n",
    "pl.initialize_pyto()"
   ]
  }
 ],
 "metadata": {
  "kernelspec": {
   "display_name": "Python 3",
   "language": "python",
   "name": "python3"
  },
  "language_info": {
   "codemirror_mode": {
    "name": "ipython",
    "version": 3
   },
   "file_extension": ".py",
   "mimetype": "text/x-python",
   "name": "python",
   "nbconvert_exporter": "python",
   "pygments_lexer": "ipython3",
   "version": "3.9.1"
  }
 },
 "nbformat": 4,
 "nbformat_minor": 5
}
